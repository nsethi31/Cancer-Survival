{
 "cells": [
  {
   "cell_type": "markdown",
   "metadata": {},
   "source": [
    "# Nishit Sethi "
   ]
  },
  {
   "cell_type": "code",
   "execution_count": 1,
   "metadata": {
    "collapsed": true
   },
   "outputs": [],
   "source": [
    "#Importing required libraries for exploratory data analysis, data manipulation and data visualization\n",
    "\n",
    "import pandas as pd\n",
    "import numpy as np\n",
    "import matplotlib.pyplot as plt\n",
    "import seaborn as sns \n",
    "%matplotlib inline"
   ]
  },
  {
   "cell_type": "code",
   "execution_count": 2,
   "metadata": {
    "collapsed": false
   },
   "outputs": [],
   "source": [
    "#importing the data\n",
    "\n",
    "df=pd.read_csv('C:\\\\Users\\\\User\\\\Downloads\\\\participant_files\\\\participant_files\\\\participant_files\\\\training_data.csv')"
   ]
  },
  {
   "cell_type": "code",
   "execution_count": 3,
   "metadata": {
    "collapsed": false
   },
   "outputs": [
    {
     "data": {
      "text/html": [
       "<div>\n",
       "<style>\n",
       "    .dataframe thead tr:only-child th {\n",
       "        text-align: right;\n",
       "    }\n",
       "\n",
       "    .dataframe thead th {\n",
       "        text-align: left;\n",
       "    }\n",
       "\n",
       "    .dataframe tbody tr th {\n",
       "        vertical-align: top;\n",
       "    }\n",
       "</style>\n",
       "<table border=\"1\" class=\"dataframe\">\n",
       "  <thead>\n",
       "    <tr style=\"text-align: right;\">\n",
       "      <th></th>\n",
       "      <th>id</th>\n",
       "      <th>diagnosis_date</th>\n",
       "      <th>gleason_score</th>\n",
       "      <th>t_score</th>\n",
       "      <th>n_score</th>\n",
       "      <th>m_score</th>\n",
       "      <th>stage</th>\n",
       "      <th>age</th>\n",
       "      <th>race</th>\n",
       "      <th>height</th>\n",
       "      <th>...</th>\n",
       "      <th>symptoms</th>\n",
       "      <th>rd_thrpy</th>\n",
       "      <th>h_thrpy</th>\n",
       "      <th>chm_thrpy</th>\n",
       "      <th>cry_thrpy</th>\n",
       "      <th>brch_thrpy</th>\n",
       "      <th>rad_rem</th>\n",
       "      <th>multi_thrpy</th>\n",
       "      <th>survival_1_year</th>\n",
       "      <th>survival_7_years</th>\n",
       "    </tr>\n",
       "  </thead>\n",
       "  <tbody>\n",
       "    <tr>\n",
       "      <th>0</th>\n",
       "      <td>1</td>\n",
       "      <td>Jun-05</td>\n",
       "      <td>4.0</td>\n",
       "      <td>T1c</td>\n",
       "      <td>N0</td>\n",
       "      <td>M0</td>\n",
       "      <td>I</td>\n",
       "      <td>86.0</td>\n",
       "      <td>4.0</td>\n",
       "      <td>66.0</td>\n",
       "      <td>...</td>\n",
       "      <td>U03</td>\n",
       "      <td>0</td>\n",
       "      <td>0</td>\n",
       "      <td>1</td>\n",
       "      <td>1</td>\n",
       "      <td>0</td>\n",
       "      <td>1</td>\n",
       "      <td>1</td>\n",
       "      <td>1</td>\n",
       "      <td>0</td>\n",
       "    </tr>\n",
       "    <tr>\n",
       "      <th>1</th>\n",
       "      <td>2</td>\n",
       "      <td>Feb-06</td>\n",
       "      <td>8.0</td>\n",
       "      <td>T3a</td>\n",
       "      <td>N1</td>\n",
       "      <td>M0</td>\n",
       "      <td>IV</td>\n",
       "      <td>66.0</td>\n",
       "      <td>2.0</td>\n",
       "      <td>70.0</td>\n",
       "      <td>...</td>\n",
       "      <td>U06,S07</td>\n",
       "      <td>1</td>\n",
       "      <td>1</td>\n",
       "      <td>1</td>\n",
       "      <td>0</td>\n",
       "      <td>0</td>\n",
       "      <td>0</td>\n",
       "      <td>1</td>\n",
       "      <td>1</td>\n",
       "      <td>0</td>\n",
       "    </tr>\n",
       "    <tr>\n",
       "      <th>2</th>\n",
       "      <td>3</td>\n",
       "      <td>Mar-06</td>\n",
       "      <td>9.0</td>\n",
       "      <td>T1a</td>\n",
       "      <td>N0</td>\n",
       "      <td>M0</td>\n",
       "      <td>IIB</td>\n",
       "      <td>84.0</td>\n",
       "      <td>4.0</td>\n",
       "      <td>69.0</td>\n",
       "      <td>...</td>\n",
       "      <td>U01,U02,U03,S10</td>\n",
       "      <td>1</td>\n",
       "      <td>1</td>\n",
       "      <td>0</td>\n",
       "      <td>0</td>\n",
       "      <td>1</td>\n",
       "      <td>1</td>\n",
       "      <td>1</td>\n",
       "      <td>1</td>\n",
       "      <td>1</td>\n",
       "    </tr>\n",
       "    <tr>\n",
       "      <th>3</th>\n",
       "      <td>4</td>\n",
       "      <td>Feb-05</td>\n",
       "      <td>8.0</td>\n",
       "      <td>T2b</td>\n",
       "      <td>N0</td>\n",
       "      <td>M0</td>\n",
       "      <td>IIB</td>\n",
       "      <td>86.0</td>\n",
       "      <td>3.0</td>\n",
       "      <td>69.0</td>\n",
       "      <td>...</td>\n",
       "      <td>U01,U02,S10,O11</td>\n",
       "      <td>0</td>\n",
       "      <td>0</td>\n",
       "      <td>0</td>\n",
       "      <td>1</td>\n",
       "      <td>0</td>\n",
       "      <td>1</td>\n",
       "      <td>1</td>\n",
       "      <td>0</td>\n",
       "      <td>0</td>\n",
       "    </tr>\n",
       "    <tr>\n",
       "      <th>4</th>\n",
       "      <td>5</td>\n",
       "      <td>Dec-01</td>\n",
       "      <td>8.0</td>\n",
       "      <td>T4</td>\n",
       "      <td>N0</td>\n",
       "      <td>M0</td>\n",
       "      <td>IV</td>\n",
       "      <td>78.0</td>\n",
       "      <td>4.0</td>\n",
       "      <td>70.0</td>\n",
       "      <td>...</td>\n",
       "      <td>U01,U03,U05,S07</td>\n",
       "      <td>1</td>\n",
       "      <td>1</td>\n",
       "      <td>1</td>\n",
       "      <td>0</td>\n",
       "      <td>0</td>\n",
       "      <td>0</td>\n",
       "      <td>1</td>\n",
       "      <td>1</td>\n",
       "      <td>0</td>\n",
       "    </tr>\n",
       "  </tbody>\n",
       "</table>\n",
       "<p>5 rows × 33 columns</p>\n",
       "</div>"
      ],
      "text/plain": [
       "   id diagnosis_date  gleason_score t_score n_score m_score stage   age  race  \\\n",
       "0   1         Jun-05            4.0     T1c      N0      M0     I  86.0   4.0   \n",
       "1   2         Feb-06            8.0     T3a      N1      M0    IV  66.0   2.0   \n",
       "2   3         Mar-06            9.0     T1a      N0      M0   IIB  84.0   4.0   \n",
       "3   4         Feb-05            8.0     T2b      N0      M0   IIB  86.0   3.0   \n",
       "4   5         Dec-01            8.0      T4      N0      M0    IV  78.0   4.0   \n",
       "\n",
       "   height        ...                symptoms  rd_thrpy  h_thrpy  chm_thrpy  \\\n",
       "0    66.0        ...                     U03         0        0          1   \n",
       "1    70.0        ...                 U06,S07         1        1          1   \n",
       "2    69.0        ...         U01,U02,U03,S10         1        1          0   \n",
       "3    69.0        ...         U01,U02,S10,O11         0        0          0   \n",
       "4    70.0        ...         U01,U03,U05,S07         1        1          1   \n",
       "\n",
       "   cry_thrpy brch_thrpy  rad_rem  multi_thrpy  survival_1_year  \\\n",
       "0          1          0        1            1                1   \n",
       "1          0          0        0            1                1   \n",
       "2          0          1        1            1                1   \n",
       "3          1          0        1            1                0   \n",
       "4          0          0        0            1                1   \n",
       "\n",
       "   survival_7_years  \n",
       "0                 0  \n",
       "1                 0  \n",
       "2                 1  \n",
       "3                 0  \n",
       "4                 0  \n",
       "\n",
       "[5 rows x 33 columns]"
      ]
     },
     "execution_count": 3,
     "metadata": {},
     "output_type": "execute_result"
    }
   ],
   "source": [
    "#Displaying the data\n",
    "\n",
    "df.head()"
   ]
  },
  {
   "cell_type": "code",
   "execution_count": 4,
   "metadata": {
    "collapsed": false
   },
   "outputs": [
    {
     "data": {
      "text/plain": [
       "(15385, 33)"
      ]
     },
     "execution_count": 4,
     "metadata": {},
     "output_type": "execute_result"
    }
   ],
   "source": [
    "#Displaying the shape of the dataset\n",
    "\n",
    "df.shape"
   ]
  },
  {
   "cell_type": "code",
   "execution_count": 5,
   "metadata": {
    "collapsed": false
   },
   "outputs": [
    {
     "name": "stdout",
     "output_type": "stream",
     "text": [
      "id                          0\n",
      "diagnosis_date              0\n",
      "gleason_score             320\n",
      "t_score                     0\n",
      "n_score                     0\n",
      "m_score                     0\n",
      "stage                       0\n",
      "age                       748\n",
      "race                      165\n",
      "height                   1364\n",
      "weight                   1317\n",
      "family_history           1586\n",
      "first_degree_history     1586\n",
      "previous_cancer          1586\n",
      "smoker                   1586\n",
      "side                        0\n",
      "tumor_diagnosis           303\n",
      "tumor_6_months          10063\n",
      "tumor_1_year             2123\n",
      "psa_diagnosis            1398\n",
      "psa_6_months             9503\n",
      "psa_1_year               2517\n",
      "tea                      1586\n",
      "symptoms                  410\n",
      "rd_thrpy                    0\n",
      "h_thrpy                     0\n",
      "chm_thrpy                   0\n",
      "cry_thrpy                   0\n",
      "brch_thrpy                  0\n",
      "rad_rem                     0\n",
      "multi_thrpy                 0\n",
      "survival_1_year             0\n",
      "survival_7_years            0\n",
      "dtype: int64\n"
     ]
    }
   ],
   "source": [
    "#Checking the number of missing values in each column\n",
    "\n",
    "print(df.isnull().sum())"
   ]
  },
  {
   "cell_type": "code",
   "execution_count": 6,
   "metadata": {
    "collapsed": false
   },
   "outputs": [
    {
     "data": {
      "text/plain": [
       "0    8734\n",
       "1    6651\n",
       "Name: survival_7_years, dtype: int64"
      ]
     },
     "execution_count": 6,
     "metadata": {},
     "output_type": "execute_result"
    }
   ],
   "source": [
    "#Displaying all the possible values & their counts for the target variable\n",
    "\n",
    "df.survival_7_years.value_counts()"
   ]
  },
  {
   "cell_type": "markdown",
   "metadata": {},
   "source": [
    "From the proportion of the target variable, it is evident that the dataset is balanced and hence, no need for performing any oversampling or undersampling techniques."
   ]
  },
  {
   "cell_type": "markdown",
   "metadata": {},
   "source": [
    "# Exploratory Data Analysis"
   ]
  },
  {
   "cell_type": "markdown",
   "metadata": {},
   "source": [
    "## Categorical Variables"
   ]
  },
  {
   "cell_type": "code",
   "execution_count": 7,
   "metadata": {
    "collapsed": false
   },
   "outputs": [
    {
     "data": {
      "text/html": [
       "<div>\n",
       "<style>\n",
       "    .dataframe thead tr:only-child th {\n",
       "        text-align: right;\n",
       "    }\n",
       "\n",
       "    .dataframe thead th {\n",
       "        text-align: left;\n",
       "    }\n",
       "\n",
       "    .dataframe tbody tr th {\n",
       "        vertical-align: top;\n",
       "    }\n",
       "</style>\n",
       "<table border=\"1\" class=\"dataframe\">\n",
       "  <thead>\n",
       "    <tr style=\"text-align: right;\">\n",
       "      <th></th>\n",
       "      <th>count</th>\n",
       "      <th>mean</th>\n",
       "      <th>std</th>\n",
       "      <th>min</th>\n",
       "      <th>25%</th>\n",
       "      <th>50%</th>\n",
       "      <th>75%</th>\n",
       "      <th>max</th>\n",
       "    </tr>\n",
       "  </thead>\n",
       "  <tbody>\n",
       "    <tr>\n",
       "      <th>id</th>\n",
       "      <td>15385.0</td>\n",
       "      <td>7693.000000</td>\n",
       "      <td>4441.411281</td>\n",
       "      <td>1.0</td>\n",
       "      <td>3847.0</td>\n",
       "      <td>7693.0</td>\n",
       "      <td>11539.0</td>\n",
       "      <td>15385.0</td>\n",
       "    </tr>\n",
       "    <tr>\n",
       "      <th>gleason_score</th>\n",
       "      <td>15065.0</td>\n",
       "      <td>7.299967</td>\n",
       "      <td>1.933395</td>\n",
       "      <td>3.0</td>\n",
       "      <td>6.0</td>\n",
       "      <td>7.0</td>\n",
       "      <td>9.0</td>\n",
       "      <td>14.0</td>\n",
       "    </tr>\n",
       "    <tr>\n",
       "      <th>age</th>\n",
       "      <td>14637.0</td>\n",
       "      <td>76.901073</td>\n",
       "      <td>9.617403</td>\n",
       "      <td>32.0</td>\n",
       "      <td>71.0</td>\n",
       "      <td>78.0</td>\n",
       "      <td>84.0</td>\n",
       "      <td>107.0</td>\n",
       "    </tr>\n",
       "    <tr>\n",
       "      <th>race</th>\n",
       "      <td>15220.0</td>\n",
       "      <td>3.480486</td>\n",
       "      <td>0.953454</td>\n",
       "      <td>1.0</td>\n",
       "      <td>3.0</td>\n",
       "      <td>4.0</td>\n",
       "      <td>4.0</td>\n",
       "      <td>4.0</td>\n",
       "    </tr>\n",
       "    <tr>\n",
       "      <th>height</th>\n",
       "      <td>14021.0</td>\n",
       "      <td>69.151202</td>\n",
       "      <td>1.127451</td>\n",
       "      <td>65.0</td>\n",
       "      <td>68.0</td>\n",
       "      <td>69.0</td>\n",
       "      <td>70.0</td>\n",
       "      <td>73.0</td>\n",
       "    </tr>\n",
       "    <tr>\n",
       "      <th>weight</th>\n",
       "      <td>14068.0</td>\n",
       "      <td>176.800043</td>\n",
       "      <td>17.211988</td>\n",
       "      <td>118.0</td>\n",
       "      <td>166.0</td>\n",
       "      <td>174.0</td>\n",
       "      <td>184.0</td>\n",
       "      <td>343.0</td>\n",
       "    </tr>\n",
       "    <tr>\n",
       "      <th>family_history</th>\n",
       "      <td>13799.0</td>\n",
       "      <td>0.423871</td>\n",
       "      <td>0.613645</td>\n",
       "      <td>0.0</td>\n",
       "      <td>0.0</td>\n",
       "      <td>0.0</td>\n",
       "      <td>1.0</td>\n",
       "      <td>5.0</td>\n",
       "    </tr>\n",
       "    <tr>\n",
       "      <th>first_degree_history</th>\n",
       "      <td>13799.0</td>\n",
       "      <td>0.211899</td>\n",
       "      <td>0.460531</td>\n",
       "      <td>0.0</td>\n",
       "      <td>0.0</td>\n",
       "      <td>0.0</td>\n",
       "      <td>0.0</td>\n",
       "      <td>4.0</td>\n",
       "    </tr>\n",
       "    <tr>\n",
       "      <th>previous_cancer</th>\n",
       "      <td>13799.0</td>\n",
       "      <td>0.068773</td>\n",
       "      <td>0.253077</td>\n",
       "      <td>0.0</td>\n",
       "      <td>0.0</td>\n",
       "      <td>0.0</td>\n",
       "      <td>0.0</td>\n",
       "      <td>1.0</td>\n",
       "    </tr>\n",
       "    <tr>\n",
       "      <th>smoker</th>\n",
       "      <td>13799.0</td>\n",
       "      <td>0.054932</td>\n",
       "      <td>0.227855</td>\n",
       "      <td>0.0</td>\n",
       "      <td>0.0</td>\n",
       "      <td>0.0</td>\n",
       "      <td>0.0</td>\n",
       "      <td>1.0</td>\n",
       "    </tr>\n",
       "    <tr>\n",
       "      <th>tumor_diagnosis</th>\n",
       "      <td>15082.0</td>\n",
       "      <td>49.578504</td>\n",
       "      <td>17.951074</td>\n",
       "      <td>7.0</td>\n",
       "      <td>38.0</td>\n",
       "      <td>46.0</td>\n",
       "      <td>58.0</td>\n",
       "      <td>195.0</td>\n",
       "    </tr>\n",
       "    <tr>\n",
       "      <th>tumor_6_months</th>\n",
       "      <td>5322.0</td>\n",
       "      <td>39.243893</td>\n",
       "      <td>25.703086</td>\n",
       "      <td>0.0</td>\n",
       "      <td>20.0</td>\n",
       "      <td>38.0</td>\n",
       "      <td>56.0</td>\n",
       "      <td>190.0</td>\n",
       "    </tr>\n",
       "    <tr>\n",
       "      <th>tumor_1_year</th>\n",
       "      <td>13262.0</td>\n",
       "      <td>38.251998</td>\n",
       "      <td>32.659592</td>\n",
       "      <td>0.0</td>\n",
       "      <td>9.0</td>\n",
       "      <td>34.0</td>\n",
       "      <td>60.0</td>\n",
       "      <td>225.0</td>\n",
       "    </tr>\n",
       "    <tr>\n",
       "      <th>psa_diagnosis</th>\n",
       "      <td>13987.0</td>\n",
       "      <td>11.700894</td>\n",
       "      <td>4.167187</td>\n",
       "      <td>0.1</td>\n",
       "      <td>8.4</td>\n",
       "      <td>11.7</td>\n",
       "      <td>14.9</td>\n",
       "      <td>31.0</td>\n",
       "    </tr>\n",
       "    <tr>\n",
       "      <th>psa_6_months</th>\n",
       "      <td>5882.0</td>\n",
       "      <td>9.855661</td>\n",
       "      <td>4.948972</td>\n",
       "      <td>0.0</td>\n",
       "      <td>6.2</td>\n",
       "      <td>9.9</td>\n",
       "      <td>13.4</td>\n",
       "      <td>30.6</td>\n",
       "    </tr>\n",
       "    <tr>\n",
       "      <th>psa_1_year</th>\n",
       "      <td>12868.0</td>\n",
       "      <td>9.116809</td>\n",
       "      <td>6.051711</td>\n",
       "      <td>0.0</td>\n",
       "      <td>4.5</td>\n",
       "      <td>8.8</td>\n",
       "      <td>13.1</td>\n",
       "      <td>35.0</td>\n",
       "    </tr>\n",
       "    <tr>\n",
       "      <th>tea</th>\n",
       "      <td>13799.0</td>\n",
       "      <td>2.552721</td>\n",
       "      <td>1.618253</td>\n",
       "      <td>0.0</td>\n",
       "      <td>1.0</td>\n",
       "      <td>2.0</td>\n",
       "      <td>4.0</td>\n",
       "      <td>12.0</td>\n",
       "    </tr>\n",
       "    <tr>\n",
       "      <th>rd_thrpy</th>\n",
       "      <td>15385.0</td>\n",
       "      <td>0.537472</td>\n",
       "      <td>0.498610</td>\n",
       "      <td>0.0</td>\n",
       "      <td>0.0</td>\n",
       "      <td>1.0</td>\n",
       "      <td>1.0</td>\n",
       "      <td>1.0</td>\n",
       "    </tr>\n",
       "    <tr>\n",
       "      <th>h_thrpy</th>\n",
       "      <td>15385.0</td>\n",
       "      <td>0.342866</td>\n",
       "      <td>0.474683</td>\n",
       "      <td>0.0</td>\n",
       "      <td>0.0</td>\n",
       "      <td>0.0</td>\n",
       "      <td>1.0</td>\n",
       "      <td>1.0</td>\n",
       "    </tr>\n",
       "    <tr>\n",
       "      <th>chm_thrpy</th>\n",
       "      <td>15385.0</td>\n",
       "      <td>0.663438</td>\n",
       "      <td>0.472549</td>\n",
       "      <td>0.0</td>\n",
       "      <td>0.0</td>\n",
       "      <td>1.0</td>\n",
       "      <td>1.0</td>\n",
       "      <td>1.0</td>\n",
       "    </tr>\n",
       "    <tr>\n",
       "      <th>cry_thrpy</th>\n",
       "      <td>15385.0</td>\n",
       "      <td>0.238869</td>\n",
       "      <td>0.426406</td>\n",
       "      <td>0.0</td>\n",
       "      <td>0.0</td>\n",
       "      <td>0.0</td>\n",
       "      <td>0.0</td>\n",
       "      <td>1.0</td>\n",
       "    </tr>\n",
       "    <tr>\n",
       "      <th>brch_thrpy</th>\n",
       "      <td>15385.0</td>\n",
       "      <td>0.245044</td>\n",
       "      <td>0.430127</td>\n",
       "      <td>0.0</td>\n",
       "      <td>0.0</td>\n",
       "      <td>0.0</td>\n",
       "      <td>0.0</td>\n",
       "      <td>1.0</td>\n",
       "    </tr>\n",
       "    <tr>\n",
       "      <th>rad_rem</th>\n",
       "      <td>15385.0</td>\n",
       "      <td>0.174586</td>\n",
       "      <td>0.379625</td>\n",
       "      <td>0.0</td>\n",
       "      <td>0.0</td>\n",
       "      <td>0.0</td>\n",
       "      <td>0.0</td>\n",
       "      <td>1.0</td>\n",
       "    </tr>\n",
       "    <tr>\n",
       "      <th>multi_thrpy</th>\n",
       "      <td>15385.0</td>\n",
       "      <td>0.778616</td>\n",
       "      <td>0.415192</td>\n",
       "      <td>0.0</td>\n",
       "      <td>1.0</td>\n",
       "      <td>1.0</td>\n",
       "      <td>1.0</td>\n",
       "      <td>1.0</td>\n",
       "    </tr>\n",
       "    <tr>\n",
       "      <th>survival_1_year</th>\n",
       "      <td>15385.0</td>\n",
       "      <td>0.896913</td>\n",
       "      <td>0.304083</td>\n",
       "      <td>0.0</td>\n",
       "      <td>1.0</td>\n",
       "      <td>1.0</td>\n",
       "      <td>1.0</td>\n",
       "      <td>1.0</td>\n",
       "    </tr>\n",
       "    <tr>\n",
       "      <th>survival_7_years</th>\n",
       "      <td>15385.0</td>\n",
       "      <td>0.432304</td>\n",
       "      <td>0.495412</td>\n",
       "      <td>0.0</td>\n",
       "      <td>0.0</td>\n",
       "      <td>0.0</td>\n",
       "      <td>1.0</td>\n",
       "      <td>1.0</td>\n",
       "    </tr>\n",
       "  </tbody>\n",
       "</table>\n",
       "</div>"
      ],
      "text/plain": [
       "                        count         mean          std    min     25%  \\\n",
       "id                    15385.0  7693.000000  4441.411281    1.0  3847.0   \n",
       "gleason_score         15065.0     7.299967     1.933395    3.0     6.0   \n",
       "age                   14637.0    76.901073     9.617403   32.0    71.0   \n",
       "race                  15220.0     3.480486     0.953454    1.0     3.0   \n",
       "height                14021.0    69.151202     1.127451   65.0    68.0   \n",
       "weight                14068.0   176.800043    17.211988  118.0   166.0   \n",
       "family_history        13799.0     0.423871     0.613645    0.0     0.0   \n",
       "first_degree_history  13799.0     0.211899     0.460531    0.0     0.0   \n",
       "previous_cancer       13799.0     0.068773     0.253077    0.0     0.0   \n",
       "smoker                13799.0     0.054932     0.227855    0.0     0.0   \n",
       "tumor_diagnosis       15082.0    49.578504    17.951074    7.0    38.0   \n",
       "tumor_6_months         5322.0    39.243893    25.703086    0.0    20.0   \n",
       "tumor_1_year          13262.0    38.251998    32.659592    0.0     9.0   \n",
       "psa_diagnosis         13987.0    11.700894     4.167187    0.1     8.4   \n",
       "psa_6_months           5882.0     9.855661     4.948972    0.0     6.2   \n",
       "psa_1_year            12868.0     9.116809     6.051711    0.0     4.5   \n",
       "tea                   13799.0     2.552721     1.618253    0.0     1.0   \n",
       "rd_thrpy              15385.0     0.537472     0.498610    0.0     0.0   \n",
       "h_thrpy               15385.0     0.342866     0.474683    0.0     0.0   \n",
       "chm_thrpy             15385.0     0.663438     0.472549    0.0     0.0   \n",
       "cry_thrpy             15385.0     0.238869     0.426406    0.0     0.0   \n",
       "brch_thrpy            15385.0     0.245044     0.430127    0.0     0.0   \n",
       "rad_rem               15385.0     0.174586     0.379625    0.0     0.0   \n",
       "multi_thrpy           15385.0     0.778616     0.415192    0.0     1.0   \n",
       "survival_1_year       15385.0     0.896913     0.304083    0.0     1.0   \n",
       "survival_7_years      15385.0     0.432304     0.495412    0.0     0.0   \n",
       "\n",
       "                         50%      75%      max  \n",
       "id                    7693.0  11539.0  15385.0  \n",
       "gleason_score            7.0      9.0     14.0  \n",
       "age                     78.0     84.0    107.0  \n",
       "race                     4.0      4.0      4.0  \n",
       "height                  69.0     70.0     73.0  \n",
       "weight                 174.0    184.0    343.0  \n",
       "family_history           0.0      1.0      5.0  \n",
       "first_degree_history     0.0      0.0      4.0  \n",
       "previous_cancer          0.0      0.0      1.0  \n",
       "smoker                   0.0      0.0      1.0  \n",
       "tumor_diagnosis         46.0     58.0    195.0  \n",
       "tumor_6_months          38.0     56.0    190.0  \n",
       "tumor_1_year            34.0     60.0    225.0  \n",
       "psa_diagnosis           11.7     14.9     31.0  \n",
       "psa_6_months             9.9     13.4     30.6  \n",
       "psa_1_year               8.8     13.1     35.0  \n",
       "tea                      2.0      4.0     12.0  \n",
       "rd_thrpy                 1.0      1.0      1.0  \n",
       "h_thrpy                  0.0      1.0      1.0  \n",
       "chm_thrpy                1.0      1.0      1.0  \n",
       "cry_thrpy                0.0      0.0      1.0  \n",
       "brch_thrpy               0.0      0.0      1.0  \n",
       "rad_rem                  0.0      0.0      1.0  \n",
       "multi_thrpy              1.0      1.0      1.0  \n",
       "survival_1_year          1.0      1.0      1.0  \n",
       "survival_7_years         0.0      1.0      1.0  "
      ]
     },
     "execution_count": 7,
     "metadata": {},
     "output_type": "execute_result"
    }
   ],
   "source": [
    "#Describing the dataset using summary statistics of numeric variables\n",
    "\n",
    "df.describe().transpose()"
   ]
  },
  {
   "cell_type": "code",
   "execution_count": 8,
   "metadata": {
    "collapsed": false
   },
   "outputs": [
    {
     "data": {
      "text/html": [
       "<div>\n",
       "<style>\n",
       "    .dataframe thead tr:only-child th {\n",
       "        text-align: right;\n",
       "    }\n",
       "\n",
       "    .dataframe thead th {\n",
       "        text-align: left;\n",
       "    }\n",
       "\n",
       "    .dataframe tbody tr th {\n",
       "        vertical-align: top;\n",
       "    }\n",
       "</style>\n",
       "<table border=\"1\" class=\"dataframe\">\n",
       "  <thead>\n",
       "    <tr style=\"text-align: right;\">\n",
       "      <th></th>\n",
       "      <th>count</th>\n",
       "      <th>unique</th>\n",
       "      <th>top</th>\n",
       "      <th>freq</th>\n",
       "      <th>mean</th>\n",
       "      <th>std</th>\n",
       "      <th>min</th>\n",
       "      <th>25%</th>\n",
       "      <th>50%</th>\n",
       "      <th>75%</th>\n",
       "      <th>max</th>\n",
       "    </tr>\n",
       "  </thead>\n",
       "  <tbody>\n",
       "    <tr>\n",
       "      <th>id</th>\n",
       "      <td>15385</td>\n",
       "      <td>NaN</td>\n",
       "      <td>NaN</td>\n",
       "      <td>NaN</td>\n",
       "      <td>7693</td>\n",
       "      <td>4441.41</td>\n",
       "      <td>1</td>\n",
       "      <td>3847</td>\n",
       "      <td>7693</td>\n",
       "      <td>11539</td>\n",
       "      <td>15385</td>\n",
       "    </tr>\n",
       "    <tr>\n",
       "      <th>diagnosis_date</th>\n",
       "      <td>15385</td>\n",
       "      <td>79</td>\n",
       "      <td>Feb-06</td>\n",
       "      <td>336</td>\n",
       "      <td>NaN</td>\n",
       "      <td>NaN</td>\n",
       "      <td>NaN</td>\n",
       "      <td>NaN</td>\n",
       "      <td>NaN</td>\n",
       "      <td>NaN</td>\n",
       "      <td>NaN</td>\n",
       "    </tr>\n",
       "    <tr>\n",
       "      <th>gleason_score</th>\n",
       "      <td>15065</td>\n",
       "      <td>NaN</td>\n",
       "      <td>NaN</td>\n",
       "      <td>NaN</td>\n",
       "      <td>7.29997</td>\n",
       "      <td>1.93339</td>\n",
       "      <td>3</td>\n",
       "      <td>6</td>\n",
       "      <td>7</td>\n",
       "      <td>9</td>\n",
       "      <td>14</td>\n",
       "    </tr>\n",
       "    <tr>\n",
       "      <th>t_score</th>\n",
       "      <td>15385</td>\n",
       "      <td>10</td>\n",
       "      <td>T4</td>\n",
       "      <td>4133</td>\n",
       "      <td>NaN</td>\n",
       "      <td>NaN</td>\n",
       "      <td>NaN</td>\n",
       "      <td>NaN</td>\n",
       "      <td>NaN</td>\n",
       "      <td>NaN</td>\n",
       "      <td>NaN</td>\n",
       "    </tr>\n",
       "    <tr>\n",
       "      <th>n_score</th>\n",
       "      <td>15385</td>\n",
       "      <td>3</td>\n",
       "      <td>N0</td>\n",
       "      <td>9605</td>\n",
       "      <td>NaN</td>\n",
       "      <td>NaN</td>\n",
       "      <td>NaN</td>\n",
       "      <td>NaN</td>\n",
       "      <td>NaN</td>\n",
       "      <td>NaN</td>\n",
       "      <td>NaN</td>\n",
       "    </tr>\n",
       "    <tr>\n",
       "      <th>m_score</th>\n",
       "      <td>15385</td>\n",
       "      <td>4</td>\n",
       "      <td>M0</td>\n",
       "      <td>14172</td>\n",
       "      <td>NaN</td>\n",
       "      <td>NaN</td>\n",
       "      <td>NaN</td>\n",
       "      <td>NaN</td>\n",
       "      <td>NaN</td>\n",
       "      <td>NaN</td>\n",
       "      <td>NaN</td>\n",
       "    </tr>\n",
       "    <tr>\n",
       "      <th>stage</th>\n",
       "      <td>15385</td>\n",
       "      <td>5</td>\n",
       "      <td>IV</td>\n",
       "      <td>6713</td>\n",
       "      <td>NaN</td>\n",
       "      <td>NaN</td>\n",
       "      <td>NaN</td>\n",
       "      <td>NaN</td>\n",
       "      <td>NaN</td>\n",
       "      <td>NaN</td>\n",
       "      <td>NaN</td>\n",
       "    </tr>\n",
       "    <tr>\n",
       "      <th>age</th>\n",
       "      <td>14637</td>\n",
       "      <td>NaN</td>\n",
       "      <td>NaN</td>\n",
       "      <td>NaN</td>\n",
       "      <td>76.9011</td>\n",
       "      <td>9.6174</td>\n",
       "      <td>32</td>\n",
       "      <td>71</td>\n",
       "      <td>78</td>\n",
       "      <td>84</td>\n",
       "      <td>107</td>\n",
       "    </tr>\n",
       "    <tr>\n",
       "      <th>race</th>\n",
       "      <td>15220</td>\n",
       "      <td>NaN</td>\n",
       "      <td>NaN</td>\n",
       "      <td>NaN</td>\n",
       "      <td>3.48049</td>\n",
       "      <td>0.953454</td>\n",
       "      <td>1</td>\n",
       "      <td>3</td>\n",
       "      <td>4</td>\n",
       "      <td>4</td>\n",
       "      <td>4</td>\n",
       "    </tr>\n",
       "    <tr>\n",
       "      <th>height</th>\n",
       "      <td>14021</td>\n",
       "      <td>NaN</td>\n",
       "      <td>NaN</td>\n",
       "      <td>NaN</td>\n",
       "      <td>69.1512</td>\n",
       "      <td>1.12745</td>\n",
       "      <td>65</td>\n",
       "      <td>68</td>\n",
       "      <td>69</td>\n",
       "      <td>70</td>\n",
       "      <td>73</td>\n",
       "    </tr>\n",
       "    <tr>\n",
       "      <th>weight</th>\n",
       "      <td>14068</td>\n",
       "      <td>NaN</td>\n",
       "      <td>NaN</td>\n",
       "      <td>NaN</td>\n",
       "      <td>176.8</td>\n",
       "      <td>17.212</td>\n",
       "      <td>118</td>\n",
       "      <td>166</td>\n",
       "      <td>174</td>\n",
       "      <td>184</td>\n",
       "      <td>343</td>\n",
       "    </tr>\n",
       "    <tr>\n",
       "      <th>family_history</th>\n",
       "      <td>13799</td>\n",
       "      <td>NaN</td>\n",
       "      <td>NaN</td>\n",
       "      <td>NaN</td>\n",
       "      <td>0.423871</td>\n",
       "      <td>0.613645</td>\n",
       "      <td>0</td>\n",
       "      <td>0</td>\n",
       "      <td>0</td>\n",
       "      <td>1</td>\n",
       "      <td>5</td>\n",
       "    </tr>\n",
       "    <tr>\n",
       "      <th>first_degree_history</th>\n",
       "      <td>13799</td>\n",
       "      <td>NaN</td>\n",
       "      <td>NaN</td>\n",
       "      <td>NaN</td>\n",
       "      <td>0.211899</td>\n",
       "      <td>0.460531</td>\n",
       "      <td>0</td>\n",
       "      <td>0</td>\n",
       "      <td>0</td>\n",
       "      <td>0</td>\n",
       "      <td>4</td>\n",
       "    </tr>\n",
       "    <tr>\n",
       "      <th>previous_cancer</th>\n",
       "      <td>13799</td>\n",
       "      <td>NaN</td>\n",
       "      <td>NaN</td>\n",
       "      <td>NaN</td>\n",
       "      <td>0.0687731</td>\n",
       "      <td>0.253077</td>\n",
       "      <td>0</td>\n",
       "      <td>0</td>\n",
       "      <td>0</td>\n",
       "      <td>0</td>\n",
       "      <td>1</td>\n",
       "    </tr>\n",
       "    <tr>\n",
       "      <th>smoker</th>\n",
       "      <td>13799</td>\n",
       "      <td>NaN</td>\n",
       "      <td>NaN</td>\n",
       "      <td>NaN</td>\n",
       "      <td>0.0549315</td>\n",
       "      <td>0.227855</td>\n",
       "      <td>0</td>\n",
       "      <td>0</td>\n",
       "      <td>0</td>\n",
       "      <td>0</td>\n",
       "      <td>1</td>\n",
       "    </tr>\n",
       "    <tr>\n",
       "      <th>side</th>\n",
       "      <td>15385</td>\n",
       "      <td>3</td>\n",
       "      <td>both</td>\n",
       "      <td>7761</td>\n",
       "      <td>NaN</td>\n",
       "      <td>NaN</td>\n",
       "      <td>NaN</td>\n",
       "      <td>NaN</td>\n",
       "      <td>NaN</td>\n",
       "      <td>NaN</td>\n",
       "      <td>NaN</td>\n",
       "    </tr>\n",
       "    <tr>\n",
       "      <th>tumor_diagnosis</th>\n",
       "      <td>15082</td>\n",
       "      <td>NaN</td>\n",
       "      <td>NaN</td>\n",
       "      <td>NaN</td>\n",
       "      <td>49.5785</td>\n",
       "      <td>17.9511</td>\n",
       "      <td>7</td>\n",
       "      <td>38</td>\n",
       "      <td>46</td>\n",
       "      <td>58</td>\n",
       "      <td>195</td>\n",
       "    </tr>\n",
       "    <tr>\n",
       "      <th>tumor_6_months</th>\n",
       "      <td>5322</td>\n",
       "      <td>NaN</td>\n",
       "      <td>NaN</td>\n",
       "      <td>NaN</td>\n",
       "      <td>39.2439</td>\n",
       "      <td>25.7031</td>\n",
       "      <td>0</td>\n",
       "      <td>20</td>\n",
       "      <td>38</td>\n",
       "      <td>56</td>\n",
       "      <td>190</td>\n",
       "    </tr>\n",
       "    <tr>\n",
       "      <th>tumor_1_year</th>\n",
       "      <td>13262</td>\n",
       "      <td>NaN</td>\n",
       "      <td>NaN</td>\n",
       "      <td>NaN</td>\n",
       "      <td>38.252</td>\n",
       "      <td>32.6596</td>\n",
       "      <td>0</td>\n",
       "      <td>9</td>\n",
       "      <td>34</td>\n",
       "      <td>60</td>\n",
       "      <td>225</td>\n",
       "    </tr>\n",
       "    <tr>\n",
       "      <th>psa_diagnosis</th>\n",
       "      <td>13987</td>\n",
       "      <td>NaN</td>\n",
       "      <td>NaN</td>\n",
       "      <td>NaN</td>\n",
       "      <td>11.7009</td>\n",
       "      <td>4.16719</td>\n",
       "      <td>0.1</td>\n",
       "      <td>8.4</td>\n",
       "      <td>11.7</td>\n",
       "      <td>14.9</td>\n",
       "      <td>31</td>\n",
       "    </tr>\n",
       "    <tr>\n",
       "      <th>psa_6_months</th>\n",
       "      <td>5882</td>\n",
       "      <td>NaN</td>\n",
       "      <td>NaN</td>\n",
       "      <td>NaN</td>\n",
       "      <td>9.85566</td>\n",
       "      <td>4.94897</td>\n",
       "      <td>0</td>\n",
       "      <td>6.2</td>\n",
       "      <td>9.9</td>\n",
       "      <td>13.4</td>\n",
       "      <td>30.6</td>\n",
       "    </tr>\n",
       "    <tr>\n",
       "      <th>psa_1_year</th>\n",
       "      <td>12868</td>\n",
       "      <td>NaN</td>\n",
       "      <td>NaN</td>\n",
       "      <td>NaN</td>\n",
       "      <td>9.11681</td>\n",
       "      <td>6.05171</td>\n",
       "      <td>0</td>\n",
       "      <td>4.5</td>\n",
       "      <td>8.8</td>\n",
       "      <td>13.1</td>\n",
       "      <td>35</td>\n",
       "    </tr>\n",
       "    <tr>\n",
       "      <th>tea</th>\n",
       "      <td>13799</td>\n",
       "      <td>NaN</td>\n",
       "      <td>NaN</td>\n",
       "      <td>NaN</td>\n",
       "      <td>2.55272</td>\n",
       "      <td>1.61825</td>\n",
       "      <td>0</td>\n",
       "      <td>1</td>\n",
       "      <td>2</td>\n",
       "      <td>4</td>\n",
       "      <td>12</td>\n",
       "    </tr>\n",
       "    <tr>\n",
       "      <th>symptoms</th>\n",
       "      <td>14975</td>\n",
       "      <td>1174</td>\n",
       "      <td>U01,U02</td>\n",
       "      <td>800</td>\n",
       "      <td>NaN</td>\n",
       "      <td>NaN</td>\n",
       "      <td>NaN</td>\n",
       "      <td>NaN</td>\n",
       "      <td>NaN</td>\n",
       "      <td>NaN</td>\n",
       "      <td>NaN</td>\n",
       "    </tr>\n",
       "    <tr>\n",
       "      <th>rd_thrpy</th>\n",
       "      <td>15385</td>\n",
       "      <td>NaN</td>\n",
       "      <td>NaN</td>\n",
       "      <td>NaN</td>\n",
       "      <td>0.537472</td>\n",
       "      <td>0.49861</td>\n",
       "      <td>0</td>\n",
       "      <td>0</td>\n",
       "      <td>1</td>\n",
       "      <td>1</td>\n",
       "      <td>1</td>\n",
       "    </tr>\n",
       "    <tr>\n",
       "      <th>h_thrpy</th>\n",
       "      <td>15385</td>\n",
       "      <td>NaN</td>\n",
       "      <td>NaN</td>\n",
       "      <td>NaN</td>\n",
       "      <td>0.342866</td>\n",
       "      <td>0.474683</td>\n",
       "      <td>0</td>\n",
       "      <td>0</td>\n",
       "      <td>0</td>\n",
       "      <td>1</td>\n",
       "      <td>1</td>\n",
       "    </tr>\n",
       "    <tr>\n",
       "      <th>chm_thrpy</th>\n",
       "      <td>15385</td>\n",
       "      <td>NaN</td>\n",
       "      <td>NaN</td>\n",
       "      <td>NaN</td>\n",
       "      <td>0.663438</td>\n",
       "      <td>0.472549</td>\n",
       "      <td>0</td>\n",
       "      <td>0</td>\n",
       "      <td>1</td>\n",
       "      <td>1</td>\n",
       "      <td>1</td>\n",
       "    </tr>\n",
       "    <tr>\n",
       "      <th>cry_thrpy</th>\n",
       "      <td>15385</td>\n",
       "      <td>NaN</td>\n",
       "      <td>NaN</td>\n",
       "      <td>NaN</td>\n",
       "      <td>0.238869</td>\n",
       "      <td>0.426406</td>\n",
       "      <td>0</td>\n",
       "      <td>0</td>\n",
       "      <td>0</td>\n",
       "      <td>0</td>\n",
       "      <td>1</td>\n",
       "    </tr>\n",
       "    <tr>\n",
       "      <th>brch_thrpy</th>\n",
       "      <td>15385</td>\n",
       "      <td>NaN</td>\n",
       "      <td>NaN</td>\n",
       "      <td>NaN</td>\n",
       "      <td>0.245044</td>\n",
       "      <td>0.430127</td>\n",
       "      <td>0</td>\n",
       "      <td>0</td>\n",
       "      <td>0</td>\n",
       "      <td>0</td>\n",
       "      <td>1</td>\n",
       "    </tr>\n",
       "    <tr>\n",
       "      <th>rad_rem</th>\n",
       "      <td>15385</td>\n",
       "      <td>NaN</td>\n",
       "      <td>NaN</td>\n",
       "      <td>NaN</td>\n",
       "      <td>0.174586</td>\n",
       "      <td>0.379625</td>\n",
       "      <td>0</td>\n",
       "      <td>0</td>\n",
       "      <td>0</td>\n",
       "      <td>0</td>\n",
       "      <td>1</td>\n",
       "    </tr>\n",
       "    <tr>\n",
       "      <th>multi_thrpy</th>\n",
       "      <td>15385</td>\n",
       "      <td>NaN</td>\n",
       "      <td>NaN</td>\n",
       "      <td>NaN</td>\n",
       "      <td>0.778616</td>\n",
       "      <td>0.415192</td>\n",
       "      <td>0</td>\n",
       "      <td>1</td>\n",
       "      <td>1</td>\n",
       "      <td>1</td>\n",
       "      <td>1</td>\n",
       "    </tr>\n",
       "    <tr>\n",
       "      <th>survival_1_year</th>\n",
       "      <td>15385</td>\n",
       "      <td>NaN</td>\n",
       "      <td>NaN</td>\n",
       "      <td>NaN</td>\n",
       "      <td>0.896913</td>\n",
       "      <td>0.304083</td>\n",
       "      <td>0</td>\n",
       "      <td>1</td>\n",
       "      <td>1</td>\n",
       "      <td>1</td>\n",
       "      <td>1</td>\n",
       "    </tr>\n",
       "    <tr>\n",
       "      <th>survival_7_years</th>\n",
       "      <td>15385</td>\n",
       "      <td>NaN</td>\n",
       "      <td>NaN</td>\n",
       "      <td>NaN</td>\n",
       "      <td>0.432304</td>\n",
       "      <td>0.495412</td>\n",
       "      <td>0</td>\n",
       "      <td>0</td>\n",
       "      <td>0</td>\n",
       "      <td>1</td>\n",
       "      <td>1</td>\n",
       "    </tr>\n",
       "  </tbody>\n",
       "</table>\n",
       "</div>"
      ],
      "text/plain": [
       "                      count unique      top   freq       mean       std  min  \\\n",
       "id                    15385    NaN      NaN    NaN       7693   4441.41    1   \n",
       "diagnosis_date        15385     79   Feb-06    336        NaN       NaN  NaN   \n",
       "gleason_score         15065    NaN      NaN    NaN    7.29997   1.93339    3   \n",
       "t_score               15385     10       T4   4133        NaN       NaN  NaN   \n",
       "n_score               15385      3       N0   9605        NaN       NaN  NaN   \n",
       "m_score               15385      4       M0  14172        NaN       NaN  NaN   \n",
       "stage                 15385      5       IV   6713        NaN       NaN  NaN   \n",
       "age                   14637    NaN      NaN    NaN    76.9011    9.6174   32   \n",
       "race                  15220    NaN      NaN    NaN    3.48049  0.953454    1   \n",
       "height                14021    NaN      NaN    NaN    69.1512   1.12745   65   \n",
       "weight                14068    NaN      NaN    NaN      176.8    17.212  118   \n",
       "family_history        13799    NaN      NaN    NaN   0.423871  0.613645    0   \n",
       "first_degree_history  13799    NaN      NaN    NaN   0.211899  0.460531    0   \n",
       "previous_cancer       13799    NaN      NaN    NaN  0.0687731  0.253077    0   \n",
       "smoker                13799    NaN      NaN    NaN  0.0549315  0.227855    0   \n",
       "side                  15385      3     both   7761        NaN       NaN  NaN   \n",
       "tumor_diagnosis       15082    NaN      NaN    NaN    49.5785   17.9511    7   \n",
       "tumor_6_months         5322    NaN      NaN    NaN    39.2439   25.7031    0   \n",
       "tumor_1_year          13262    NaN      NaN    NaN     38.252   32.6596    0   \n",
       "psa_diagnosis         13987    NaN      NaN    NaN    11.7009   4.16719  0.1   \n",
       "psa_6_months           5882    NaN      NaN    NaN    9.85566   4.94897    0   \n",
       "psa_1_year            12868    NaN      NaN    NaN    9.11681   6.05171    0   \n",
       "tea                   13799    NaN      NaN    NaN    2.55272   1.61825    0   \n",
       "symptoms              14975   1174  U01,U02    800        NaN       NaN  NaN   \n",
       "rd_thrpy              15385    NaN      NaN    NaN   0.537472   0.49861    0   \n",
       "h_thrpy               15385    NaN      NaN    NaN   0.342866  0.474683    0   \n",
       "chm_thrpy             15385    NaN      NaN    NaN   0.663438  0.472549    0   \n",
       "cry_thrpy             15385    NaN      NaN    NaN   0.238869  0.426406    0   \n",
       "brch_thrpy            15385    NaN      NaN    NaN   0.245044  0.430127    0   \n",
       "rad_rem               15385    NaN      NaN    NaN   0.174586  0.379625    0   \n",
       "multi_thrpy           15385    NaN      NaN    NaN   0.778616  0.415192    0   \n",
       "survival_1_year       15385    NaN      NaN    NaN   0.896913  0.304083    0   \n",
       "survival_7_years      15385    NaN      NaN    NaN   0.432304  0.495412    0   \n",
       "\n",
       "                       25%   50%    75%    max  \n",
       "id                    3847  7693  11539  15385  \n",
       "diagnosis_date         NaN   NaN    NaN    NaN  \n",
       "gleason_score            6     7      9     14  \n",
       "t_score                NaN   NaN    NaN    NaN  \n",
       "n_score                NaN   NaN    NaN    NaN  \n",
       "m_score                NaN   NaN    NaN    NaN  \n",
       "stage                  NaN   NaN    NaN    NaN  \n",
       "age                     71    78     84    107  \n",
       "race                     3     4      4      4  \n",
       "height                  68    69     70     73  \n",
       "weight                 166   174    184    343  \n",
       "family_history           0     0      1      5  \n",
       "first_degree_history     0     0      0      4  \n",
       "previous_cancer          0     0      0      1  \n",
       "smoker                   0     0      0      1  \n",
       "side                   NaN   NaN    NaN    NaN  \n",
       "tumor_diagnosis         38    46     58    195  \n",
       "tumor_6_months          20    38     56    190  \n",
       "tumor_1_year             9    34     60    225  \n",
       "psa_diagnosis          8.4  11.7   14.9     31  \n",
       "psa_6_months           6.2   9.9   13.4   30.6  \n",
       "psa_1_year             4.5   8.8   13.1     35  \n",
       "tea                      1     2      4     12  \n",
       "symptoms               NaN   NaN    NaN    NaN  \n",
       "rd_thrpy                 0     1      1      1  \n",
       "h_thrpy                  0     0      1      1  \n",
       "chm_thrpy                0     1      1      1  \n",
       "cry_thrpy                0     0      0      1  \n",
       "brch_thrpy               0     0      0      1  \n",
       "rad_rem                  0     0      0      1  \n",
       "multi_thrpy              1     1      1      1  \n",
       "survival_1_year          1     1      1      1  \n",
       "survival_7_years         0     0      1      1  "
      ]
     },
     "execution_count": 8,
     "metadata": {},
     "output_type": "execute_result"
    }
   ],
   "source": [
    "#Describing the dataset using summary statistics of all the variables\n",
    "\n",
    "df.describe(include='all').transpose()"
   ]
  },
  {
   "cell_type": "markdown",
   "metadata": {
    "collapsed": true
   },
   "source": [
    "All the categorical variables (based on the default type given by Python; I have modified some numeric variables to categorical later) except 'symptoms' don't have any missing values, so I will now work on 'symptoms'.\n",
    "I will convert all the possible values of 'symptoms' into separate columns (binary or dummy variables)"
   ]
  },
  {
   "cell_type": "code",
   "execution_count": 9,
   "metadata": {
    "collapsed": true
   },
   "outputs": [],
   "source": [
    "#Creating binary columns for all the possible values of symptoms\n",
    "#Separating each symptom by comma\n",
    "\n",
    "df_symptoms = df['symptoms'].str.get_dummies(',')"
   ]
  },
  {
   "cell_type": "markdown",
   "metadata": {},
   "source": [
    "Total 16 binary variables were created from the 'symptoms' variable."
   ]
  },
  {
   "cell_type": "code",
   "execution_count": 10,
   "metadata": {
    "collapsed": false
   },
   "outputs": [
    {
     "name": "stdout",
     "output_type": "stream",
     "text": [
      "[ 0.1465056   0.14029928  0.13925719  0.13293292  0.10904239  0.09453561\n",
      "  0.07554496  0.05437716  0.0327458   0.02760663  0.01698118  0.00839168\n",
      "  0.00697338  0.00626517  0.00484321  0.00369783]\n",
      "[ 14.65  28.68  42.61  55.9   66.8   76.25  83.8   89.24  92.51  95.27\n",
      "  96.97  97.81  98.51  99.14  99.62  99.99]\n"
     ]
    },
    {
     "data": {
      "text/plain": [
       "[<matplotlib.lines.Line2D at 0x27d355d5cf8>]"
      ]
     },
     "execution_count": 10,
     "metadata": {},
     "output_type": "execute_result"
    },
    {
     "data": {
      "image/png": "[encoded data removed]",
      "text/plain": [
       "<matplotlib.figure.Figure at 0x27d351a1518>"
      ]
     },
     "metadata": {},
     "output_type": "display_data"
    }
   ],
   "source": [
    "#Performing PCA (Principal Component Analysis) on the binary variables of symptoms to reduce dimensionality\n",
    "\n",
    "#Importing required library & functions for PCA\n",
    "from sklearn.decomposition import PCA\n",
    "\n",
    "#There is no need to scale the values as they are already between 0 and 1\n",
    "\n",
    "pca = PCA()\n",
    "pca.fit(df_symptoms)\n",
    "\n",
    "#Printing the amount of variance explained by each PC\n",
    "var= pca.explained_variance_ratio_\n",
    "print(var)\n",
    "\n",
    "#Printing the cumulative variance explained by the PCs\n",
    "var_cum=np.cumsum(np.round(pca.explained_variance_ratio_, decimals=4)*100)\n",
    "print (var_cum)\n",
    "\n",
    "#Plotting the cumulative variance explained\n",
    "plt.plot(var_cum)"
   ]
  },
  {
   "cell_type": "markdown",
   "metadata": {},
   "source": [
    "From the plot it is evident that after 8 PCs, there is a gradual increase in the total variance explained. The first 8 PCs explain 89.24% of the total variance."
   ]
  },
  {
   "cell_type": "code",
   "execution_count": 11,
   "metadata": {
    "collapsed": false
   },
   "outputs": [
    {
     "name": "stdout",
     "output_type": "stream",
     "text": [
      "[[ 0.20015006 -0.60600776  0.49035005 ..., -0.22135991 -0.15429314\n",
      "  -0.09462679]\n",
      " [ 0.41947929  0.19688347  0.92607838 ...,  0.81336441 -0.12650581\n",
      "  -0.09838236]\n",
      " [-0.3620833  -0.06730998 -0.66728715 ..., -0.21304168 -0.16782376\n",
      "  -0.07912681]\n",
      " ..., \n",
      " [ 0.53305987 -0.39247103 -0.41522299 ..., -0.21906083 -0.17098704\n",
      "  -0.10365682]\n",
      " [ 0.22531994 -0.70251634  0.59022011 ..., -0.24113927 -0.1664072\n",
      "  -0.08483953]\n",
      " [ 0.49749955 -0.48723497 -0.29148921 ..., -0.19841128 -0.16721656\n",
      "  -0.08425412]]\n"
     ]
    }
   ],
   "source": [
    "#Keeping only the first 8 PCs\n",
    "\n",
    "pca = PCA(n_components=8)\n",
    "pca.fit(df_symptoms)\n",
    "df_symptoms_PC=pca.fit_transform(df_symptoms)\n",
    "\n",
    "print (df_symptoms_PC)"
   ]
  },
  {
   "cell_type": "code",
   "execution_count": 12,
   "metadata": {
    "collapsed": false
   },
   "outputs": [],
   "source": [
    "#Merging the newly created dataset with the original one\n",
    "df_symptoms_PC = pd.DataFrame(df_symptoms_PC)\n",
    "df = pd.concat([df,df_symptoms_PC], axis=1, join_axes=[df.index])"
   ]
  },
  {
   "cell_type": "code",
   "execution_count": 13,
   "metadata": {
    "collapsed": true
   },
   "outputs": [],
   "source": [
    "#Removing the original 'symptoms' column\n",
    "df.drop('symptoms', axis=1, inplace=True)"
   ]
  },
  {
   "cell_type": "code",
   "execution_count": 14,
   "metadata": {
    "collapsed": false
   },
   "outputs": [
    {
     "data": {
      "text/plain": [
       "(15385, 40)"
      ]
     },
     "execution_count": 14,
     "metadata": {},
     "output_type": "execute_result"
    }
   ],
   "source": [
    "#Checking the shape of the transformed dataset\n",
    "df.shape"
   ]
  },
  {
   "cell_type": "code",
   "execution_count": 15,
   "metadata": {
    "collapsed": false
   },
   "outputs": [
    {
     "data": {
      "text/plain": [
       "id                        int64\n",
       "diagnosis_date           object\n",
       "gleason_score           float64\n",
       "t_score                  object\n",
       "n_score                  object\n",
       "m_score                  object\n",
       "stage                    object\n",
       "age                     float64\n",
       "race                    float64\n",
       "height                  float64\n",
       "weight                  float64\n",
       "family_history          float64\n",
       "first_degree_history    float64\n",
       "previous_cancer         float64\n",
       "smoker                  float64\n",
       "side                     object\n",
       "tumor_diagnosis         float64\n",
       "tumor_6_months          float64\n",
       "tumor_1_year            float64\n",
       "psa_diagnosis           float64\n",
       "psa_6_months            float64\n",
       "psa_1_year              float64\n",
       "tea                     float64\n",
       "rd_thrpy                  int64\n",
       "h_thrpy                   int64\n",
       "chm_thrpy                 int64\n",
       "cry_thrpy                 int64\n",
       "brch_thrpy                int64\n",
       "rad_rem                   int64\n",
       "multi_thrpy               int64\n",
       "survival_1_year           int64\n",
       "survival_7_years          int64\n",
       "0                       float64\n",
       "1                       float64\n",
       "2                       float64\n",
       "3                       float64\n",
       "4                       float64\n",
       "5                       float64\n",
       "6                       float64\n",
       "7                       float64\n",
       "dtype: object"
      ]
     },
     "execution_count": 15,
     "metadata": {},
     "output_type": "execute_result"
    }
   ],
   "source": [
    "#Displaying the names and type of each variable\n",
    "df.dtypes"
   ]
  },
  {
   "cell_type": "code",
   "execution_count": 16,
   "metadata": {
    "collapsed": false
   },
   "outputs": [],
   "source": [
    "#Renaming the PC features\n",
    "df.rename(columns={0:'Symp_0', 1:'Symp_1', 2:'Symp_2', 3:'Symp_3', 4:'Symp_4', 5:'Symp_5', 6:'Symp_6', 7:'Symp_7'}, inplace=True)"
   ]
  },
  {
   "cell_type": "code",
   "execution_count": 17,
   "metadata": {
    "collapsed": false
   },
   "outputs": [
    {
     "data": {
      "text/plain": [
       "id                        int64\n",
       "diagnosis_date           object\n",
       "gleason_score           float64\n",
       "t_score                  object\n",
       "n_score                  object\n",
       "m_score                  object\n",
       "stage                    object\n",
       "age                     float64\n",
       "race                    float64\n",
       "height                  float64\n",
       "weight                  float64\n",
       "family_history          float64\n",
       "first_degree_history    float64\n",
       "previous_cancer         float64\n",
       "smoker                  float64\n",
       "side                     object\n",
       "tumor_diagnosis         float64\n",
       "tumor_6_months          float64\n",
       "tumor_1_year            float64\n",
       "psa_diagnosis           float64\n",
       "psa_6_months            float64\n",
       "psa_1_year              float64\n",
       "tea                     float64\n",
       "rd_thrpy                  int64\n",
       "h_thrpy                   int64\n",
       "chm_thrpy                 int64\n",
       "cry_thrpy                 int64\n",
       "brch_thrpy                int64\n",
       "rad_rem                   int64\n",
       "multi_thrpy               int64\n",
       "survival_1_year           int64\n",
       "survival_7_years          int64\n",
       "Symp_0                  float64\n",
       "Symp_1                  float64\n",
       "Symp_2                  float64\n",
       "Symp_3                  float64\n",
       "Symp_4                  float64\n",
       "Symp_5                  float64\n",
       "Symp_6                  float64\n",
       "Symp_7                  float64\n",
       "dtype: object"
      ]
     },
     "execution_count": 17,
     "metadata": {},
     "output_type": "execute_result"
    }
   ],
   "source": [
    "# Checking the names and type of each variable after renaming\n",
    "df.dtypes"
   ]
  },
  {
   "cell_type": "markdown",
   "metadata": {},
   "source": [
    "### Plotting graphs for insights and data exploration"
   ]
  },
  {
   "cell_type": "code",
   "execution_count": 18,
   "metadata": {
    "collapsed": false
   },
   "outputs": [
    {
     "data": {
      "text/plain": [
       "<matplotlib.axes._subplots.AxesSubplot at 0x27d358564e0>"
      ]
     },
     "execution_count": 18,
     "metadata": {},
     "output_type": "execute_result"
    },
    {
     "data": {
      "image/png": "[encoded data removed]",
      "text/plain": [
       "<matplotlib.figure.Figure at 0x27d351d84a8>"
      ]
     },
     "metadata": {},
     "output_type": "display_data"
    }
   ],
   "source": [
    "#race vs survival\n",
    "\n",
    "sns.countplot(x='race', hue='survival_7_years', data=df)"
   ]
  },
  {
   "cell_type": "code",
   "execution_count": 19,
   "metadata": {
    "collapsed": false
   },
   "outputs": [
    {
     "data": {
      "text/plain": [
       "<seaborn.axisgrid.FacetGrid at 0x27d3565e6a0>"
      ]
     },
     "execution_count": 19,
     "metadata": {},
     "output_type": "execute_result"
    },
    {
     "data": {
      "image/png": "[encoded data removed]",
      "text/plain": [
       "<matplotlib.figure.Figure at 0x27d355eef98>"
      ]
     },
     "metadata": {},
     "output_type": "display_data"
    }
   ],
   "source": [
    "#stage vs previous_cancer vs survival\n",
    "sns.factorplot(x='stage', hue='previous_cancer', col='survival_7_years', order=['I', 'IIA', 'IIB', 'III', 'IV'], \n",
    "               data=df, kind=\"count\", size=4, aspect=.7)"
   ]
  },
  {
   "cell_type": "markdown",
   "metadata": {},
   "source": [
    "## Numeric & Binary Variables"
   ]
  },
  {
   "cell_type": "markdown",
   "metadata": {},
   "source": [
    "Since these five features (family_history, first_degree_history, previous_cancer, smoker, tea) have equal number of missing values (as seen from the table displayed before), I tried to investigate further & found that the missing values always occured together. The reason for the simultaneous missing values might be non-response bias, i.e. the patients might chose not to respond to such questions."
   ]
  },
  {
   "cell_type": "code",
   "execution_count": 20,
   "metadata": {
    "collapsed": false
   },
   "outputs": [
    {
     "data": {
      "text/html": [
       "<div>\n",
       "<style>\n",
       "    .dataframe thead tr:only-child th {\n",
       "        text-align: right;\n",
       "    }\n",
       "\n",
       "    .dataframe thead th {\n",
       "        text-align: left;\n",
       "    }\n",
       "\n",
       "    .dataframe tbody tr th {\n",
       "        vertical-align: top;\n",
       "    }\n",
       "</style>\n",
       "<table border=\"1\" class=\"dataframe\">\n",
       "  <thead>\n",
       "    <tr style=\"text-align: right;\">\n",
       "      <th></th>\n",
       "      <th>family_history</th>\n",
       "      <th>first_degree_history</th>\n",
       "      <th>previous_cancer</th>\n",
       "      <th>smoker</th>\n",
       "      <th>tea</th>\n",
       "    </tr>\n",
       "  </thead>\n",
       "  <tbody>\n",
       "    <tr>\n",
       "      <th>0</th>\n",
       "      <td>0.0</td>\n",
       "      <td>0.0</td>\n",
       "      <td>0.0</td>\n",
       "      <td>0.0</td>\n",
       "      <td>2.0</td>\n",
       "    </tr>\n",
       "    <tr>\n",
       "      <th>1</th>\n",
       "      <td>0.0</td>\n",
       "      <td>0.0</td>\n",
       "      <td>0.0</td>\n",
       "      <td>1.0</td>\n",
       "      <td>4.0</td>\n",
       "    </tr>\n",
       "    <tr>\n",
       "      <th>2</th>\n",
       "      <td>0.0</td>\n",
       "      <td>0.0</td>\n",
       "      <td>0.0</td>\n",
       "      <td>0.0</td>\n",
       "      <td>0.0</td>\n",
       "    </tr>\n",
       "    <tr>\n",
       "      <th>3</th>\n",
       "      <td>0.0</td>\n",
       "      <td>0.0</td>\n",
       "      <td>0.0</td>\n",
       "      <td>0.0</td>\n",
       "      <td>2.0</td>\n",
       "    </tr>\n",
       "    <tr>\n",
       "      <th>4</th>\n",
       "      <td>1.0</td>\n",
       "      <td>1.0</td>\n",
       "      <td>0.0</td>\n",
       "      <td>0.0</td>\n",
       "      <td>2.0</td>\n",
       "    </tr>\n",
       "    <tr>\n",
       "      <th>5</th>\n",
       "      <td>0.0</td>\n",
       "      <td>0.0</td>\n",
       "      <td>0.0</td>\n",
       "      <td>0.0</td>\n",
       "      <td>2.0</td>\n",
       "    </tr>\n",
       "    <tr>\n",
       "      <th>6</th>\n",
       "      <td>1.0</td>\n",
       "      <td>1.0</td>\n",
       "      <td>0.0</td>\n",
       "      <td>0.0</td>\n",
       "      <td>1.0</td>\n",
       "    </tr>\n",
       "    <tr>\n",
       "      <th>7</th>\n",
       "      <td>NaN</td>\n",
       "      <td>NaN</td>\n",
       "      <td>NaN</td>\n",
       "      <td>NaN</td>\n",
       "      <td>NaN</td>\n",
       "    </tr>\n",
       "    <tr>\n",
       "      <th>8</th>\n",
       "      <td>0.0</td>\n",
       "      <td>0.0</td>\n",
       "      <td>1.0</td>\n",
       "      <td>0.0</td>\n",
       "      <td>4.0</td>\n",
       "    </tr>\n",
       "    <tr>\n",
       "      <th>9</th>\n",
       "      <td>0.0</td>\n",
       "      <td>0.0</td>\n",
       "      <td>0.0</td>\n",
       "      <td>0.0</td>\n",
       "      <td>1.0</td>\n",
       "    </tr>\n",
       "    <tr>\n",
       "      <th>10</th>\n",
       "      <td>NaN</td>\n",
       "      <td>NaN</td>\n",
       "      <td>NaN</td>\n",
       "      <td>NaN</td>\n",
       "      <td>NaN</td>\n",
       "    </tr>\n",
       "    <tr>\n",
       "      <th>11</th>\n",
       "      <td>0.0</td>\n",
       "      <td>0.0</td>\n",
       "      <td>0.0</td>\n",
       "      <td>0.0</td>\n",
       "      <td>4.0</td>\n",
       "    </tr>\n",
       "    <tr>\n",
       "      <th>12</th>\n",
       "      <td>1.0</td>\n",
       "      <td>1.0</td>\n",
       "      <td>0.0</td>\n",
       "      <td>1.0</td>\n",
       "      <td>1.0</td>\n",
       "    </tr>\n",
       "    <tr>\n",
       "      <th>13</th>\n",
       "      <td>0.0</td>\n",
       "      <td>0.0</td>\n",
       "      <td>0.0</td>\n",
       "      <td>0.0</td>\n",
       "      <td>2.0</td>\n",
       "    </tr>\n",
       "    <tr>\n",
       "      <th>14</th>\n",
       "      <td>NaN</td>\n",
       "      <td>NaN</td>\n",
       "      <td>NaN</td>\n",
       "      <td>NaN</td>\n",
       "      <td>NaN</td>\n",
       "    </tr>\n",
       "    <tr>\n",
       "      <th>15</th>\n",
       "      <td>0.0</td>\n",
       "      <td>0.0</td>\n",
       "      <td>0.0</td>\n",
       "      <td>0.0</td>\n",
       "      <td>3.0</td>\n",
       "    </tr>\n",
       "    <tr>\n",
       "      <th>16</th>\n",
       "      <td>0.0</td>\n",
       "      <td>0.0</td>\n",
       "      <td>0.0</td>\n",
       "      <td>0.0</td>\n",
       "      <td>0.0</td>\n",
       "    </tr>\n",
       "    <tr>\n",
       "      <th>17</th>\n",
       "      <td>1.0</td>\n",
       "      <td>1.0</td>\n",
       "      <td>0.0</td>\n",
       "      <td>0.0</td>\n",
       "      <td>2.0</td>\n",
       "    </tr>\n",
       "    <tr>\n",
       "      <th>18</th>\n",
       "      <td>0.0</td>\n",
       "      <td>0.0</td>\n",
       "      <td>0.0</td>\n",
       "      <td>0.0</td>\n",
       "      <td>1.0</td>\n",
       "    </tr>\n",
       "    <tr>\n",
       "      <th>19</th>\n",
       "      <td>1.0</td>\n",
       "      <td>1.0</td>\n",
       "      <td>0.0</td>\n",
       "      <td>0.0</td>\n",
       "      <td>2.0</td>\n",
       "    </tr>\n",
       "    <tr>\n",
       "      <th>20</th>\n",
       "      <td>1.0</td>\n",
       "      <td>0.0</td>\n",
       "      <td>0.0</td>\n",
       "      <td>0.0</td>\n",
       "      <td>1.0</td>\n",
       "    </tr>\n",
       "    <tr>\n",
       "      <th>21</th>\n",
       "      <td>0.0</td>\n",
       "      <td>0.0</td>\n",
       "      <td>0.0</td>\n",
       "      <td>0.0</td>\n",
       "      <td>4.0</td>\n",
       "    </tr>\n",
       "    <tr>\n",
       "      <th>22</th>\n",
       "      <td>0.0</td>\n",
       "      <td>0.0</td>\n",
       "      <td>0.0</td>\n",
       "      <td>0.0</td>\n",
       "      <td>4.0</td>\n",
       "    </tr>\n",
       "    <tr>\n",
       "      <th>23</th>\n",
       "      <td>0.0</td>\n",
       "      <td>0.0</td>\n",
       "      <td>0.0</td>\n",
       "      <td>0.0</td>\n",
       "      <td>3.0</td>\n",
       "    </tr>\n",
       "    <tr>\n",
       "      <th>24</th>\n",
       "      <td>1.0</td>\n",
       "      <td>1.0</td>\n",
       "      <td>0.0</td>\n",
       "      <td>0.0</td>\n",
       "      <td>1.0</td>\n",
       "    </tr>\n",
       "    <tr>\n",
       "      <th>25</th>\n",
       "      <td>0.0</td>\n",
       "      <td>0.0</td>\n",
       "      <td>0.0</td>\n",
       "      <td>0.0</td>\n",
       "      <td>2.0</td>\n",
       "    </tr>\n",
       "    <tr>\n",
       "      <th>26</th>\n",
       "      <td>0.0</td>\n",
       "      <td>0.0</td>\n",
       "      <td>0.0</td>\n",
       "      <td>0.0</td>\n",
       "      <td>2.0</td>\n",
       "    </tr>\n",
       "    <tr>\n",
       "      <th>27</th>\n",
       "      <td>0.0</td>\n",
       "      <td>0.0</td>\n",
       "      <td>0.0</td>\n",
       "      <td>0.0</td>\n",
       "      <td>2.0</td>\n",
       "    </tr>\n",
       "    <tr>\n",
       "      <th>28</th>\n",
       "      <td>0.0</td>\n",
       "      <td>0.0</td>\n",
       "      <td>1.0</td>\n",
       "      <td>0.0</td>\n",
       "      <td>1.0</td>\n",
       "    </tr>\n",
       "    <tr>\n",
       "      <th>29</th>\n",
       "      <td>0.0</td>\n",
       "      <td>0.0</td>\n",
       "      <td>0.0</td>\n",
       "      <td>0.0</td>\n",
       "      <td>3.0</td>\n",
       "    </tr>\n",
       "    <tr>\n",
       "      <th>...</th>\n",
       "      <td>...</td>\n",
       "      <td>...</td>\n",
       "      <td>...</td>\n",
       "      <td>...</td>\n",
       "      <td>...</td>\n",
       "    </tr>\n",
       "    <tr>\n",
       "      <th>15355</th>\n",
       "      <td>NaN</td>\n",
       "      <td>NaN</td>\n",
       "      <td>NaN</td>\n",
       "      <td>NaN</td>\n",
       "      <td>NaN</td>\n",
       "    </tr>\n",
       "    <tr>\n",
       "      <th>15356</th>\n",
       "      <td>0.0</td>\n",
       "      <td>0.0</td>\n",
       "      <td>0.0</td>\n",
       "      <td>0.0</td>\n",
       "      <td>2.0</td>\n",
       "    </tr>\n",
       "    <tr>\n",
       "      <th>15357</th>\n",
       "      <td>0.0</td>\n",
       "      <td>0.0</td>\n",
       "      <td>0.0</td>\n",
       "      <td>0.0</td>\n",
       "      <td>5.0</td>\n",
       "    </tr>\n",
       "    <tr>\n",
       "      <th>15358</th>\n",
       "      <td>1.0</td>\n",
       "      <td>0.0</td>\n",
       "      <td>0.0</td>\n",
       "      <td>0.0</td>\n",
       "      <td>2.0</td>\n",
       "    </tr>\n",
       "    <tr>\n",
       "      <th>15359</th>\n",
       "      <td>0.0</td>\n",
       "      <td>0.0</td>\n",
       "      <td>0.0</td>\n",
       "      <td>0.0</td>\n",
       "      <td>1.0</td>\n",
       "    </tr>\n",
       "    <tr>\n",
       "      <th>15360</th>\n",
       "      <td>1.0</td>\n",
       "      <td>1.0</td>\n",
       "      <td>1.0</td>\n",
       "      <td>0.0</td>\n",
       "      <td>1.0</td>\n",
       "    </tr>\n",
       "    <tr>\n",
       "      <th>15361</th>\n",
       "      <td>2.0</td>\n",
       "      <td>2.0</td>\n",
       "      <td>0.0</td>\n",
       "      <td>0.0</td>\n",
       "      <td>3.0</td>\n",
       "    </tr>\n",
       "    <tr>\n",
       "      <th>15362</th>\n",
       "      <td>1.0</td>\n",
       "      <td>1.0</td>\n",
       "      <td>0.0</td>\n",
       "      <td>0.0</td>\n",
       "      <td>5.0</td>\n",
       "    </tr>\n",
       "    <tr>\n",
       "      <th>15363</th>\n",
       "      <td>0.0</td>\n",
       "      <td>0.0</td>\n",
       "      <td>0.0</td>\n",
       "      <td>0.0</td>\n",
       "      <td>2.0</td>\n",
       "    </tr>\n",
       "    <tr>\n",
       "      <th>15364</th>\n",
       "      <td>1.0</td>\n",
       "      <td>0.0</td>\n",
       "      <td>0.0</td>\n",
       "      <td>0.0</td>\n",
       "      <td>4.0</td>\n",
       "    </tr>\n",
       "    <tr>\n",
       "      <th>15365</th>\n",
       "      <td>2.0</td>\n",
       "      <td>2.0</td>\n",
       "      <td>0.0</td>\n",
       "      <td>0.0</td>\n",
       "      <td>3.0</td>\n",
       "    </tr>\n",
       "    <tr>\n",
       "      <th>15366</th>\n",
       "      <td>0.0</td>\n",
       "      <td>0.0</td>\n",
       "      <td>0.0</td>\n",
       "      <td>0.0</td>\n",
       "      <td>2.0</td>\n",
       "    </tr>\n",
       "    <tr>\n",
       "      <th>15367</th>\n",
       "      <td>1.0</td>\n",
       "      <td>1.0</td>\n",
       "      <td>0.0</td>\n",
       "      <td>0.0</td>\n",
       "      <td>4.0</td>\n",
       "    </tr>\n",
       "    <tr>\n",
       "      <th>15368</th>\n",
       "      <td>0.0</td>\n",
       "      <td>0.0</td>\n",
       "      <td>1.0</td>\n",
       "      <td>0.0</td>\n",
       "      <td>4.0</td>\n",
       "    </tr>\n",
       "    <tr>\n",
       "      <th>15369</th>\n",
       "      <td>0.0</td>\n",
       "      <td>0.0</td>\n",
       "      <td>0.0</td>\n",
       "      <td>0.0</td>\n",
       "      <td>1.0</td>\n",
       "    </tr>\n",
       "    <tr>\n",
       "      <th>15370</th>\n",
       "      <td>NaN</td>\n",
       "      <td>NaN</td>\n",
       "      <td>NaN</td>\n",
       "      <td>NaN</td>\n",
       "      <td>NaN</td>\n",
       "    </tr>\n",
       "    <tr>\n",
       "      <th>15371</th>\n",
       "      <td>0.0</td>\n",
       "      <td>0.0</td>\n",
       "      <td>0.0</td>\n",
       "      <td>0.0</td>\n",
       "      <td>2.0</td>\n",
       "    </tr>\n",
       "    <tr>\n",
       "      <th>15372</th>\n",
       "      <td>0.0</td>\n",
       "      <td>0.0</td>\n",
       "      <td>0.0</td>\n",
       "      <td>0.0</td>\n",
       "      <td>1.0</td>\n",
       "    </tr>\n",
       "    <tr>\n",
       "      <th>15373</th>\n",
       "      <td>0.0</td>\n",
       "      <td>0.0</td>\n",
       "      <td>1.0</td>\n",
       "      <td>0.0</td>\n",
       "      <td>4.0</td>\n",
       "    </tr>\n",
       "    <tr>\n",
       "      <th>15374</th>\n",
       "      <td>0.0</td>\n",
       "      <td>0.0</td>\n",
       "      <td>0.0</td>\n",
       "      <td>0.0</td>\n",
       "      <td>4.0</td>\n",
       "    </tr>\n",
       "    <tr>\n",
       "      <th>15375</th>\n",
       "      <td>1.0</td>\n",
       "      <td>0.0</td>\n",
       "      <td>0.0</td>\n",
       "      <td>0.0</td>\n",
       "      <td>5.0</td>\n",
       "    </tr>\n",
       "    <tr>\n",
       "      <th>15376</th>\n",
       "      <td>0.0</td>\n",
       "      <td>0.0</td>\n",
       "      <td>0.0</td>\n",
       "      <td>0.0</td>\n",
       "      <td>1.0</td>\n",
       "    </tr>\n",
       "    <tr>\n",
       "      <th>15377</th>\n",
       "      <td>0.0</td>\n",
       "      <td>0.0</td>\n",
       "      <td>0.0</td>\n",
       "      <td>0.0</td>\n",
       "      <td>3.0</td>\n",
       "    </tr>\n",
       "    <tr>\n",
       "      <th>15378</th>\n",
       "      <td>1.0</td>\n",
       "      <td>0.0</td>\n",
       "      <td>0.0</td>\n",
       "      <td>0.0</td>\n",
       "      <td>4.0</td>\n",
       "    </tr>\n",
       "    <tr>\n",
       "      <th>15379</th>\n",
       "      <td>0.0</td>\n",
       "      <td>0.0</td>\n",
       "      <td>0.0</td>\n",
       "      <td>0.0</td>\n",
       "      <td>3.0</td>\n",
       "    </tr>\n",
       "    <tr>\n",
       "      <th>15380</th>\n",
       "      <td>0.0</td>\n",
       "      <td>0.0</td>\n",
       "      <td>0.0</td>\n",
       "      <td>0.0</td>\n",
       "      <td>2.0</td>\n",
       "    </tr>\n",
       "    <tr>\n",
       "      <th>15381</th>\n",
       "      <td>0.0</td>\n",
       "      <td>0.0</td>\n",
       "      <td>0.0</td>\n",
       "      <td>0.0</td>\n",
       "      <td>2.0</td>\n",
       "    </tr>\n",
       "    <tr>\n",
       "      <th>15382</th>\n",
       "      <td>2.0</td>\n",
       "      <td>2.0</td>\n",
       "      <td>0.0</td>\n",
       "      <td>1.0</td>\n",
       "      <td>1.0</td>\n",
       "    </tr>\n",
       "    <tr>\n",
       "      <th>15383</th>\n",
       "      <td>0.0</td>\n",
       "      <td>0.0</td>\n",
       "      <td>0.0</td>\n",
       "      <td>0.0</td>\n",
       "      <td>2.0</td>\n",
       "    </tr>\n",
       "    <tr>\n",
       "      <th>15384</th>\n",
       "      <td>0.0</td>\n",
       "      <td>0.0</td>\n",
       "      <td>0.0</td>\n",
       "      <td>0.0</td>\n",
       "      <td>1.0</td>\n",
       "    </tr>\n",
       "  </tbody>\n",
       "</table>\n",
       "<p>15385 rows × 5 columns</p>\n",
       "</div>"
      ],
      "text/plain": [
       "       family_history  first_degree_history  previous_cancer  smoker  tea\n",
       "0                 0.0                   0.0              0.0     0.0  2.0\n",
       "1                 0.0                   0.0              0.0     1.0  4.0\n",
       "2                 0.0                   0.0              0.0     0.0  0.0\n",
       "3                 0.0                   0.0              0.0     0.0  2.0\n",
       "4                 1.0                   1.0              0.0     0.0  2.0\n",
       "5                 0.0                   0.0              0.0     0.0  2.0\n",
       "6                 1.0                   1.0              0.0     0.0  1.0\n",
       "7                 NaN                   NaN              NaN     NaN  NaN\n",
       "8                 0.0                   0.0              1.0     0.0  4.0\n",
       "9                 0.0                   0.0              0.0     0.0  1.0\n",
       "10                NaN                   NaN              NaN     NaN  NaN\n",
       "11                0.0                   0.0              0.0     0.0  4.0\n",
       "12                1.0                   1.0              0.0     1.0  1.0\n",
       "13                0.0                   0.0              0.0     0.0  2.0\n",
       "14                NaN                   NaN              NaN     NaN  NaN\n",
       "15                0.0                   0.0              0.0     0.0  3.0\n",
       "16                0.0                   0.0              0.0     0.0  0.0\n",
       "17                1.0                   1.0              0.0     0.0  2.0\n",
       "18                0.0                   0.0              0.0     0.0  1.0\n",
       "19                1.0                   1.0              0.0     0.0  2.0\n",
       "20                1.0                   0.0              0.0     0.0  1.0\n",
       "21                0.0                   0.0              0.0     0.0  4.0\n",
       "22                0.0                   0.0              0.0     0.0  4.0\n",
       "23                0.0                   0.0              0.0     0.0  3.0\n",
       "24                1.0                   1.0              0.0     0.0  1.0\n",
       "25                0.0                   0.0              0.0     0.0  2.0\n",
       "26                0.0                   0.0              0.0     0.0  2.0\n",
       "27                0.0                   0.0              0.0     0.0  2.0\n",
       "28                0.0                   0.0              1.0     0.0  1.0\n",
       "29                0.0                   0.0              0.0     0.0  3.0\n",
       "...               ...                   ...              ...     ...  ...\n",
       "15355             NaN                   NaN              NaN     NaN  NaN\n",
       "15356             0.0                   0.0              0.0     0.0  2.0\n",
       "15357             0.0                   0.0              0.0     0.0  5.0\n",
       "15358             1.0                   0.0              0.0     0.0  2.0\n",
       "15359             0.0                   0.0              0.0     0.0  1.0\n",
       "15360             1.0                   1.0              1.0     0.0  1.0\n",
       "15361             2.0                   2.0              0.0     0.0  3.0\n",
       "15362             1.0                   1.0              0.0     0.0  5.0\n",
       "15363             0.0                   0.0              0.0     0.0  2.0\n",
       "15364             1.0                   0.0              0.0     0.0  4.0\n",
       "15365             2.0                   2.0              0.0     0.0  3.0\n",
       "15366             0.0                   0.0              0.0     0.0  2.0\n",
       "15367             1.0                   1.0              0.0     0.0  4.0\n",
       "15368             0.0                   0.0              1.0     0.0  4.0\n",
       "15369             0.0                   0.0              0.0     0.0  1.0\n",
       "15370             NaN                   NaN              NaN     NaN  NaN\n",
       "15371             0.0                   0.0              0.0     0.0  2.0\n",
       "15372             0.0                   0.0              0.0     0.0  1.0\n",
       "15373             0.0                   0.0              1.0     0.0  4.0\n",
       "15374             0.0                   0.0              0.0     0.0  4.0\n",
       "15375             1.0                   0.0              0.0     0.0  5.0\n",
       "15376             0.0                   0.0              0.0     0.0  1.0\n",
       "15377             0.0                   0.0              0.0     0.0  3.0\n",
       "15378             1.0                   0.0              0.0     0.0  4.0\n",
       "15379             0.0                   0.0              0.0     0.0  3.0\n",
       "15380             0.0                   0.0              0.0     0.0  2.0\n",
       "15381             0.0                   0.0              0.0     0.0  2.0\n",
       "15382             2.0                   2.0              0.0     1.0  1.0\n",
       "15383             0.0                   0.0              0.0     0.0  2.0\n",
       "15384             0.0                   0.0              0.0     0.0  1.0\n",
       "\n",
       "[15385 rows x 5 columns]"
      ]
     },
     "execution_count": 20,
     "metadata": {},
     "output_type": "execute_result"
    }
   ],
   "source": [
    "#family_history, first_degree_history, previous_cancer, smoker, tea\n",
    "df.iloc[:,[11,12,13,14,22]]"
   ]
  },
  {
   "cell_type": "code",
   "execution_count": 21,
   "metadata": {
    "collapsed": false
   },
   "outputs": [
    {
     "data": {
      "text/plain": [
       "2.0     3508\n",
       "3.0     2944\n",
       "1.0     2676\n",
       "4.0     1947\n",
       "0.0     1145\n",
       "5.0      915\n",
       "6.0      425\n",
       "7.0      158\n",
       "8.0       53\n",
       "9.0       24\n",
       "10.0       3\n",
       "12.0       1\n",
       "Name: tea, dtype: int64"
      ]
     },
     "execution_count": 21,
     "metadata": {},
     "output_type": "execute_result"
    }
   ],
   "source": [
    "#Diaplying the frequency table for these 5 variables\n",
    "\n",
    "#tea\n",
    "df.tea.value_counts()"
   ]
  },
  {
   "cell_type": "code",
   "execution_count": 22,
   "metadata": {
    "collapsed": false
   },
   "outputs": [
    {
     "data": {
      "text/plain": [
       "0.0    8739\n",
       "1.0    4379\n",
       "2.0     587\n",
       "3.0      82\n",
       "4.0      10\n",
       "5.0       2\n",
       "Name: family_history, dtype: int64"
      ]
     },
     "execution_count": 22,
     "metadata": {},
     "output_type": "execute_result"
    }
   ],
   "source": [
    "#family_history\n",
    "df.family_history.value_counts()"
   ]
  },
  {
   "cell_type": "code",
   "execution_count": 23,
   "metadata": {
    "collapsed": false
   },
   "outputs": [
    {
     "data": {
      "text/plain": [
       "0.0    11148\n",
       "1.0     2412\n",
       "2.0      209\n",
       "3.0       26\n",
       "4.0        4\n",
       "Name: first_degree_history, dtype: int64"
      ]
     },
     "execution_count": 23,
     "metadata": {},
     "output_type": "execute_result"
    }
   ],
   "source": [
    "#first_degree_history\n",
    "df.first_degree_history.value_counts()"
   ]
  },
  {
   "cell_type": "code",
   "execution_count": 24,
   "metadata": {
    "collapsed": false
   },
   "outputs": [
    {
     "data": {
      "text/plain": [
       "0.0    12850\n",
       "1.0      949\n",
       "Name: previous_cancer, dtype: int64"
      ]
     },
     "execution_count": 24,
     "metadata": {},
     "output_type": "execute_result"
    }
   ],
   "source": [
    "#previous_cancer\n",
    "df.previous_cancer.value_counts()"
   ]
  },
  {
   "cell_type": "code",
   "execution_count": 25,
   "metadata": {
    "collapsed": false
   },
   "outputs": [
    {
     "data": {
      "text/plain": [
       "0.0    13041\n",
       "1.0      758\n",
       "Name: smoker, dtype: int64"
      ]
     },
     "execution_count": 25,
     "metadata": {},
     "output_type": "execute_result"
    }
   ],
   "source": [
    "#smoker\n",
    "df.smoker.value_counts()"
   ]
  },
  {
   "cell_type": "code",
   "execution_count": 26,
   "metadata": {
    "collapsed": false
   },
   "outputs": [],
   "source": [
    "#Imputing missing values in these five variables by the most frequent value\n",
    "#tea, family_history & first_degree_history are numerical (have integer values), \n",
    "#and their most frequent count is also their median, so it would not have made any difference\n",
    "#I just wanted to keep them as integers.\n",
    "\n",
    "df['tea'].fillna(df['gleason_score'].value_counts().index[0], inplace=True)\n",
    "df['family_history'].fillna(df['family_history'].value_counts().index[0], inplace=True)\n",
    "df['first_degree_history'].fillna(df['first_degree_history'].value_counts().index[0], inplace=True)\n",
    "df['previous_cancer'].fillna(df['previous_cancer'].value_counts().index[0], inplace=True)\n",
    "df['smoker'].fillna(df['smoker'].value_counts().index[0], inplace=True)"
   ]
  },
  {
   "cell_type": "code",
   "execution_count": 27,
   "metadata": {
    "collapsed": true
   },
   "outputs": [],
   "source": [
    "#Similarly for race, imputing missing values by the most frequent value (since it is a category, it is converted later)\n",
    "df['race'].fillna(df['race'].value_counts().index[0], inplace=True)"
   ]
  },
  {
   "cell_type": "markdown",
   "metadata": {},
   "source": [
    "### Missing Value Imputation for Numeric Variables"
   ]
  },
  {
   "cell_type": "markdown",
   "metadata": {
    "collapsed": true
   },
   "source": [
    "Imputing missing values for other numeric variables by their mean.\n",
    "Looking at the summary statistics table, found that 'age', 'height', 'weight',  have almost equal mean and median\n",
    "Confirming that by plotting the histograms (to see the normality in the distribution).\n",
    "\n",
    "Variables like 'tumor_diagnosis', 'psa_diagnosis', 'tumor_6_months', 'tumor_1_year', 'psa_6_months', 'psa_1_year' also have similar mean and median, and near to normal distribution. There is some anomaly, but I have considered the closeness of mean and median for imputation."
   ]
  },
  {
   "cell_type": "code",
   "execution_count": 28,
   "metadata": {
    "collapsed": false
   },
   "outputs": [
    {
     "name": "stderr",
     "output_type": "stream",
     "text": [
      "C:\\Users\\User\\Anaconda3\\lib\\site-packages\\numpy\\lib\\function_base.py:748: RuntimeWarning: invalid value encountered in greater_equal\n",
      "  keep = (tmp_a >= mn)\n",
      "C:\\Users\\User\\Anaconda3\\lib\\site-packages\\numpy\\lib\\function_base.py:749: RuntimeWarning: invalid value encountered in less_equal\n",
      "  keep &= (tmp_a <= mx)\n"
     ]
    },
    {
     "data": {
      "text/plain": [
       "(array([    8.,    23.,   211.,   899.,  1758.,  3683.,  4650.,  2903.,\n",
       "          479.,    23.]),\n",
       " array([  32. ,   39.5,   47. ,   54.5,   62. ,   69.5,   77. ,   84.5,\n",
       "          92. ,   99.5,  107. ]),\n",
       " <a list of 10 Patch objects>)"
      ]
     },
     "execution_count": 28,
     "metadata": {},
     "output_type": "execute_result"
    },
    {
     "data": {
      "image/png": "[encoded data removed]",
      "text/plain": [
       "<matplotlib.figure.Figure at 0x27d359129e8>"
      ]
     },
     "metadata": {},
     "output_type": "display_data"
    }
   ],
   "source": [
    "#age\n",
    "plt.hist(df['age'], range=[df['age'].min(), df['age'].max()])"
   ]
  },
  {
   "cell_type": "code",
   "execution_count": 29,
   "metadata": {
    "collapsed": false
   },
   "outputs": [
    {
     "name": "stderr",
     "output_type": "stream",
     "text": [
      "C:\\Users\\User\\Anaconda3\\lib\\site-packages\\numpy\\lib\\function_base.py:748: RuntimeWarning: invalid value encountered in greater_equal\n",
      "  keep = (tmp_a >= mn)\n",
      "C:\\Users\\User\\Anaconda3\\lib\\site-packages\\numpy\\lib\\function_base.py:749: RuntimeWarning: invalid value encountered in less_equal\n",
      "  keep &= (tmp_a <= mx)\n"
     ]
    },
    {
     "data": {
      "text/plain": [
       "(array([    5.,    85.,   801.,  3000.,     0.,  4910.,  3700.,  1277.,\n",
       "          229.,    14.]),\n",
       " array([ 65. ,  65.8,  66.6,  67.4,  68.2,  69. ,  69.8,  70.6,  71.4,\n",
       "         72.2,  73. ]),\n",
       " <a list of 10 Patch objects>)"
      ]
     },
     "execution_count": 29,
     "metadata": {},
     "output_type": "execute_result"
    },
    {
     "data": {
      "image/png": "[encoded data removed]",
      "text/plain": [
       "<matplotlib.figure.Figure at 0x27d35f3a160>"
      ]
     },
     "metadata": {},
     "output_type": "display_data"
    }
   ],
   "source": [
    "#height\n",
    "plt.hist(df['height'], range=[df['height'].min(), df['height'].max()])"
   ]
  },
  {
   "cell_type": "code",
   "execution_count": 30,
   "metadata": {
    "collapsed": false
   },
   "outputs": [
    {
     "name": "stderr",
     "output_type": "stream",
     "text": [
      "C:\\Users\\User\\Anaconda3\\lib\\site-packages\\numpy\\lib\\function_base.py:748: RuntimeWarning: invalid value encountered in greater_equal\n",
      "  keep = (tmp_a >= mn)\n",
      "C:\\Users\\User\\Anaconda3\\lib\\site-packages\\numpy\\lib\\function_base.py:749: RuntimeWarning: invalid value encountered in less_equal\n",
      "  keep &= (tmp_a <= mx)\n"
     ]
    },
    {
     "data": {
      "text/plain": [
       "(array([  5.10000000e+01,   2.14800000e+03,   8.48200000e+03,\n",
       "          2.58900000e+03,   6.59000000e+02,   9.90000000e+01,\n",
       "          2.70000000e+01,   8.00000000e+00,   3.00000000e+00,\n",
       "          2.00000000e+00]),\n",
       " array([ 118. ,  140.5,  163. ,  185.5,  208. ,  230.5,  253. ,  275.5,\n",
       "         298. ,  320.5,  343. ]),\n",
       " <a list of 10 Patch objects>)"
      ]
     },
     "execution_count": 30,
     "metadata": {},
     "output_type": "execute_result"
    },
    {
     "data": {
      "image/png": "[encoded data removed]",
      "text/plain": [
       "<matplotlib.figure.Figure at 0x27d35f68748>"
      ]
     },
     "metadata": {},
     "output_type": "display_data"
    }
   ],
   "source": [
    "#weight\n",
    "plt.hist(df['weight'], range=[df['weight'].min(), df['weight'].max()])"
   ]
  },
  {
   "cell_type": "code",
   "execution_count": 31,
   "metadata": {
    "collapsed": false
   },
   "outputs": [
    {
     "name": "stderr",
     "output_type": "stream",
     "text": [
      "C:\\Users\\User\\Anaconda3\\lib\\site-packages\\numpy\\lib\\function_base.py:748: RuntimeWarning: invalid value encountered in greater_equal\n",
      "  keep = (tmp_a >= mn)\n",
      "C:\\Users\\User\\Anaconda3\\lib\\site-packages\\numpy\\lib\\function_base.py:749: RuntimeWarning: invalid value encountered in less_equal\n",
      "  keep &= (tmp_a <= mx)\n"
     ]
    },
    {
     "data": {
      "text/plain": [
       "(array([  5.69000000e+02,   6.19200000e+03,   5.67100000e+03,\n",
       "          1.83600000e+03,   5.65000000e+02,   1.71000000e+02,\n",
       "          4.60000000e+01,   2.40000000e+01,   5.00000000e+00,\n",
       "          3.00000000e+00]),\n",
       " array([   7. ,   25.8,   44.6,   63.4,   82.2,  101. ,  119.8,  138.6,\n",
       "         157.4,  176.2,  195. ]),\n",
       " <a list of 10 Patch objects>)"
      ]
     },
     "execution_count": 31,
     "metadata": {},
     "output_type": "execute_result"
    },
    {
     "data": {
      "image/png": "[encoded data removed]",
      "text/plain": [
       "<matplotlib.figure.Figure at 0x27d3605e160>"
      ]
     },
     "metadata": {},
     "output_type": "display_data"
    }
   ],
   "source": [
    "#tumor_diagnosis\n",
    "plt.hist(df['tumor_diagnosis'], range=[df['tumor_diagnosis'].min(), df['tumor_diagnosis'].max()])"
   ]
  },
  {
   "cell_type": "code",
   "execution_count": 32,
   "metadata": {
    "collapsed": false
   },
   "outputs": [
    {
     "name": "stderr",
     "output_type": "stream",
     "text": [
      "C:\\Users\\User\\Anaconda3\\lib\\site-packages\\numpy\\lib\\function_base.py:748: RuntimeWarning: invalid value encountered in greater_equal\n",
      "  keep = (tmp_a >= mn)\n",
      "C:\\Users\\User\\Anaconda3\\lib\\site-packages\\numpy\\lib\\function_base.py:749: RuntimeWarning: invalid value encountered in less_equal\n",
      "  keep &= (tmp_a <= mx)\n"
     ]
    },
    {
     "data": {
      "text/plain": [
       "(array([  5.00100000e+03,   3.06700000e+03,   2.66200000e+03,\n",
       "          1.55200000e+03,   6.75000000e+02,   2.17000000e+02,\n",
       "          6.90000000e+01,   1.30000000e+01,   4.00000000e+00,\n",
       "          2.00000000e+00]),\n",
       " array([   0. ,   22.5,   45. ,   67.5,   90. ,  112.5,  135. ,  157.5,\n",
       "         180. ,  202.5,  225. ]),\n",
       " <a list of 10 Patch objects>)"
      ]
     },
     "execution_count": 32,
     "metadata": {},
     "output_type": "execute_result"
    },
    {
     "data": {
      "image/png": "[encoded data removed]",
      "text/plain": [
       "<matplotlib.figure.Figure at 0x27d36310d30>"
      ]
     },
     "metadata": {},
     "output_type": "display_data"
    }
   ],
   "source": [
    "#tumor_1_year\n",
    "plt.hist(df['tumor_1_year'], range=[df['tumor_1_year'].min(), df['tumor_1_year'].max()])"
   ]
  },
  {
   "cell_type": "code",
   "execution_count": 33,
   "metadata": {
    "collapsed": false
   },
   "outputs": [
    {
     "name": "stderr",
     "output_type": "stream",
     "text": [
      "C:\\Users\\User\\Anaconda3\\lib\\site-packages\\numpy\\lib\\function_base.py:748: RuntimeWarning: invalid value encountered in greater_equal\n",
      "  keep = (tmp_a >= mn)\n",
      "C:\\Users\\User\\Anaconda3\\lib\\site-packages\\numpy\\lib\\function_base.py:749: RuntimeWarning: invalid value encountered in less_equal\n",
      "  keep &= (tmp_a <= mx)\n"
     ]
    },
    {
     "data": {
      "text/plain": [
       "(array([   57.,  1354.,  3130.,  3292.,  3267.,  2438.,   356.,    25.,\n",
       "           51.,    17.]),\n",
       " array([  0.1 ,   3.19,   6.28,   9.37,  12.46,  15.55,  18.64,  21.73,\n",
       "         24.82,  27.91,  31.  ]),\n",
       " <a list of 10 Patch objects>)"
      ]
     },
     "execution_count": 33,
     "metadata": {},
     "output_type": "execute_result"
    },
    {
     "data": {
      "image/png": "[encoded data removed]",
      "text/plain": [
       "<matplotlib.figure.Figure at 0x27d363377f0>"
      ]
     },
     "metadata": {},
     "output_type": "display_data"
    }
   ],
   "source": [
    "#psa_diagnosis\n",
    "plt.hist(df['psa_diagnosis'], range=[df['psa_diagnosis'].min(), df['psa_diagnosis'].max()])"
   ]
  },
  {
   "cell_type": "code",
   "execution_count": 34,
   "metadata": {
    "collapsed": false
   },
   "outputs": [
    {
     "name": "stderr",
     "output_type": "stream",
     "text": [
      "C:\\Users\\User\\Anaconda3\\lib\\site-packages\\numpy\\lib\\function_base.py:748: RuntimeWarning: invalid value encountered in greater_equal\n",
      "  keep = (tmp_a >= mn)\n",
      "C:\\Users\\User\\Anaconda3\\lib\\site-packages\\numpy\\lib\\function_base.py:749: RuntimeWarning: invalid value encountered in less_equal\n",
      "  keep &= (tmp_a <= mx)\n"
     ]
    },
    {
     "data": {
      "text/plain": [
       "(array([ 2555.,  2406.,  2770.,  2419.,  1606.,   722.,   231.,    77.,\n",
       "           45.,    37.]),\n",
       " array([  0. ,   3.5,   7. ,  10.5,  14. ,  17.5,  21. ,  24.5,  28. ,\n",
       "         31.5,  35. ]),\n",
       " <a list of 10 Patch objects>)"
      ]
     },
     "execution_count": 34,
     "metadata": {},
     "output_type": "execute_result"
    },
    {
     "data": {
      "image/png": "[encoded data removed]",
      "text/plain": [
       "<matplotlib.figure.Figure at 0x27d377977b8>"
      ]
     },
     "metadata": {},
     "output_type": "display_data"
    }
   ],
   "source": [
    "#psa_diagnosis\n",
    "plt.hist(df['psa_1_year'], range=[df['psa_1_year'].min(), df['psa_1_year'].max()])"
   ]
  },
  {
   "cell_type": "code",
   "execution_count": 35,
   "metadata": {
    "collapsed": true
   },
   "outputs": [],
   "source": [
    "#Imputing the missing values with their respective means\n",
    "\n",
    "df['age'].fillna(value=df['age'].mean(), inplace=True)\n",
    "df['height'].fillna(value=df['height'].mean(), inplace=True)\n",
    "df['weight'].fillna(value=df['weight'].mean(), inplace=True)\n",
    "df['tumor_diagnosis'].fillna(value=df['tumor_diagnosis'].mean(), inplace=True)\n",
    "df['tumor_1_year'].fillna(value=df['tumor_1_year'].mean(), inplace=True)\n",
    "df['psa_diagnosis'].fillna(value=df['psa_diagnosis'].mean(), inplace=True)\n",
    "df['psa_1_year'].fillna(value=df['psa_1_year'].mean(), inplace=True)"
   ]
  },
  {
   "cell_type": "code",
   "execution_count": 36,
   "metadata": {
    "collapsed": false
   },
   "outputs": [
    {
     "data": {
      "text/plain": [
       "8.0     2911\n",
       "7.0     2882\n",
       "6.0     2531\n",
       "10.0    2144\n",
       "9.0     2140\n",
       "5.0      938\n",
       "3.0      737\n",
       "4.0      715\n",
       "12.0      27\n",
       "14.0      21\n",
       "13.0      19\n",
       "Name: gleason_score, dtype: int64"
      ]
     },
     "execution_count": 36,
     "metadata": {},
     "output_type": "execute_result"
    }
   ],
   "source": [
    "#Since, gleason-score is kind of an ordinal variable (with integer values), will impute missing value by the most frequent score\n",
    "df.gleason_score.value_counts()"
   ]
  },
  {
   "cell_type": "code",
   "execution_count": 37,
   "metadata": {
    "collapsed": false
   },
   "outputs": [],
   "source": [
    "#Imputing mean for the missing values of gleason_score\n",
    "df['gleason_score'].fillna(df['gleason_score'].value_counts().index[0], inplace=True)"
   ]
  },
  {
   "cell_type": "code",
   "execution_count": 38,
   "metadata": {
    "collapsed": false
   },
   "outputs": [
    {
     "data": {
      "text/plain": [
       "4.0    11578\n",
       "2.0     2264\n",
       "1.0      918\n",
       "3.0      625\n",
       "Name: race, dtype: int64"
      ]
     },
     "execution_count": 38,
     "metadata": {},
     "output_type": "execute_result"
    }
   ],
   "source": [
    "#Since, race is kind of an ordinal variable (with numeric values), will impute missing value by the most frequent value\n",
    "df.race.value_counts()"
   ]
  },
  {
   "cell_type": "code",
   "execution_count": 39,
   "metadata": {
    "collapsed": true
   },
   "outputs": [],
   "source": [
    "#Imputing the most frequent value of race\n",
    "df['race'].fillna(df['race'].value_counts().index[0], inplace=True)"
   ]
  },
  {
   "cell_type": "code",
   "execution_count": 40,
   "metadata": {
    "collapsed": false
   },
   "outputs": [
    {
     "data": {
      "text/html": [
       "<div>\n",
       "<style>\n",
       "    .dataframe thead tr:only-child th {\n",
       "        text-align: right;\n",
       "    }\n",
       "\n",
       "    .dataframe thead th {\n",
       "        text-align: left;\n",
       "    }\n",
       "\n",
       "    .dataframe tbody tr th {\n",
       "        vertical-align: top;\n",
       "    }\n",
       "</style>\n",
       "<table border=\"1\" class=\"dataframe\">\n",
       "  <thead>\n",
       "    <tr style=\"text-align: right;\">\n",
       "      <th></th>\n",
       "      <th>count</th>\n",
       "      <th>mean</th>\n",
       "      <th>std</th>\n",
       "      <th>min</th>\n",
       "      <th>25%</th>\n",
       "      <th>50%</th>\n",
       "      <th>75%</th>\n",
       "      <th>max</th>\n",
       "    </tr>\n",
       "  </thead>\n",
       "  <tbody>\n",
       "    <tr>\n",
       "      <th>id</th>\n",
       "      <td>15385.0</td>\n",
       "      <td>7.693000e+03</td>\n",
       "      <td>4441.411281</td>\n",
       "      <td>1.000000</td>\n",
       "      <td>3847.000000</td>\n",
       "      <td>7693.000000</td>\n",
       "      <td>11539.000000</td>\n",
       "      <td>15385.000000</td>\n",
       "    </tr>\n",
       "    <tr>\n",
       "      <th>gleason_score</th>\n",
       "      <td>15385.0</td>\n",
       "      <td>7.314527e+00</td>\n",
       "      <td>1.915788</td>\n",
       "      <td>3.000000</td>\n",
       "      <td>6.000000</td>\n",
       "      <td>7.000000</td>\n",
       "      <td>9.000000</td>\n",
       "      <td>14.000000</td>\n",
       "    </tr>\n",
       "    <tr>\n",
       "      <th>age</th>\n",
       "      <td>15385.0</td>\n",
       "      <td>7.690107e+01</td>\n",
       "      <td>9.380682</td>\n",
       "      <td>32.000000</td>\n",
       "      <td>72.000000</td>\n",
       "      <td>77.000000</td>\n",
       "      <td>84.000000</td>\n",
       "      <td>107.000000</td>\n",
       "    </tr>\n",
       "    <tr>\n",
       "      <th>race</th>\n",
       "      <td>15385.0</td>\n",
       "      <td>3.486058e+00</td>\n",
       "      <td>0.949836</td>\n",
       "      <td>1.000000</td>\n",
       "      <td>4.000000</td>\n",
       "      <td>4.000000</td>\n",
       "      <td>4.000000</td>\n",
       "      <td>4.000000</td>\n",
       "    </tr>\n",
       "    <tr>\n",
       "      <th>height</th>\n",
       "      <td>15385.0</td>\n",
       "      <td>6.915120e+01</td>\n",
       "      <td>1.076309</td>\n",
       "      <td>65.000000</td>\n",
       "      <td>68.000000</td>\n",
       "      <td>69.000000</td>\n",
       "      <td>70.000000</td>\n",
       "      <td>73.000000</td>\n",
       "    </tr>\n",
       "    <tr>\n",
       "      <th>weight</th>\n",
       "      <td>15385.0</td>\n",
       "      <td>1.768000e+02</td>\n",
       "      <td>16.458761</td>\n",
       "      <td>118.000000</td>\n",
       "      <td>167.000000</td>\n",
       "      <td>175.000000</td>\n",
       "      <td>180.000000</td>\n",
       "      <td>343.000000</td>\n",
       "    </tr>\n",
       "    <tr>\n",
       "      <th>family_history</th>\n",
       "      <td>15385.0</td>\n",
       "      <td>3.801755e-01</td>\n",
       "      <td>0.595275</td>\n",
       "      <td>0.000000</td>\n",
       "      <td>0.000000</td>\n",
       "      <td>0.000000</td>\n",
       "      <td>1.000000</td>\n",
       "      <td>5.000000</td>\n",
       "    </tr>\n",
       "    <tr>\n",
       "      <th>first_degree_history</th>\n",
       "      <td>15385.0</td>\n",
       "      <td>1.900552e-01</td>\n",
       "      <td>0.440881</td>\n",
       "      <td>0.000000</td>\n",
       "      <td>0.000000</td>\n",
       "      <td>0.000000</td>\n",
       "      <td>0.000000</td>\n",
       "      <td>4.000000</td>\n",
       "    </tr>\n",
       "    <tr>\n",
       "      <th>previous_cancer</th>\n",
       "      <td>15385.0</td>\n",
       "      <td>6.168346e-02</td>\n",
       "      <td>0.240588</td>\n",
       "      <td>0.000000</td>\n",
       "      <td>0.000000</td>\n",
       "      <td>0.000000</td>\n",
       "      <td>0.000000</td>\n",
       "      <td>1.000000</td>\n",
       "    </tr>\n",
       "    <tr>\n",
       "      <th>smoker</th>\n",
       "      <td>15385.0</td>\n",
       "      <td>4.926877e-02</td>\n",
       "      <td>0.216436</td>\n",
       "      <td>0.000000</td>\n",
       "      <td>0.000000</td>\n",
       "      <td>0.000000</td>\n",
       "      <td>0.000000</td>\n",
       "      <td>1.000000</td>\n",
       "    </tr>\n",
       "    <tr>\n",
       "      <th>tumor_diagnosis</th>\n",
       "      <td>15385.0</td>\n",
       "      <td>4.957850e+01</td>\n",
       "      <td>17.773415</td>\n",
       "      <td>7.000000</td>\n",
       "      <td>38.000000</td>\n",
       "      <td>47.000000</td>\n",
       "      <td>58.000000</td>\n",
       "      <td>195.000000</td>\n",
       "    </tr>\n",
       "    <tr>\n",
       "      <th>tumor_6_months</th>\n",
       "      <td>5322.0</td>\n",
       "      <td>3.924389e+01</td>\n",
       "      <td>25.703086</td>\n",
       "      <td>0.000000</td>\n",
       "      <td>20.000000</td>\n",
       "      <td>38.000000</td>\n",
       "      <td>56.000000</td>\n",
       "      <td>190.000000</td>\n",
       "    </tr>\n",
       "    <tr>\n",
       "      <th>tumor_1_year</th>\n",
       "      <td>15385.0</td>\n",
       "      <td>3.825200e+01</td>\n",
       "      <td>30.322448</td>\n",
       "      <td>0.000000</td>\n",
       "      <td>13.000000</td>\n",
       "      <td>38.251998</td>\n",
       "      <td>55.000000</td>\n",
       "      <td>225.000000</td>\n",
       "    </tr>\n",
       "    <tr>\n",
       "      <th>psa_diagnosis</th>\n",
       "      <td>15385.0</td>\n",
       "      <td>1.170089e+01</td>\n",
       "      <td>3.973334</td>\n",
       "      <td>0.100000</td>\n",
       "      <td>8.700000</td>\n",
       "      <td>11.700894</td>\n",
       "      <td>14.600000</td>\n",
       "      <td>31.000000</td>\n",
       "    </tr>\n",
       "    <tr>\n",
       "      <th>psa_6_months</th>\n",
       "      <td>5882.0</td>\n",
       "      <td>9.855661e+00</td>\n",
       "      <td>4.948972</td>\n",
       "      <td>0.000000</td>\n",
       "      <td>6.200000</td>\n",
       "      <td>9.900000</td>\n",
       "      <td>13.400000</td>\n",
       "      <td>30.600000</td>\n",
       "    </tr>\n",
       "    <tr>\n",
       "      <th>psa_1_year</th>\n",
       "      <td>15385.0</td>\n",
       "      <td>9.116809e+00</td>\n",
       "      <td>5.534549</td>\n",
       "      <td>0.000000</td>\n",
       "      <td>5.400000</td>\n",
       "      <td>9.116809</td>\n",
       "      <td>12.200000</td>\n",
       "      <td>35.000000</td>\n",
       "    </tr>\n",
       "    <tr>\n",
       "      <th>tea</th>\n",
       "      <td>15385.0</td>\n",
       "      <td>3.114267e+00</td>\n",
       "      <td>2.256658</td>\n",
       "      <td>0.000000</td>\n",
       "      <td>2.000000</td>\n",
       "      <td>3.000000</td>\n",
       "      <td>4.000000</td>\n",
       "      <td>12.000000</td>\n",
       "    </tr>\n",
       "    <tr>\n",
       "      <th>rd_thrpy</th>\n",
       "      <td>15385.0</td>\n",
       "      <td>5.374716e-01</td>\n",
       "      <td>0.498610</td>\n",
       "      <td>0.000000</td>\n",
       "      <td>0.000000</td>\n",
       "      <td>1.000000</td>\n",
       "      <td>1.000000</td>\n",
       "      <td>1.000000</td>\n",
       "    </tr>\n",
       "    <tr>\n",
       "      <th>h_thrpy</th>\n",
       "      <td>15385.0</td>\n",
       "      <td>3.428664e-01</td>\n",
       "      <td>0.474683</td>\n",
       "      <td>0.000000</td>\n",
       "      <td>0.000000</td>\n",
       "      <td>0.000000</td>\n",
       "      <td>1.000000</td>\n",
       "      <td>1.000000</td>\n",
       "    </tr>\n",
       "    <tr>\n",
       "      <th>chm_thrpy</th>\n",
       "      <td>15385.0</td>\n",
       "      <td>6.634384e-01</td>\n",
       "      <td>0.472549</td>\n",
       "      <td>0.000000</td>\n",
       "      <td>0.000000</td>\n",
       "      <td>1.000000</td>\n",
       "      <td>1.000000</td>\n",
       "      <td>1.000000</td>\n",
       "    </tr>\n",
       "    <tr>\n",
       "      <th>cry_thrpy</th>\n",
       "      <td>15385.0</td>\n",
       "      <td>2.388690e-01</td>\n",
       "      <td>0.426406</td>\n",
       "      <td>0.000000</td>\n",
       "      <td>0.000000</td>\n",
       "      <td>0.000000</td>\n",
       "      <td>0.000000</td>\n",
       "      <td>1.000000</td>\n",
       "    </tr>\n",
       "    <tr>\n",
       "      <th>brch_thrpy</th>\n",
       "      <td>15385.0</td>\n",
       "      <td>2.450439e-01</td>\n",
       "      <td>0.430127</td>\n",
       "      <td>0.000000</td>\n",
       "      <td>0.000000</td>\n",
       "      <td>0.000000</td>\n",
       "      <td>0.000000</td>\n",
       "      <td>1.000000</td>\n",
       "    </tr>\n",
       "    <tr>\n",
       "      <th>rad_rem</th>\n",
       "      <td>15385.0</td>\n",
       "      <td>1.745856e-01</td>\n",
       "      <td>0.379625</td>\n",
       "      <td>0.000000</td>\n",
       "      <td>0.000000</td>\n",
       "      <td>0.000000</td>\n",
       "      <td>0.000000</td>\n",
       "      <td>1.000000</td>\n",
       "    </tr>\n",
       "    <tr>\n",
       "      <th>multi_thrpy</th>\n",
       "      <td>15385.0</td>\n",
       "      <td>7.786155e-01</td>\n",
       "      <td>0.415192</td>\n",
       "      <td>0.000000</td>\n",
       "      <td>1.000000</td>\n",
       "      <td>1.000000</td>\n",
       "      <td>1.000000</td>\n",
       "      <td>1.000000</td>\n",
       "    </tr>\n",
       "    <tr>\n",
       "      <th>survival_1_year</th>\n",
       "      <td>15385.0</td>\n",
       "      <td>8.969126e-01</td>\n",
       "      <td>0.304083</td>\n",
       "      <td>0.000000</td>\n",
       "      <td>1.000000</td>\n",
       "      <td>1.000000</td>\n",
       "      <td>1.000000</td>\n",
       "      <td>1.000000</td>\n",
       "    </tr>\n",
       "    <tr>\n",
       "      <th>survival_7_years</th>\n",
       "      <td>15385.0</td>\n",
       "      <td>4.323042e-01</td>\n",
       "      <td>0.495412</td>\n",
       "      <td>0.000000</td>\n",
       "      <td>0.000000</td>\n",
       "      <td>0.000000</td>\n",
       "      <td>1.000000</td>\n",
       "      <td>1.000000</td>\n",
       "    </tr>\n",
       "    <tr>\n",
       "      <th>Symp_0</th>\n",
       "      <td>15385.0</td>\n",
       "      <td>-8.040728e-17</td>\n",
       "      <td>0.500272</td>\n",
       "      <td>-0.745325</td>\n",
       "      <td>-0.410040</td>\n",
       "      <td>-0.127310</td>\n",
       "      <td>0.497500</td>\n",
       "      <td>0.856557</td>\n",
       "    </tr>\n",
       "    <tr>\n",
       "      <th>Symp_1</th>\n",
       "      <td>15385.0</td>\n",
       "      <td>1.776104e-16</td>\n",
       "      <td>0.489561</td>\n",
       "      <td>-0.749323</td>\n",
       "      <td>-0.393837</td>\n",
       "      <td>-0.157079</td>\n",
       "      <td>0.494792</td>\n",
       "      <td>0.868418</td>\n",
       "    </tr>\n",
       "    <tr>\n",
       "      <th>Symp_2</th>\n",
       "      <td>15385.0</td>\n",
       "      <td>9.508878e-17</td>\n",
       "      <td>0.487739</td>\n",
       "      <td>-0.731016</td>\n",
       "      <td>-0.415223</td>\n",
       "      <td>-0.125720</td>\n",
       "      <td>0.466439</td>\n",
       "      <td>0.933399</td>\n",
       "    </tr>\n",
       "    <tr>\n",
       "      <th>Symp_3</th>\n",
       "      <td>15385.0</td>\n",
       "      <td>4.263011e-17</td>\n",
       "      <td>0.476536</td>\n",
       "      <td>-0.806044</td>\n",
       "      <td>-0.587937</td>\n",
       "      <td>0.257307</td>\n",
       "      <td>0.388164</td>\n",
       "      <td>0.464268</td>\n",
       "    </tr>\n",
       "    <tr>\n",
       "      <th>Symp_4</th>\n",
       "      <td>15385.0</td>\n",
       "      <td>6.334802e-17</td>\n",
       "      <td>0.431595</td>\n",
       "      <td>-0.309675</td>\n",
       "      <td>-0.258339</td>\n",
       "      <td>-0.231151</td>\n",
       "      <td>-0.153439</td>\n",
       "      <td>0.850839</td>\n",
       "    </tr>\n",
       "    <tr>\n",
       "      <th>Symp_5</th>\n",
       "      <td>15385.0</td>\n",
       "      <td>-3.367111e-17</td>\n",
       "      <td>0.401862</td>\n",
       "      <td>-0.266488</td>\n",
       "      <td>-0.210617</td>\n",
       "      <td>-0.190070</td>\n",
       "      <td>-0.172360</td>\n",
       "      <td>0.844361</td>\n",
       "    </tr>\n",
       "    <tr>\n",
       "      <th>Symp_6</th>\n",
       "      <td>15385.0</td>\n",
       "      <td>5.798814e-17</td>\n",
       "      <td>0.359238</td>\n",
       "      <td>-0.200352</td>\n",
       "      <td>-0.167217</td>\n",
       "      <td>-0.148883</td>\n",
       "      <td>-0.122082</td>\n",
       "      <td>0.916513</td>\n",
       "    </tr>\n",
       "    <tr>\n",
       "      <th>Symp_7</th>\n",
       "      <td>15385.0</td>\n",
       "      <td>-2.122485e-18</td>\n",
       "      <td>0.304781</td>\n",
       "      <td>-0.169261</td>\n",
       "      <td>-0.115157</td>\n",
       "      <td>-0.102081</td>\n",
       "      <td>-0.084624</td>\n",
       "      <td>0.957393</td>\n",
       "    </tr>\n",
       "  </tbody>\n",
       "</table>\n",
       "</div>"
      ],
      "text/plain": [
       "                        count          mean          std         min  \\\n",
       "id                    15385.0  7.693000e+03  4441.411281    1.000000   \n",
       "gleason_score         15385.0  7.314527e+00     1.915788    3.000000   \n",
       "age                   15385.0  7.690107e+01     9.380682   32.000000   \n",
       "race                  15385.0  3.486058e+00     0.949836    1.000000   \n",
       "height                15385.0  6.915120e+01     1.076309   65.000000   \n",
       "weight                15385.0  1.768000e+02    16.458761  118.000000   \n",
       "family_history        15385.0  3.801755e-01     0.595275    0.000000   \n",
       "first_degree_history  15385.0  1.900552e-01     0.440881    0.000000   \n",
       "previous_cancer       15385.0  6.168346e-02     0.240588    0.000000   \n",
       "smoker                15385.0  4.926877e-02     0.216436    0.000000   \n",
       "tumor_diagnosis       15385.0  4.957850e+01    17.773415    7.000000   \n",
       "tumor_6_months         5322.0  3.924389e+01    25.703086    0.000000   \n",
       "tumor_1_year          15385.0  3.825200e+01    30.322448    0.000000   \n",
       "psa_diagnosis         15385.0  1.170089e+01     3.973334    0.100000   \n",
       "psa_6_months           5882.0  9.855661e+00     4.948972    0.000000   \n",
       "psa_1_year            15385.0  9.116809e+00     5.534549    0.000000   \n",
       "tea                   15385.0  3.114267e+00     2.256658    0.000000   \n",
       "rd_thrpy              15385.0  5.374716e-01     0.498610    0.000000   \n",
       "h_thrpy               15385.0  3.428664e-01     0.474683    0.000000   \n",
       "chm_thrpy             15385.0  6.634384e-01     0.472549    0.000000   \n",
       "cry_thrpy             15385.0  2.388690e-01     0.426406    0.000000   \n",
       "brch_thrpy            15385.0  2.450439e-01     0.430127    0.000000   \n",
       "rad_rem               15385.0  1.745856e-01     0.379625    0.000000   \n",
       "multi_thrpy           15385.0  7.786155e-01     0.415192    0.000000   \n",
       "survival_1_year       15385.0  8.969126e-01     0.304083    0.000000   \n",
       "survival_7_years      15385.0  4.323042e-01     0.495412    0.000000   \n",
       "Symp_0                15385.0 -8.040728e-17     0.500272   -0.745325   \n",
       "Symp_1                15385.0  1.776104e-16     0.489561   -0.749323   \n",
       "Symp_2                15385.0  9.508878e-17     0.487739   -0.731016   \n",
       "Symp_3                15385.0  4.263011e-17     0.476536   -0.806044   \n",
       "Symp_4                15385.0  6.334802e-17     0.431595   -0.309675   \n",
       "Symp_5                15385.0 -3.367111e-17     0.401862   -0.266488   \n",
       "Symp_6                15385.0  5.798814e-17     0.359238   -0.200352   \n",
       "Symp_7                15385.0 -2.122485e-18     0.304781   -0.169261   \n",
       "\n",
       "                              25%          50%           75%           max  \n",
       "id                    3847.000000  7693.000000  11539.000000  15385.000000  \n",
       "gleason_score            6.000000     7.000000      9.000000     14.000000  \n",
       "age                     72.000000    77.000000     84.000000    107.000000  \n",
       "race                     4.000000     4.000000      4.000000      4.000000  \n",
       "height                  68.000000    69.000000     70.000000     73.000000  \n",
       "weight                 167.000000   175.000000    180.000000    343.000000  \n",
       "family_history           0.000000     0.000000      1.000000      5.000000  \n",
       "first_degree_history     0.000000     0.000000      0.000000      4.000000  \n",
       "previous_cancer          0.000000     0.000000      0.000000      1.000000  \n",
       "smoker                   0.000000     0.000000      0.000000      1.000000  \n",
       "tumor_diagnosis         38.000000    47.000000     58.000000    195.000000  \n",
       "tumor_6_months          20.000000    38.000000     56.000000    190.000000  \n",
       "tumor_1_year            13.000000    38.251998     55.000000    225.000000  \n",
       "psa_diagnosis            8.700000    11.700894     14.600000     31.000000  \n",
       "psa_6_months             6.200000     9.900000     13.400000     30.600000  \n",
       "psa_1_year               5.400000     9.116809     12.200000     35.000000  \n",
       "tea                      2.000000     3.000000      4.000000     12.000000  \n",
       "rd_thrpy                 0.000000     1.000000      1.000000      1.000000  \n",
       "h_thrpy                  0.000000     0.000000      1.000000      1.000000  \n",
       "chm_thrpy                0.000000     1.000000      1.000000      1.000000  \n",
       "cry_thrpy                0.000000     0.000000      0.000000      1.000000  \n",
       "brch_thrpy               0.000000     0.000000      0.000000      1.000000  \n",
       "rad_rem                  0.000000     0.000000      0.000000      1.000000  \n",
       "multi_thrpy              1.000000     1.000000      1.000000      1.000000  \n",
       "survival_1_year          1.000000     1.000000      1.000000      1.000000  \n",
       "survival_7_years         0.000000     0.000000      1.000000      1.000000  \n",
       "Symp_0                  -0.410040    -0.127310      0.497500      0.856557  \n",
       "Symp_1                  -0.393837    -0.157079      0.494792      0.868418  \n",
       "Symp_2                  -0.415223    -0.125720      0.466439      0.933399  \n",
       "Symp_3                  -0.587937     0.257307      0.388164      0.464268  \n",
       "Symp_4                  -0.258339    -0.231151     -0.153439      0.850839  \n",
       "Symp_5                  -0.210617    -0.190070     -0.172360      0.844361  \n",
       "Symp_6                  -0.167217    -0.148883     -0.122082      0.916513  \n",
       "Symp_7                  -0.115157    -0.102081     -0.084624      0.957393  "
      ]
     },
     "execution_count": 40,
     "metadata": {},
     "output_type": "execute_result"
    }
   ],
   "source": [
    "#Again looking at the summary statistics to confirm the imputation\n",
    "df.describe().transpose()"
   ]
  },
  {
   "cell_type": "markdown",
   "metadata": {},
   "source": [
    "Removing variables with more than 50% missing values and creating binary variables inplace of them. This helps in analyzing whether the presence of such features have an impact or not. Based on the results, it can be changed for further analysis.\n",
    "1-present & 0-missing."
   ]
  },
  {
   "cell_type": "code",
   "execution_count": 41,
   "metadata": {
    "collapsed": false
   },
   "outputs": [],
   "source": [
    "#Variables-tumor_6_months & psa_6_months have more than 50% missing values\n",
    "\n",
    "df['tumor_6_months_flag'] = df.tumor_6_months.apply(lambda x: 0 if pd.isnull(x) else 1)\n",
    "df['psa_6_months_flag'] = df.psa_6_months.apply(lambda x: 0 if pd.isnull(x) else 1)"
   ]
  },
  {
   "cell_type": "code",
   "execution_count": 42,
   "metadata": {
    "collapsed": false
   },
   "outputs": [
    {
     "data": {
      "text/plain": [
       "0    10063\n",
       "1     5322\n",
       "Name: tumor_6_months_flag, dtype: int64"
      ]
     },
     "execution_count": 42,
     "metadata": {},
     "output_type": "execute_result"
    }
   ],
   "source": [
    "#tumor_6_months_flag\n",
    "df.tumor_6_months_flag.value_counts()"
   ]
  },
  {
   "cell_type": "code",
   "execution_count": 43,
   "metadata": {
    "collapsed": false
   },
   "outputs": [
    {
     "data": {
      "text/plain": [
       "0    9503\n",
       "1    5882\n",
       "Name: psa_6_months_flag, dtype: int64"
      ]
     },
     "execution_count": 43,
     "metadata": {},
     "output_type": "execute_result"
    }
   ],
   "source": [
    "#psa_6_months_flag\n",
    "df.psa_6_months_flag.value_counts()"
   ]
  },
  {
   "cell_type": "code",
   "execution_count": 44,
   "metadata": {
    "collapsed": false
   },
   "outputs": [],
   "source": [
    "#Removing the original columns - tumor_6_months & psa_6_months\n",
    "#Also, removing id & diagnosis_date, which are not relevant for this modeling exercise\n",
    "df.drop(['tumor_6_months', 'psa_6_months', 'id', 'diagnosis_date'], axis=1, inplace=True)"
   ]
  },
  {
   "cell_type": "code",
   "execution_count": 45,
   "metadata": {
    "collapsed": true
   },
   "outputs": [],
   "source": [
    "#Converting \"race\" to object type, as it has 4 distinct values (4 different races of patients)\n",
    "df['race'] = df.race.astype('object')"
   ]
  },
  {
   "cell_type": "markdown",
   "metadata": {},
   "source": [
    "### Dummy Variables\n",
    "Creating dummy variables for categorical features is a must for algorithms like Logistic Regression and also in Python (for scikit-learn) as they accept only numeric features."
   ]
  },
  {
   "cell_type": "code",
   "execution_count": 46,
   "metadata": {
    "collapsed": false
   },
   "outputs": [],
   "source": [
    "#Creating dummy variables for the following columns - t_score, n_score, m_score, stage, race, side\n",
    "#pd.get_dummies drops the first value of each variable and treats it as the reference level\n",
    "\n",
    "df=pd.get_dummies(df, columns=['t_score', 'n_score', 'm_score', 'stage', 'race', 'side'], drop_first=True)"
   ]
  },
  {
   "cell_type": "code",
   "execution_count": 47,
   "metadata": {
    "collapsed": false
   },
   "outputs": [
    {
     "data": {
      "text/plain": [
       "gleason_score           float64\n",
       "age                     float64\n",
       "height                  float64\n",
       "weight                  float64\n",
       "family_history          float64\n",
       "first_degree_history    float64\n",
       "previous_cancer         float64\n",
       "smoker                  float64\n",
       "tumor_diagnosis         float64\n",
       "tumor_1_year            float64\n",
       "psa_diagnosis           float64\n",
       "psa_1_year              float64\n",
       "tea                     float64\n",
       "rd_thrpy                  int64\n",
       "h_thrpy                   int64\n",
       "chm_thrpy                 int64\n",
       "cry_thrpy                 int64\n",
       "brch_thrpy                int64\n",
       "rad_rem                   int64\n",
       "multi_thrpy               int64\n",
       "survival_1_year           int64\n",
       "survival_7_years          int64\n",
       "Symp_0                  float64\n",
       "Symp_1                  float64\n",
       "Symp_2                  float64\n",
       "Symp_3                  float64\n",
       "Symp_4                  float64\n",
       "Symp_5                  float64\n",
       "Symp_6                  float64\n",
       "Symp_7                  float64\n",
       "tumor_6_months_flag       int64\n",
       "psa_6_months_flag         int64\n",
       "t_score_T1b               uint8\n",
       "t_score_T1c               uint8\n",
       "t_score_T2a               uint8\n",
       "t_score_T2b               uint8\n",
       "t_score_T2c               uint8\n",
       "t_score_T3a               uint8\n",
       "t_score_T3b               uint8\n",
       "t_score_T3c               uint8\n",
       "t_score_T4                uint8\n",
       "n_score_N1                uint8\n",
       "n_score_NX                uint8\n",
       "m_score_M1a               uint8\n",
       "m_score_M1b               uint8\n",
       "m_score_M1c               uint8\n",
       "stage_IIA                 uint8\n",
       "stage_IIB                 uint8\n",
       "stage_III                 uint8\n",
       "stage_IV                  uint8\n",
       "race_2.0                  uint8\n",
       "race_3.0                  uint8\n",
       "race_4.0                  uint8\n",
       "side_left                 uint8\n",
       "side_right                uint8\n",
       "dtype: object"
      ]
     },
     "execution_count": 47,
     "metadata": {},
     "output_type": "execute_result"
    }
   ],
   "source": [
    "#Confirming the creation of dummy variables\n",
    "df.dtypes"
   ]
  },
  {
   "cell_type": "markdown",
   "metadata": {},
   "source": [
    "### Outlier Treatment\n",
    "The numeric features might have some outliers, which are required to be treated especially for algorithms like Logistic Regression, but the tree based methods are robust to outliers.\n",
    "I have not removed the outliers because that reduces the training data, and since we have only a limited number of rows, using normal quantiles (between the 5th and the 95th percentile) in place of the raw data (outliers) keeps any extreme values in place. \n",
    "\n",
    "Since this is a data challenge, I am not further analyzing these outliers due to time constraints, otherwise it should be done to study these abnormal behaviors.\n",
    "\n",
    "I have plotted boxplots to see the outliers for the numeric variables"
   ]
  },
  {
   "cell_type": "code",
   "execution_count": 48,
   "metadata": {
    "collapsed": false
   },
   "outputs": [
    {
     "data": {
      "text/plain": [
       "{'boxes': [<matplotlib.lines.Line2D at 0x27d37a8fcc0>],\n",
       " 'caps': [<matplotlib.lines.Line2D at 0x27d37a95fd0>,\n",
       "  <matplotlib.lines.Line2D at 0x27d37a9cf28>],\n",
       " 'fliers': [<matplotlib.lines.Line2D at 0x27d37ae0f98>],\n",
       " 'means': [],\n",
       " 'medians': [<matplotlib.lines.Line2D at 0x27d37ae00f0>],\n",
       " 'whiskers': [<matplotlib.lines.Line2D at 0x27d37a8fef0>,\n",
       "  <matplotlib.lines.Line2D at 0x27d37a95eb8>]}"
      ]
     },
     "execution_count": 48,
     "metadata": {},
     "output_type": "execute_result"
    },
    {
     "data": {
      "image/png": "[encoded data removed]",
      "text/plain": [
       "<matplotlib.figure.Figure at 0x27d359056d8>"
      ]
     },
     "metadata": {},
     "output_type": "display_data"
    }
   ],
   "source": [
    "#weight\n",
    "plt.boxplot(df['weight'])"
   ]
  },
  {
   "cell_type": "code",
   "execution_count": 49,
   "metadata": {
    "collapsed": false
   },
   "outputs": [
    {
     "data": {
      "text/plain": [
       "{'boxes': [<matplotlib.lines.Line2D at 0x27d37ab6eb8>],\n",
       " 'caps': [<matplotlib.lines.Line2D at 0x27d37ac3908>,\n",
       "  <matplotlib.lines.Line2D at 0x27d37ac3a90>],\n",
       " 'fliers': [<matplotlib.lines.Line2D at 0x27d37ac8b00>],\n",
       " 'means': [],\n",
       " 'medians': [<matplotlib.lines.Line2D at 0x27d37ac82e8>],\n",
       " 'whiskers': [<matplotlib.lines.Line2D at 0x27d37abd898>,\n",
       "  <matplotlib.lines.Line2D at 0x27d37abdfd0>]}"
      ]
     },
     "execution_count": 49,
     "metadata": {},
     "output_type": "execute_result"
    },
    {
     "data": {
      "image/png": "[encoded data removed]",
      "text/plain": [
       "<matplotlib.figure.Figure at 0x27d37af15c0>"
      ]
     },
     "metadata": {},
     "output_type": "display_data"
    }
   ],
   "source": [
    "#tumor_diagnosis\n",
    "plt.boxplot(df['tumor_diagnosis'])"
   ]
  },
  {
   "cell_type": "code",
   "execution_count": 50,
   "metadata": {
    "collapsed": false
   },
   "outputs": [
    {
     "data": {
      "text/plain": [
       "{'boxes': [<matplotlib.lines.Line2D at 0x27d37b64860>],\n",
       " 'caps': [<matplotlib.lines.Line2D at 0x27d37b6abe0>,\n",
       "  <matplotlib.lines.Line2D at 0x27d37b72ac8>],\n",
       " 'fliers': [<matplotlib.lines.Line2D at 0x27d37b77b38>],\n",
       " 'means': [],\n",
       " 'medians': [<matplotlib.lines.Line2D at 0x27d37b72c50>],\n",
       " 'whiskers': [<matplotlib.lines.Line2D at 0x27d37b64a90>,\n",
       "  <matplotlib.lines.Line2D at 0x27d37b6aa58>]}"
      ]
     },
     "execution_count": 50,
     "metadata": {},
     "output_type": "execute_result"
    },
    {
     "data": {
      "image/png": "[encoded data removed]",
      "text/plain": [
       "<matplotlib.figure.Figure at 0x27d37afafd0>"
      ]
     },
     "metadata": {},
     "output_type": "display_data"
    }
   ],
   "source": [
    "#psa_1_year\n",
    "plt.boxplot(df['psa_1_year'])"
   ]
  },
  {
   "cell_type": "code",
   "execution_count": 51,
   "metadata": {
    "collapsed": true
   },
   "outputs": [],
   "source": [
    "#Outlier Treatment - winsorizing numeric variables\n",
    "\n",
    "#importing required library\n",
    "from scipy.stats import mstats\n",
    "\n",
    "#Creating a function which limits the values between 5th and 95th percentile\n",
    "def WinsorizeStats(data):\n",
    "    out = mstats.winsorize(data, limits=[0.05, 0.05])\n",
    "    return out"
   ]
  },
  {
   "cell_type": "code",
   "execution_count": 52,
   "metadata": {
    "collapsed": false
   },
   "outputs": [],
   "source": [
    "#Winsorizing the following variables which had outliers based on the boxplot-\n",
    "#'tumor_diagnosis','tumor_1_year','psa_diagnosis','psa_1_year','age','weight'\n",
    "\n",
    "df['psa_1_year']=WinsorizeStats(df['psa_1_year'])\n",
    "df['tumor_1_year']=WinsorizeStats(df['tumor_1_year'])\n",
    "df['tumor_diagnosis']=WinsorizeStats(df['tumor_diagnosis'])\n",
    "df['psa_diagnosis']=WinsorizeStats(df['psa_diagnosis'])\n",
    "df['weight']=WinsorizeStats(df['weight'])\n",
    "df['age']=WinsorizeStats(df['age'])"
   ]
  },
  {
   "cell_type": "code",
   "execution_count": 53,
   "metadata": {
    "collapsed": false
   },
   "outputs": [
    {
     "data": {
      "text/html": [
       "<div>\n",
       "<style>\n",
       "    .dataframe thead tr:only-child th {\n",
       "        text-align: right;\n",
       "    }\n",
       "\n",
       "    .dataframe thead th {\n",
       "        text-align: left;\n",
       "    }\n",
       "\n",
       "    .dataframe tbody tr th {\n",
       "        vertical-align: top;\n",
       "    }\n",
       "</style>\n",
       "<table border=\"1\" class=\"dataframe\">\n",
       "  <thead>\n",
       "    <tr style=\"text-align: right;\">\n",
       "      <th></th>\n",
       "      <th>count</th>\n",
       "      <th>mean</th>\n",
       "      <th>std</th>\n",
       "      <th>min</th>\n",
       "      <th>25%</th>\n",
       "      <th>50%</th>\n",
       "      <th>75%</th>\n",
       "      <th>max</th>\n",
       "    </tr>\n",
       "  </thead>\n",
       "  <tbody>\n",
       "    <tr>\n",
       "      <th>gleason_score</th>\n",
       "      <td>15385.0</td>\n",
       "      <td>7.314527e+00</td>\n",
       "      <td>1.915788</td>\n",
       "      <td>3.000000</td>\n",
       "      <td>6.000000</td>\n",
       "      <td>7.000000</td>\n",
       "      <td>9.000000</td>\n",
       "      <td>14.000000</td>\n",
       "    </tr>\n",
       "    <tr>\n",
       "      <th>age</th>\n",
       "      <td>15385.0</td>\n",
       "      <td>7.697764e+01</td>\n",
       "      <td>8.558195</td>\n",
       "      <td>60.000000</td>\n",
       "      <td>72.000000</td>\n",
       "      <td>77.000000</td>\n",
       "      <td>84.000000</td>\n",
       "      <td>90.000000</td>\n",
       "    </tr>\n",
       "    <tr>\n",
       "      <th>height</th>\n",
       "      <td>15385.0</td>\n",
       "      <td>6.915120e+01</td>\n",
       "      <td>1.076309</td>\n",
       "      <td>65.000000</td>\n",
       "      <td>68.000000</td>\n",
       "      <td>69.000000</td>\n",
       "      <td>70.000000</td>\n",
       "      <td>73.000000</td>\n",
       "    </tr>\n",
       "    <tr>\n",
       "      <th>weight</th>\n",
       "      <td>15385.0</td>\n",
       "      <td>1.763925e+02</td>\n",
       "      <td>13.699992</td>\n",
       "      <td>156.000000</td>\n",
       "      <td>167.000000</td>\n",
       "      <td>175.000000</td>\n",
       "      <td>180.000000</td>\n",
       "      <td>208.000000</td>\n",
       "    </tr>\n",
       "    <tr>\n",
       "      <th>family_history</th>\n",
       "      <td>15385.0</td>\n",
       "      <td>3.801755e-01</td>\n",
       "      <td>0.595275</td>\n",
       "      <td>0.000000</td>\n",
       "      <td>0.000000</td>\n",
       "      <td>0.000000</td>\n",
       "      <td>1.000000</td>\n",
       "      <td>5.000000</td>\n",
       "    </tr>\n",
       "    <tr>\n",
       "      <th>first_degree_history</th>\n",
       "      <td>15385.0</td>\n",
       "      <td>1.900552e-01</td>\n",
       "      <td>0.440881</td>\n",
       "      <td>0.000000</td>\n",
       "      <td>0.000000</td>\n",
       "      <td>0.000000</td>\n",
       "      <td>0.000000</td>\n",
       "      <td>4.000000</td>\n",
       "    </tr>\n",
       "    <tr>\n",
       "      <th>previous_cancer</th>\n",
       "      <td>15385.0</td>\n",
       "      <td>6.168346e-02</td>\n",
       "      <td>0.240588</td>\n",
       "      <td>0.000000</td>\n",
       "      <td>0.000000</td>\n",
       "      <td>0.000000</td>\n",
       "      <td>0.000000</td>\n",
       "      <td>1.000000</td>\n",
       "    </tr>\n",
       "    <tr>\n",
       "      <th>smoker</th>\n",
       "      <td>15385.0</td>\n",
       "      <td>4.926877e-02</td>\n",
       "      <td>0.216436</td>\n",
       "      <td>0.000000</td>\n",
       "      <td>0.000000</td>\n",
       "      <td>0.000000</td>\n",
       "      <td>0.000000</td>\n",
       "      <td>1.000000</td>\n",
       "    </tr>\n",
       "    <tr>\n",
       "      <th>tumor_diagnosis</th>\n",
       "      <td>15385.0</td>\n",
       "      <td>4.898468e+01</td>\n",
       "      <td>14.980506</td>\n",
       "      <td>27.000000</td>\n",
       "      <td>38.000000</td>\n",
       "      <td>47.000000</td>\n",
       "      <td>58.000000</td>\n",
       "      <td>83.000000</td>\n",
       "    </tr>\n",
       "    <tr>\n",
       "      <th>tumor_1_year</th>\n",
       "      <td>15385.0</td>\n",
       "      <td>3.732525e+01</td>\n",
       "      <td>27.949971</td>\n",
       "      <td>0.000000</td>\n",
       "      <td>13.000000</td>\n",
       "      <td>38.251998</td>\n",
       "      <td>55.000000</td>\n",
       "      <td>95.000000</td>\n",
       "    </tr>\n",
       "    <tr>\n",
       "      <th>psa_diagnosis</th>\n",
       "      <td>15385.0</td>\n",
       "      <td>1.166219e+01</td>\n",
       "      <td>3.698760</td>\n",
       "      <td>5.300000</td>\n",
       "      <td>8.700000</td>\n",
       "      <td>11.700894</td>\n",
       "      <td>14.600000</td>\n",
       "      <td>18.000000</td>\n",
       "    </tr>\n",
       "    <tr>\n",
       "      <th>psa_1_year</th>\n",
       "      <td>15385.0</td>\n",
       "      <td>8.934651e+00</td>\n",
       "      <td>5.071649</td>\n",
       "      <td>0.000000</td>\n",
       "      <td>5.400000</td>\n",
       "      <td>9.116809</td>\n",
       "      <td>12.200000</td>\n",
       "      <td>18.700000</td>\n",
       "    </tr>\n",
       "    <tr>\n",
       "      <th>tea</th>\n",
       "      <td>15385.0</td>\n",
       "      <td>3.114267e+00</td>\n",
       "      <td>2.256658</td>\n",
       "      <td>0.000000</td>\n",
       "      <td>2.000000</td>\n",
       "      <td>3.000000</td>\n",
       "      <td>4.000000</td>\n",
       "      <td>12.000000</td>\n",
       "    </tr>\n",
       "    <tr>\n",
       "      <th>rd_thrpy</th>\n",
       "      <td>15385.0</td>\n",
       "      <td>5.374716e-01</td>\n",
       "      <td>0.498610</td>\n",
       "      <td>0.000000</td>\n",
       "      <td>0.000000</td>\n",
       "      <td>1.000000</td>\n",
       "      <td>1.000000</td>\n",
       "      <td>1.000000</td>\n",
       "    </tr>\n",
       "    <tr>\n",
       "      <th>h_thrpy</th>\n",
       "      <td>15385.0</td>\n",
       "      <td>3.428664e-01</td>\n",
       "      <td>0.474683</td>\n",
       "      <td>0.000000</td>\n",
       "      <td>0.000000</td>\n",
       "      <td>0.000000</td>\n",
       "      <td>1.000000</td>\n",
       "      <td>1.000000</td>\n",
       "    </tr>\n",
       "    <tr>\n",
       "      <th>chm_thrpy</th>\n",
       "      <td>15385.0</td>\n",
       "      <td>6.634384e-01</td>\n",
       "      <td>0.472549</td>\n",
       "      <td>0.000000</td>\n",
       "      <td>0.000000</td>\n",
       "      <td>1.000000</td>\n",
       "      <td>1.000000</td>\n",
       "      <td>1.000000</td>\n",
       "    </tr>\n",
       "    <tr>\n",
       "      <th>cry_thrpy</th>\n",
       "      <td>15385.0</td>\n",
       "      <td>2.388690e-01</td>\n",
       "      <td>0.426406</td>\n",
       "      <td>0.000000</td>\n",
       "      <td>0.000000</td>\n",
       "      <td>0.000000</td>\n",
       "      <td>0.000000</td>\n",
       "      <td>1.000000</td>\n",
       "    </tr>\n",
       "    <tr>\n",
       "      <th>brch_thrpy</th>\n",
       "      <td>15385.0</td>\n",
       "      <td>2.450439e-01</td>\n",
       "      <td>0.430127</td>\n",
       "      <td>0.000000</td>\n",
       "      <td>0.000000</td>\n",
       "      <td>0.000000</td>\n",
       "      <td>0.000000</td>\n",
       "      <td>1.000000</td>\n",
       "    </tr>\n",
       "    <tr>\n",
       "      <th>rad_rem</th>\n",
       "      <td>15385.0</td>\n",
       "      <td>1.745856e-01</td>\n",
       "      <td>0.379625</td>\n",
       "      <td>0.000000</td>\n",
       "      <td>0.000000</td>\n",
       "      <td>0.000000</td>\n",
       "      <td>0.000000</td>\n",
       "      <td>1.000000</td>\n",
       "    </tr>\n",
       "    <tr>\n",
       "      <th>multi_thrpy</th>\n",
       "      <td>15385.0</td>\n",
       "      <td>7.786155e-01</td>\n",
       "      <td>0.415192</td>\n",
       "      <td>0.000000</td>\n",
       "      <td>1.000000</td>\n",
       "      <td>1.000000</td>\n",
       "      <td>1.000000</td>\n",
       "      <td>1.000000</td>\n",
       "    </tr>\n",
       "    <tr>\n",
       "      <th>survival_1_year</th>\n",
       "      <td>15385.0</td>\n",
       "      <td>8.969126e-01</td>\n",
       "      <td>0.304083</td>\n",
       "      <td>0.000000</td>\n",
       "      <td>1.000000</td>\n",
       "      <td>1.000000</td>\n",
       "      <td>1.000000</td>\n",
       "      <td>1.000000</td>\n",
       "    </tr>\n",
       "    <tr>\n",
       "      <th>survival_7_years</th>\n",
       "      <td>15385.0</td>\n",
       "      <td>4.323042e-01</td>\n",
       "      <td>0.495412</td>\n",
       "      <td>0.000000</td>\n",
       "      <td>0.000000</td>\n",
       "      <td>0.000000</td>\n",
       "      <td>1.000000</td>\n",
       "      <td>1.000000</td>\n",
       "    </tr>\n",
       "    <tr>\n",
       "      <th>Symp_0</th>\n",
       "      <td>15385.0</td>\n",
       "      <td>-8.040728e-17</td>\n",
       "      <td>0.500272</td>\n",
       "      <td>-0.745325</td>\n",
       "      <td>-0.410040</td>\n",
       "      <td>-0.127310</td>\n",
       "      <td>0.497500</td>\n",
       "      <td>0.856557</td>\n",
       "    </tr>\n",
       "    <tr>\n",
       "      <th>Symp_1</th>\n",
       "      <td>15385.0</td>\n",
       "      <td>1.776104e-16</td>\n",
       "      <td>0.489561</td>\n",
       "      <td>-0.749323</td>\n",
       "      <td>-0.393837</td>\n",
       "      <td>-0.157079</td>\n",
       "      <td>0.494792</td>\n",
       "      <td>0.868418</td>\n",
       "    </tr>\n",
       "    <tr>\n",
       "      <th>Symp_2</th>\n",
       "      <td>15385.0</td>\n",
       "      <td>9.508878e-17</td>\n",
       "      <td>0.487739</td>\n",
       "      <td>-0.731016</td>\n",
       "      <td>-0.415223</td>\n",
       "      <td>-0.125720</td>\n",
       "      <td>0.466439</td>\n",
       "      <td>0.933399</td>\n",
       "    </tr>\n",
       "    <tr>\n",
       "      <th>Symp_3</th>\n",
       "      <td>15385.0</td>\n",
       "      <td>4.263011e-17</td>\n",
       "      <td>0.476536</td>\n",
       "      <td>-0.806044</td>\n",
       "      <td>-0.587937</td>\n",
       "      <td>0.257307</td>\n",
       "      <td>0.388164</td>\n",
       "      <td>0.464268</td>\n",
       "    </tr>\n",
       "    <tr>\n",
       "      <th>Symp_4</th>\n",
       "      <td>15385.0</td>\n",
       "      <td>6.334802e-17</td>\n",
       "      <td>0.431595</td>\n",
       "      <td>-0.309675</td>\n",
       "      <td>-0.258339</td>\n",
       "      <td>-0.231151</td>\n",
       "      <td>-0.153439</td>\n",
       "      <td>0.850839</td>\n",
       "    </tr>\n",
       "    <tr>\n",
       "      <th>Symp_5</th>\n",
       "      <td>15385.0</td>\n",
       "      <td>-3.367111e-17</td>\n",
       "      <td>0.401862</td>\n",
       "      <td>-0.266488</td>\n",
       "      <td>-0.210617</td>\n",
       "      <td>-0.190070</td>\n",
       "      <td>-0.172360</td>\n",
       "      <td>0.844361</td>\n",
       "    </tr>\n",
       "    <tr>\n",
       "      <th>Symp_6</th>\n",
       "      <td>15385.0</td>\n",
       "      <td>5.798814e-17</td>\n",
       "      <td>0.359238</td>\n",
       "      <td>-0.200352</td>\n",
       "      <td>-0.167217</td>\n",
       "      <td>-0.148883</td>\n",
       "      <td>-0.122082</td>\n",
       "      <td>0.916513</td>\n",
       "    </tr>\n",
       "    <tr>\n",
       "      <th>Symp_7</th>\n",
       "      <td>15385.0</td>\n",
       "      <td>-2.122485e-18</td>\n",
       "      <td>0.304781</td>\n",
       "      <td>-0.169261</td>\n",
       "      <td>-0.115157</td>\n",
       "      <td>-0.102081</td>\n",
       "      <td>-0.084624</td>\n",
       "      <td>0.957393</td>\n",
       "    </tr>\n",
       "    <tr>\n",
       "      <th>tumor_6_months_flag</th>\n",
       "      <td>15385.0</td>\n",
       "      <td>3.459214e-01</td>\n",
       "      <td>0.475683</td>\n",
       "      <td>0.000000</td>\n",
       "      <td>0.000000</td>\n",
       "      <td>0.000000</td>\n",
       "      <td>1.000000</td>\n",
       "      <td>1.000000</td>\n",
       "    </tr>\n",
       "    <tr>\n",
       "      <th>psa_6_months_flag</th>\n",
       "      <td>15385.0</td>\n",
       "      <td>3.823204e-01</td>\n",
       "      <td>0.485970</td>\n",
       "      <td>0.000000</td>\n",
       "      <td>0.000000</td>\n",
       "      <td>0.000000</td>\n",
       "      <td>1.000000</td>\n",
       "      <td>1.000000</td>\n",
       "    </tr>\n",
       "    <tr>\n",
       "      <th>t_score_T1b</th>\n",
       "      <td>15385.0</td>\n",
       "      <td>5.849854e-02</td>\n",
       "      <td>0.234691</td>\n",
       "      <td>0.000000</td>\n",
       "      <td>0.000000</td>\n",
       "      <td>0.000000</td>\n",
       "      <td>0.000000</td>\n",
       "      <td>1.000000</td>\n",
       "    </tr>\n",
       "    <tr>\n",
       "      <th>t_score_T1c</th>\n",
       "      <td>15385.0</td>\n",
       "      <td>6.109847e-02</td>\n",
       "      <td>0.239519</td>\n",
       "      <td>0.000000</td>\n",
       "      <td>0.000000</td>\n",
       "      <td>0.000000</td>\n",
       "      <td>0.000000</td>\n",
       "      <td>1.000000</td>\n",
       "    </tr>\n",
       "    <tr>\n",
       "      <th>t_score_T2a</th>\n",
       "      <td>15385.0</td>\n",
       "      <td>8.423789e-02</td>\n",
       "      <td>0.277753</td>\n",
       "      <td>0.000000</td>\n",
       "      <td>0.000000</td>\n",
       "      <td>0.000000</td>\n",
       "      <td>0.000000</td>\n",
       "      <td>1.000000</td>\n",
       "    </tr>\n",
       "    <tr>\n",
       "      <th>t_score_T2b</th>\n",
       "      <td>15385.0</td>\n",
       "      <td>8.118297e-02</td>\n",
       "      <td>0.273125</td>\n",
       "      <td>0.000000</td>\n",
       "      <td>0.000000</td>\n",
       "      <td>0.000000</td>\n",
       "      <td>0.000000</td>\n",
       "      <td>1.000000</td>\n",
       "    </tr>\n",
       "    <tr>\n",
       "      <th>t_score_T2c</th>\n",
       "      <td>15385.0</td>\n",
       "      <td>8.170296e-02</td>\n",
       "      <td>0.273921</td>\n",
       "      <td>0.000000</td>\n",
       "      <td>0.000000</td>\n",
       "      <td>0.000000</td>\n",
       "      <td>0.000000</td>\n",
       "      <td>1.000000</td>\n",
       "    </tr>\n",
       "    <tr>\n",
       "      <th>t_score_T3a</th>\n",
       "      <td>15385.0</td>\n",
       "      <td>1.034124e-01</td>\n",
       "      <td>0.304507</td>\n",
       "      <td>0.000000</td>\n",
       "      <td>0.000000</td>\n",
       "      <td>0.000000</td>\n",
       "      <td>0.000000</td>\n",
       "      <td>1.000000</td>\n",
       "    </tr>\n",
       "    <tr>\n",
       "      <th>t_score_T3b</th>\n",
       "      <td>15385.0</td>\n",
       "      <td>1.032824e-01</td>\n",
       "      <td>0.304337</td>\n",
       "      <td>0.000000</td>\n",
       "      <td>0.000000</td>\n",
       "      <td>0.000000</td>\n",
       "      <td>0.000000</td>\n",
       "      <td>1.000000</td>\n",
       "    </tr>\n",
       "    <tr>\n",
       "      <th>t_score_T3c</th>\n",
       "      <td>15385.0</td>\n",
       "      <td>9.704257e-02</td>\n",
       "      <td>0.296025</td>\n",
       "      <td>0.000000</td>\n",
       "      <td>0.000000</td>\n",
       "      <td>0.000000</td>\n",
       "      <td>0.000000</td>\n",
       "      <td>1.000000</td>\n",
       "    </tr>\n",
       "    <tr>\n",
       "      <th>t_score_T4</th>\n",
       "      <td>15385.0</td>\n",
       "      <td>2.686383e-01</td>\n",
       "      <td>0.443266</td>\n",
       "      <td>0.000000</td>\n",
       "      <td>0.000000</td>\n",
       "      <td>0.000000</td>\n",
       "      <td>1.000000</td>\n",
       "      <td>1.000000</td>\n",
       "    </tr>\n",
       "    <tr>\n",
       "      <th>n_score_N1</th>\n",
       "      <td>15385.0</td>\n",
       "      <td>2.744231e-01</td>\n",
       "      <td>0.446238</td>\n",
       "      <td>0.000000</td>\n",
       "      <td>0.000000</td>\n",
       "      <td>0.000000</td>\n",
       "      <td>1.000000</td>\n",
       "      <td>1.000000</td>\n",
       "    </tr>\n",
       "    <tr>\n",
       "      <th>n_score_NX</th>\n",
       "      <td>15385.0</td>\n",
       "      <td>1.012675e-01</td>\n",
       "      <td>0.301692</td>\n",
       "      <td>0.000000</td>\n",
       "      <td>0.000000</td>\n",
       "      <td>0.000000</td>\n",
       "      <td>0.000000</td>\n",
       "      <td>1.000000</td>\n",
       "    </tr>\n",
       "    <tr>\n",
       "      <th>m_score_M1a</th>\n",
       "      <td>15385.0</td>\n",
       "      <td>2.827429e-02</td>\n",
       "      <td>0.165761</td>\n",
       "      <td>0.000000</td>\n",
       "      <td>0.000000</td>\n",
       "      <td>0.000000</td>\n",
       "      <td>0.000000</td>\n",
       "      <td>1.000000</td>\n",
       "    </tr>\n",
       "    <tr>\n",
       "      <th>m_score_M1b</th>\n",
       "      <td>15385.0</td>\n",
       "      <td>1.917452e-02</td>\n",
       "      <td>0.137143</td>\n",
       "      <td>0.000000</td>\n",
       "      <td>0.000000</td>\n",
       "      <td>0.000000</td>\n",
       "      <td>0.000000</td>\n",
       "      <td>1.000000</td>\n",
       "    </tr>\n",
       "    <tr>\n",
       "      <th>m_score_M1c</th>\n",
       "      <td>15385.0</td>\n",
       "      <td>3.139422e-02</td>\n",
       "      <td>0.174386</td>\n",
       "      <td>0.000000</td>\n",
       "      <td>0.000000</td>\n",
       "      <td>0.000000</td>\n",
       "      <td>0.000000</td>\n",
       "      <td>1.000000</td>\n",
       "    </tr>\n",
       "    <tr>\n",
       "      <th>stage_IIA</th>\n",
       "      <td>15385.0</td>\n",
       "      <td>1.329217e-01</td>\n",
       "      <td>0.339501</td>\n",
       "      <td>0.000000</td>\n",
       "      <td>0.000000</td>\n",
       "      <td>0.000000</td>\n",
       "      <td>0.000000</td>\n",
       "      <td>1.000000</td>\n",
       "    </tr>\n",
       "    <tr>\n",
       "      <th>stage_IIB</th>\n",
       "      <td>15385.0</td>\n",
       "      <td>2.250894e-01</td>\n",
       "      <td>0.417655</td>\n",
       "      <td>0.000000</td>\n",
       "      <td>0.000000</td>\n",
       "      <td>0.000000</td>\n",
       "      <td>0.000000</td>\n",
       "      <td>1.000000</td>\n",
       "    </tr>\n",
       "    <tr>\n",
       "      <th>stage_III</th>\n",
       "      <td>15385.0</td>\n",
       "      <td>1.710107e-01</td>\n",
       "      <td>0.376531</td>\n",
       "      <td>0.000000</td>\n",
       "      <td>0.000000</td>\n",
       "      <td>0.000000</td>\n",
       "      <td>0.000000</td>\n",
       "      <td>1.000000</td>\n",
       "    </tr>\n",
       "    <tr>\n",
       "      <th>stage_IV</th>\n",
       "      <td>15385.0</td>\n",
       "      <td>4.363341e-01</td>\n",
       "      <td>0.495946</td>\n",
       "      <td>0.000000</td>\n",
       "      <td>0.000000</td>\n",
       "      <td>0.000000</td>\n",
       "      <td>1.000000</td>\n",
       "      <td>1.000000</td>\n",
       "    </tr>\n",
       "    <tr>\n",
       "      <th>race_2.0</th>\n",
       "      <td>15385.0</td>\n",
       "      <td>1.471563e-01</td>\n",
       "      <td>0.354273</td>\n",
       "      <td>0.000000</td>\n",
       "      <td>0.000000</td>\n",
       "      <td>0.000000</td>\n",
       "      <td>0.000000</td>\n",
       "      <td>1.000000</td>\n",
       "    </tr>\n",
       "    <tr>\n",
       "      <th>race_3.0</th>\n",
       "      <td>15385.0</td>\n",
       "      <td>4.062398e-02</td>\n",
       "      <td>0.197424</td>\n",
       "      <td>0.000000</td>\n",
       "      <td>0.000000</td>\n",
       "      <td>0.000000</td>\n",
       "      <td>0.000000</td>\n",
       "      <td>1.000000</td>\n",
       "    </tr>\n",
       "    <tr>\n",
       "      <th>race_4.0</th>\n",
       "      <td>15385.0</td>\n",
       "      <td>7.525512e-01</td>\n",
       "      <td>0.431544</td>\n",
       "      <td>0.000000</td>\n",
       "      <td>1.000000</td>\n",
       "      <td>1.000000</td>\n",
       "      <td>1.000000</td>\n",
       "      <td>1.000000</td>\n",
       "    </tr>\n",
       "    <tr>\n",
       "      <th>side_left</th>\n",
       "      <td>15385.0</td>\n",
       "      <td>1.968151e-01</td>\n",
       "      <td>0.397604</td>\n",
       "      <td>0.000000</td>\n",
       "      <td>0.000000</td>\n",
       "      <td>0.000000</td>\n",
       "      <td>0.000000</td>\n",
       "      <td>1.000000</td>\n",
       "    </tr>\n",
       "    <tr>\n",
       "      <th>side_right</th>\n",
       "      <td>15385.0</td>\n",
       "      <td>2.987325e-01</td>\n",
       "      <td>0.457717</td>\n",
       "      <td>0.000000</td>\n",
       "      <td>0.000000</td>\n",
       "      <td>0.000000</td>\n",
       "      <td>1.000000</td>\n",
       "      <td>1.000000</td>\n",
       "    </tr>\n",
       "  </tbody>\n",
       "</table>\n",
       "</div>"
      ],
      "text/plain": [
       "                        count          mean        std         min  \\\n",
       "gleason_score         15385.0  7.314527e+00   1.915788    3.000000   \n",
       "age                   15385.0  7.697764e+01   8.558195   60.000000   \n",
       "height                15385.0  6.915120e+01   1.076309   65.000000   \n",
       "weight                15385.0  1.763925e+02  13.699992  156.000000   \n",
       "family_history        15385.0  3.801755e-01   0.595275    0.000000   \n",
       "first_degree_history  15385.0  1.900552e-01   0.440881    0.000000   \n",
       "previous_cancer       15385.0  6.168346e-02   0.240588    0.000000   \n",
       "smoker                15385.0  4.926877e-02   0.216436    0.000000   \n",
       "tumor_diagnosis       15385.0  4.898468e+01  14.980506   27.000000   \n",
       "tumor_1_year          15385.0  3.732525e+01  27.949971    0.000000   \n",
       "psa_diagnosis         15385.0  1.166219e+01   3.698760    5.300000   \n",
       "psa_1_year            15385.0  8.934651e+00   5.071649    0.000000   \n",
       "tea                   15385.0  3.114267e+00   2.256658    0.000000   \n",
       "rd_thrpy              15385.0  5.374716e-01   0.498610    0.000000   \n",
       "h_thrpy               15385.0  3.428664e-01   0.474683    0.000000   \n",
       "chm_thrpy             15385.0  6.634384e-01   0.472549    0.000000   \n",
       "cry_thrpy             15385.0  2.388690e-01   0.426406    0.000000   \n",
       "brch_thrpy            15385.0  2.450439e-01   0.430127    0.000000   \n",
       "rad_rem               15385.0  1.745856e-01   0.379625    0.000000   \n",
       "multi_thrpy           15385.0  7.786155e-01   0.415192    0.000000   \n",
       "survival_1_year       15385.0  8.969126e-01   0.304083    0.000000   \n",
       "survival_7_years      15385.0  4.323042e-01   0.495412    0.000000   \n",
       "Symp_0                15385.0 -8.040728e-17   0.500272   -0.745325   \n",
       "Symp_1                15385.0  1.776104e-16   0.489561   -0.749323   \n",
       "Symp_2                15385.0  9.508878e-17   0.487739   -0.731016   \n",
       "Symp_3                15385.0  4.263011e-17   0.476536   -0.806044   \n",
       "Symp_4                15385.0  6.334802e-17   0.431595   -0.309675   \n",
       "Symp_5                15385.0 -3.367111e-17   0.401862   -0.266488   \n",
       "Symp_6                15385.0  5.798814e-17   0.359238   -0.200352   \n",
       "Symp_7                15385.0 -2.122485e-18   0.304781   -0.169261   \n",
       "tumor_6_months_flag   15385.0  3.459214e-01   0.475683    0.000000   \n",
       "psa_6_months_flag     15385.0  3.823204e-01   0.485970    0.000000   \n",
       "t_score_T1b           15385.0  5.849854e-02   0.234691    0.000000   \n",
       "t_score_T1c           15385.0  6.109847e-02   0.239519    0.000000   \n",
       "t_score_T2a           15385.0  8.423789e-02   0.277753    0.000000   \n",
       "t_score_T2b           15385.0  8.118297e-02   0.273125    0.000000   \n",
       "t_score_T2c           15385.0  8.170296e-02   0.273921    0.000000   \n",
       "t_score_T3a           15385.0  1.034124e-01   0.304507    0.000000   \n",
       "t_score_T3b           15385.0  1.032824e-01   0.304337    0.000000   \n",
       "t_score_T3c           15385.0  9.704257e-02   0.296025    0.000000   \n",
       "t_score_T4            15385.0  2.686383e-01   0.443266    0.000000   \n",
       "n_score_N1            15385.0  2.744231e-01   0.446238    0.000000   \n",
       "n_score_NX            15385.0  1.012675e-01   0.301692    0.000000   \n",
       "m_score_M1a           15385.0  2.827429e-02   0.165761    0.000000   \n",
       "m_score_M1b           15385.0  1.917452e-02   0.137143    0.000000   \n",
       "m_score_M1c           15385.0  3.139422e-02   0.174386    0.000000   \n",
       "stage_IIA             15385.0  1.329217e-01   0.339501    0.000000   \n",
       "stage_IIB             15385.0  2.250894e-01   0.417655    0.000000   \n",
       "stage_III             15385.0  1.710107e-01   0.376531    0.000000   \n",
       "stage_IV              15385.0  4.363341e-01   0.495946    0.000000   \n",
       "race_2.0              15385.0  1.471563e-01   0.354273    0.000000   \n",
       "race_3.0              15385.0  4.062398e-02   0.197424    0.000000   \n",
       "race_4.0              15385.0  7.525512e-01   0.431544    0.000000   \n",
       "side_left             15385.0  1.968151e-01   0.397604    0.000000   \n",
       "side_right            15385.0  2.987325e-01   0.457717    0.000000   \n",
       "\n",
       "                             25%         50%         75%         max  \n",
       "gleason_score           6.000000    7.000000    9.000000   14.000000  \n",
       "age                    72.000000   77.000000   84.000000   90.000000  \n",
       "height                 68.000000   69.000000   70.000000   73.000000  \n",
       "weight                167.000000  175.000000  180.000000  208.000000  \n",
       "family_history          0.000000    0.000000    1.000000    5.000000  \n",
       "first_degree_history    0.000000    0.000000    0.000000    4.000000  \n",
       "previous_cancer         0.000000    0.000000    0.000000    1.000000  \n",
       "smoker                  0.000000    0.000000    0.000000    1.000000  \n",
       "tumor_diagnosis        38.000000   47.000000   58.000000   83.000000  \n",
       "tumor_1_year           13.000000   38.251998   55.000000   95.000000  \n",
       "psa_diagnosis           8.700000   11.700894   14.600000   18.000000  \n",
       "psa_1_year              5.400000    9.116809   12.200000   18.700000  \n",
       "tea                     2.000000    3.000000    4.000000   12.000000  \n",
       "rd_thrpy                0.000000    1.000000    1.000000    1.000000  \n",
       "h_thrpy                 0.000000    0.000000    1.000000    1.000000  \n",
       "chm_thrpy               0.000000    1.000000    1.000000    1.000000  \n",
       "cry_thrpy               0.000000    0.000000    0.000000    1.000000  \n",
       "brch_thrpy              0.000000    0.000000    0.000000    1.000000  \n",
       "rad_rem                 0.000000    0.000000    0.000000    1.000000  \n",
       "multi_thrpy             1.000000    1.000000    1.000000    1.000000  \n",
       "survival_1_year         1.000000    1.000000    1.000000    1.000000  \n",
       "survival_7_years        0.000000    0.000000    1.000000    1.000000  \n",
       "Symp_0                 -0.410040   -0.127310    0.497500    0.856557  \n",
       "Symp_1                 -0.393837   -0.157079    0.494792    0.868418  \n",
       "Symp_2                 -0.415223   -0.125720    0.466439    0.933399  \n",
       "Symp_3                 -0.587937    0.257307    0.388164    0.464268  \n",
       "Symp_4                 -0.258339   -0.231151   -0.153439    0.850839  \n",
       "Symp_5                 -0.210617   -0.190070   -0.172360    0.844361  \n",
       "Symp_6                 -0.167217   -0.148883   -0.122082    0.916513  \n",
       "Symp_7                 -0.115157   -0.102081   -0.084624    0.957393  \n",
       "tumor_6_months_flag     0.000000    0.000000    1.000000    1.000000  \n",
       "psa_6_months_flag       0.000000    0.000000    1.000000    1.000000  \n",
       "t_score_T1b             0.000000    0.000000    0.000000    1.000000  \n",
       "t_score_T1c             0.000000    0.000000    0.000000    1.000000  \n",
       "t_score_T2a             0.000000    0.000000    0.000000    1.000000  \n",
       "t_score_T2b             0.000000    0.000000    0.000000    1.000000  \n",
       "t_score_T2c             0.000000    0.000000    0.000000    1.000000  \n",
       "t_score_T3a             0.000000    0.000000    0.000000    1.000000  \n",
       "t_score_T3b             0.000000    0.000000    0.000000    1.000000  \n",
       "t_score_T3c             0.000000    0.000000    0.000000    1.000000  \n",
       "t_score_T4              0.000000    0.000000    1.000000    1.000000  \n",
       "n_score_N1              0.000000    0.000000    1.000000    1.000000  \n",
       "n_score_NX              0.000000    0.000000    0.000000    1.000000  \n",
       "m_score_M1a             0.000000    0.000000    0.000000    1.000000  \n",
       "m_score_M1b             0.000000    0.000000    0.000000    1.000000  \n",
       "m_score_M1c             0.000000    0.000000    0.000000    1.000000  \n",
       "stage_IIA               0.000000    0.000000    0.000000    1.000000  \n",
       "stage_IIB               0.000000    0.000000    0.000000    1.000000  \n",
       "stage_III               0.000000    0.000000    0.000000    1.000000  \n",
       "stage_IV                0.000000    0.000000    1.000000    1.000000  \n",
       "race_2.0                0.000000    0.000000    0.000000    1.000000  \n",
       "race_3.0                0.000000    0.000000    0.000000    1.000000  \n",
       "race_4.0                1.000000    1.000000    1.000000    1.000000  \n",
       "side_left               0.000000    0.000000    0.000000    1.000000  \n",
       "side_right              0.000000    0.000000    1.000000    1.000000  "
      ]
     },
     "execution_count": 53,
     "metadata": {},
     "output_type": "execute_result"
    }
   ],
   "source": [
    "#Checking the summary statistics of numeric variables\n",
    "df.describe().transpose()"
   ]
  },
  {
   "cell_type": "markdown",
   "metadata": {},
   "source": [
    "### Correlation between Numeric variables\n",
    "Correlated numeric variables should be removed in order to avoid multi-collinearity which leads to many problems like-\n",
    "1. destablization of parameter estimates\n",
    "2. increased risk of overfitting\n",
    "3. confound interpretation and many more.\n",
    "\n",
    "I have created a dataframe for numeric variables only and plotted a correlation matrix."
   ]
  },
  {
   "cell_type": "code",
   "execution_count": 54,
   "metadata": {
    "collapsed": true
   },
   "outputs": [],
   "source": [
    "#Finding correlation between numeric variables-\n",
    "#'tumor_diagnosis','tumor_1_year','psa_diagnosis','psa_1_year','age','weight','height''gleason_score','family_history', \n",
    "#'first_degree_history', 'tea'\n",
    "\n",
    "cols=['tumor_diagnosis','tumor_1_year','psa_diagnosis','psa_1_year','age','weight','height','gleason_score','family_history', 'first_degree_history', 'tea']\n",
    "\n",
    "df_num = df[cols]"
   ]
  },
  {
   "cell_type": "code",
   "execution_count": 55,
   "metadata": {
    "collapsed": false
   },
   "outputs": [
    {
     "data": {
      "text/plain": [
       "<matplotlib.axes._subplots.AxesSubplot at 0x27d37ba4ef0>"
      ]
     },
     "execution_count": 55,
     "metadata": {},
     "output_type": "execute_result"
    },
    {
     "data": {
      "image/png": "[encoded data removed]",
      "text/plain": [
       "<matplotlib.figure.Figure at 0x27d378869b0>"
      ]
     },
     "metadata": {},
     "output_type": "display_data"
    }
   ],
   "source": [
    "#Plotting a correlation matrix to identify correlated variables \n",
    "\n",
    "corr = df_num.corr()\n",
    "sns.heatmap(corr, \n",
    "            xticklabels=corr.columns.values,\n",
    "            yticklabels=corr.columns.values,\n",
    "            annot=True, fmt=\".2f\")"
   ]
  },
  {
   "cell_type": "markdown",
   "metadata": {},
   "source": [
    "Inference from the correlation matrix heatmap- \n",
    "1. tumor_diagnosis and tumor_1_year are highly correlated (0.71)\n",
    "2. psa_diagnosis and psa_1_year are highly correlated (0.73)\n",
    "3. family_history and first_degree_history are highly correlated (0.68)\n",
    "\n",
    "From 1 & 2, many inferences can be made using the domain knowledge.\n",
    "\n",
    "Considering 0.65 as the threshold for highly correlated variables, I will remove one out from each pair."
   ]
  },
  {
   "cell_type": "code",
   "execution_count": 56,
   "metadata": {
    "collapsed": true
   },
   "outputs": [],
   "source": [
    "#Removing the following variables from the original dataset\n",
    "\n",
    "df.drop(['tumor_1_year', 'psa_1_year', 'first_degree_history'], axis=1, inplace=True)"
   ]
  },
  {
   "cell_type": "markdown",
   "metadata": {},
   "source": [
    "### Numeric Features Scaling\n",
    "\n",
    "Scaling the features (standardization) results in a standard normal distribution with mean = 0 and standard deviation = 1.\n",
    "Feature scaling is an important step for many machine learning algo."
   ]
  },
  {
   "cell_type": "code",
   "execution_count": 57,
   "metadata": {
    "collapsed": false
   },
   "outputs": [
    {
     "name": "stdout",
     "output_type": "stream",
     "text": [
      "[ -1.96732819e-15   1.66938286e-15  -1.23890498e-14  -1.17166956e-16\n",
      "   1.68954512e-16  -2.93832051e-16   2.66099929e-16  -9.65536826e-18]\n",
      "[ 1.  1.  1.  1.  1.  1.  1.  1.]\n"
     ]
    }
   ],
   "source": [
    "from sklearn import preprocessing\n",
    "\n",
    "df_num = df.loc[:, ['age', 'weight', 'height', 'tumor_diagnosis', 'psa_diagnosis', 'gleason_score', 'tea', 'family_history']]\n",
    "df_num_scaled = preprocessing.scale(df_num)\n",
    "\n",
    "#Checking the mean & the standard deviation\n",
    "\n",
    "print(df_num_scaled.mean(axis=0))\n",
    "print(df_num_scaled.std(axis=0))"
   ]
  },
  {
   "cell_type": "code",
   "execution_count": 58,
   "metadata": {
    "collapsed": false
   },
   "outputs": [],
   "source": [
    "#Replacing the existing numeric variables with the scaled ones\n",
    "\n",
    "df.drop(['age','weight','height','tumor_diagnosis','psa_diagnosis','gleason_score','tea','family_history'], axis=1, inplace=True)\n",
    "df_num_scaled = pd.DataFrame(df_num_scaled)\n",
    "df = pd.concat([df,df_num_scaled], axis=1, join_axes=[df.index])"
   ]
  },
  {
   "cell_type": "code",
   "execution_count": 59,
   "metadata": {
    "collapsed": true
   },
   "outputs": [],
   "source": [
    "#Renaming the scaled features\n",
    "df.rename(columns={0:'age', 1:'weight', 2:'height', 3:'tumor_diagnosis', 4:'psa_diagnosis', 5:'gleason_score', 6:'tea', 7:'family_history'}, inplace=True)"
   ]
  },
  {
   "cell_type": "code",
   "execution_count": 60,
   "metadata": {
    "collapsed": false
   },
   "outputs": [
    {
     "data": {
      "text/plain": [
       "previous_cancer        float64\n",
       "smoker                 float64\n",
       "rd_thrpy                 int64\n",
       "h_thrpy                  int64\n",
       "chm_thrpy                int64\n",
       "cry_thrpy                int64\n",
       "brch_thrpy               int64\n",
       "rad_rem                  int64\n",
       "multi_thrpy              int64\n",
       "survival_1_year          int64\n",
       "survival_7_years         int64\n",
       "Symp_0                 float64\n",
       "Symp_1                 float64\n",
       "Symp_2                 float64\n",
       "Symp_3                 float64\n",
       "Symp_4                 float64\n",
       "Symp_5                 float64\n",
       "Symp_6                 float64\n",
       "Symp_7                 float64\n",
       "tumor_6_months_flag      int64\n",
       "psa_6_months_flag        int64\n",
       "t_score_T1b              uint8\n",
       "t_score_T1c              uint8\n",
       "t_score_T2a              uint8\n",
       "t_score_T2b              uint8\n",
       "t_score_T2c              uint8\n",
       "t_score_T3a              uint8\n",
       "t_score_T3b              uint8\n",
       "t_score_T3c              uint8\n",
       "t_score_T4               uint8\n",
       "n_score_N1               uint8\n",
       "n_score_NX               uint8\n",
       "m_score_M1a              uint8\n",
       "m_score_M1b              uint8\n",
       "m_score_M1c              uint8\n",
       "stage_IIA                uint8\n",
       "stage_IIB                uint8\n",
       "stage_III                uint8\n",
       "stage_IV                 uint8\n",
       "race_2.0                 uint8\n",
       "race_3.0                 uint8\n",
       "race_4.0                 uint8\n",
       "side_left                uint8\n",
       "side_right               uint8\n",
       "age                    float64\n",
       "weight                 float64\n",
       "height                 float64\n",
       "tumor_diagnosis        float64\n",
       "psa_diagnosis          float64\n",
       "gleason_score          float64\n",
       "tea                    float64\n",
       "family_history         float64\n",
       "dtype: object"
      ]
     },
     "execution_count": 60,
     "metadata": {},
     "output_type": "execute_result"
    }
   ],
   "source": [
    "df.dtypes"
   ]
  },
  {
   "cell_type": "markdown",
   "metadata": {
    "collapsed": true
   },
   "source": [
    "# Creating Predictive Models\n",
    "\n",
    "Initially, I split the data into 75% training and 25% validation. Then, I have used decision trees to find out the important variables, i.e. the variables which are at the top of the tree. I have then used those important variables and created models using Logistic Regression, Random Forests and Gradient Boosting, and predicted on the validation data.\n",
    "\n",
    "Later, I also tried using GridSearchCV for tuning the parameters along with k-fold cross validation and then selected the best model out of each algorithm. Finally. selected the best model from the three algorithms and made predictions on the test data."
   ]
  },
  {
   "cell_type": "code",
   "execution_count": 61,
   "metadata": {
    "collapsed": false
   },
   "outputs": [],
   "source": [
    "#Creating target series\n",
    "target=df['survival_7_years']"
   ]
  },
  {
   "cell_type": "code",
   "execution_count": 62,
   "metadata": {
    "collapsed": false
   },
   "outputs": [
    {
     "data": {
      "text/plain": [
       "(15385, 51)"
      ]
     },
     "execution_count": 62,
     "metadata": {},
     "output_type": "execute_result"
    }
   ],
   "source": [
    "#Dropping the target variable from the data set\n",
    "df.drop('survival_7_years',axis=1,inplace=True)\n",
    "df.shape"
   ]
  },
  {
   "cell_type": "code",
   "execution_count": 63,
   "metadata": {
    "collapsed": false
   },
   "outputs": [
    {
     "name": "stdout",
     "output_type": "stream",
     "text": [
      "(15385, 51)\n",
      "(15385,)\n"
     ]
    }
   ],
   "source": [
    "#Converting them to numpy arrays\n",
    "X=np.array(df)\n",
    "y=np.array(target)\n",
    "print(X.shape)\n",
    "print(y.shape)"
   ]
  },
  {
   "cell_type": "code",
   "execution_count": 64,
   "metadata": {
    "collapsed": false
   },
   "outputs": [
    {
     "name": "stdout",
     "output_type": "stream",
     "text": [
      "6651\n",
      "8734\n"
     ]
    }
   ],
   "source": [
    "#Displaying the distribution of the target variable\n",
    "\n",
    "print(len(y[y==1]))\n",
    "print(len(y[y==0]))"
   ]
  },
  {
   "cell_type": "markdown",
   "metadata": {
    "collapsed": true
   },
   "source": [
    "It is a balanced data set, so no need to do any oversampling or undersampling"
   ]
  },
  {
   "cell_type": "code",
   "execution_count": 65,
   "metadata": {
    "collapsed": false
   },
   "outputs": [
    {
     "name": "stdout",
     "output_type": "stream",
     "text": [
      "(11538, 51) (3847, 51) (11538,) (3847,)\n"
     ]
    }
   ],
   "source": [
    "#Splitting the data set into train and test (75:25)\n",
    "from sklearn.cross_validation import train_test_split\n",
    "\n",
    "X_train,X_test,y_train,y_test=train_test_split(X,y,test_size=0.25,random_state=1)\n",
    "print(X_train.shape,X_test.shape,y_train.shape,y_test.shape)"
   ]
  },
  {
   "cell_type": "markdown",
   "metadata": {},
   "source": [
    "### Decision Tree Feature Importance\n",
    "The importance of a feature is computed as the normalized total reduction of the criterion brought by that feature, which is also known as the Gini importance"
   ]
  },
  {
   "cell_type": "code",
   "execution_count": 66,
   "metadata": {
    "collapsed": false
   },
   "outputs": [
    {
     "data": {
      "text/plain": [
       "array([ 0.        ,  0.        ,  0.12110322,  0.        ,  0.        ,\n",
       "        0.        ,  0.        ,  0.006906  ,  0.        ,  0.43118367,\n",
       "        0.        ,  0.        ,  0.        ,  0.0025396 ,  0.        ,\n",
       "        0.        ,  0.00529029,  0.02895022,  0.        ,  0.        ,\n",
       "        0.        ,  0.        ,  0.        ,  0.        ,  0.        ,\n",
       "        0.00358237,  0.        ,  0.        ,  0.        ,  0.22308879,\n",
       "        0.        ,  0.00300828,  0.00504281,  0.00281312,  0.        ,\n",
       "        0.        ,  0.        ,  0.        ,  0.        ,  0.        ,\n",
       "        0.00420753,  0.        ,  0.        ,  0.00633511,  0.00925635,\n",
       "        0.00313373,  0.01097929,  0.00877222,  0.12010123,  0.        ,\n",
       "        0.00370616])"
      ]
     },
     "execution_count": 66,
     "metadata": {},
     "output_type": "execute_result"
    }
   ],
   "source": [
    "#Decision Trees\n",
    "\n",
    "from sklearn import tree\n",
    "\n",
    "dt = tree.DecisionTreeClassifier(criterion = \"gini\", random_state = 100, max_depth=6, min_samples_leaf=5)\n",
    "dt.fit(X_train, y_train)\n",
    "\n",
    "#Displaying the Gini importance value\n",
    "dt.feature_importances_"
   ]
  },
  {
   "cell_type": "code",
   "execution_count": 67,
   "metadata": {
    "collapsed": false
   },
   "outputs": [],
   "source": [
    "#Selecting only the important features as per the decision tree\n",
    "df_new=df.iloc[:,[2,7,9,13,16,17,25,29,31,32,33,40,43,44,45,46,47,48,50]]"
   ]
  },
  {
   "cell_type": "markdown",
   "metadata": {},
   "source": [
    "The 19 selected variables are:\n",
    "1. rd_thrpy\n",
    "2. rad_rem\n",
    "3. survival_1_year\n",
    "4. Symp_3\n",
    "5. Symp_6\n",
    "6. Symp_7\n",
    "7. t_score_T3a\n",
    "8. n_score_N1\n",
    "9. m_score_M1a\n",
    "10. m_score_M1b\n",
    "11. m_score_M1c\n",
    "12. race_4.0\n",
    "13. age\n",
    "14. weight\n",
    "15. height\n",
    "16. tumor_diagnosis\n",
    "17. psa_diagnosis\n",
    "18. gleason_score\n",
    "19. family_history       "
   ]
  },
  {
   "cell_type": "code",
   "execution_count": 68,
   "metadata": {
    "collapsed": true
   },
   "outputs": [],
   "source": [
    "#Importing libraries & functions for evaluation metrics\n",
    "from sklearn import metrics\n",
    "from sklearn.metrics import classification_report"
   ]
  },
  {
   "cell_type": "code",
   "execution_count": 69,
   "metadata": {
    "collapsed": false
   },
   "outputs": [
    {
     "data": {
      "text/plain": [
       "(15385, 19)"
      ]
     },
     "execution_count": 69,
     "metadata": {},
     "output_type": "execute_result"
    }
   ],
   "source": [
    "#converting the new dataset into numpy array & displaying its shape\n",
    "X_new=np.array(df_new)\n",
    "X_new.shape"
   ]
  },
  {
   "cell_type": "code",
   "execution_count": 70,
   "metadata": {
    "collapsed": false
   },
   "outputs": [
    {
     "name": "stdout",
     "output_type": "stream",
     "text": [
      "(11538, 19) (3847, 19) (11538,) (3847,)\n"
     ]
    }
   ],
   "source": [
    "#Splitting the new data set into train and test (75:25)\n",
    "\n",
    "X_train,X_test,y_train,y_test=train_test_split(X_new,y,test_size=0.25,random_state=1)\n",
    "print(X_train.shape,X_test.shape,y_train.shape,y_test.shape)"
   ]
  },
  {
   "cell_type": "code",
   "execution_count": 71,
   "metadata": {
    "collapsed": false
   },
   "outputs": [
    {
     "name": "stdout",
     "output_type": "stream",
     "text": [
      "Confusion Matrix:\n",
      " [[1519  656]\n",
      " [ 618 1054]]\n",
      "Accuracy:\n",
      " 0.668832856772\n",
      "Precision:\n",
      " 0.616374269006\n",
      "Recall:\n",
      " 0.63038277512\n",
      "AUC:\n",
      " 0.740742176759\n"
     ]
    },
    {
     "data": {
      "image/png": "[encoded data removed]",
      "text/plain": [
       "<matplotlib.figure.Figure at 0x27d30802b70>"
      ]
     },
     "metadata": {},
     "output_type": "display_data"
    },
    {
     "name": "stdout",
     "output_type": "stream",
     "text": [
      "             precision    recall  f1-score   support\n",
      "\n",
      "          0       0.71      0.70      0.70      2175\n",
      "          1       0.62      0.63      0.62      1672\n",
      "\n",
      "avg / total       0.67      0.67      0.67      3847\n",
      "\n"
     ]
    }
   ],
   "source": [
    "#Logistic Regression\n",
    "from sklearn.linear_model import LogisticRegression\n",
    "\n",
    "#Fitting the logistic regression model\n",
    "logreg=LogisticRegression()\n",
    "logreg.fit(X_train,y_train)\n",
    "y_logreg=logreg.predict(X_test)\n",
    "y_logreg_prob=logreg.predict_proba(X_test)[:,1]\n",
    "\n",
    "#Evaluating performance metrics\n",
    "print(\"Confusion Matrix:\\n\",metrics.confusion_matrix(y_test,y_logreg))\n",
    "print(\"Accuracy:\\n\",metrics.accuracy_score(y_test,y_logreg))\n",
    "print(\"Precision:\\n\",metrics.precision_score(y_test,y_logreg))\n",
    "print(\"Recall:\\n\",metrics.recall_score(y_test,y_logreg))\n",
    "print(\"AUC:\\n\",metrics.roc_auc_score(y_test,y_logreg_prob))\n",
    "auc=metrics.roc_auc_score(y_test,y_logreg_prob)\n",
    "\n",
    "#Plotting the ROC curve\n",
    "fpr,tpr,thresholds=metrics.roc_curve(y_test,y_logreg_prob)\n",
    "plt.plot(fpr,tpr,'b', label='AUC = %0.2f'% auc)\n",
    "plt.plot([0,1],[0,1],'r-.')\n",
    "plt.xlim([-0.2,1.2])\n",
    "plt.ylim([-0.2,1.2])\n",
    "plt.title('Receiver Operating Characteristic\\nLogistic Regression')\n",
    "plt.legend(loc='lower right')\n",
    "plt.ylabel('True Positive Rate')\n",
    "plt.xlabel('False Positive Rate')\n",
    "plt.show()\n",
    "\n",
    "#Printing the other metrics - precision, recall, F-1 score, support\n",
    "print(classification_report(y_test,y_logreg))"
   ]
  },
  {
   "cell_type": "code",
   "execution_count": 72,
   "metadata": {
    "collapsed": false
   },
   "outputs": [
    {
     "name": "stdout",
     "output_type": "stream",
     "text": [
      "Confusion Matrix:\n",
      " [[1499  676]\n",
      " [ 626 1046]]\n",
      "Accuracy:\n",
      " 0.661554458019\n",
      "Precision:\n",
      " 0.607433217189\n",
      "Recall:\n",
      " 0.625598086124\n",
      "AUC:\n",
      " 0.728205879118\n"
     ]
    },
    {
     "data": {
      "image/png": "[encoded data removed]",
      "text/plain": [
       "<matplotlib.figure.Figure at 0x27d37653f98>"
      ]
     },
     "metadata": {},
     "output_type": "display_data"
    },
    {
     "name": "stdout",
     "output_type": "stream",
     "text": [
      "             precision    recall  f1-score   support\n",
      "\n",
      "          0       0.71      0.69      0.70      2175\n",
      "          1       0.61      0.63      0.62      1672\n",
      "\n",
      "avg / total       0.66      0.66      0.66      3847\n",
      "\n"
     ]
    }
   ],
   "source": [
    "#Random Forest\n",
    "from sklearn.ensemble import RandomForestClassifier\n",
    "\n",
    "#Fitting the random forest model\n",
    "rf=RandomForestClassifier(n_estimators=150, random_state=3)\n",
    "rf.fit(X_train,y_train)\n",
    "y_rf=rf.predict(X_test)\n",
    "y_rf_prob=rf.predict_proba(X_test)[:,1]\n",
    "\n",
    "#Evaluating performance metrics\n",
    "print(\"Confusion Matrix:\\n\",metrics.confusion_matrix(y_test,y_rf))\n",
    "print(\"Accuracy:\\n\",metrics.accuracy_score(y_test,y_rf))\n",
    "print(\"Precision:\\n\",metrics.precision_score(y_test,y_rf))\n",
    "print(\"Recall:\\n\",metrics.recall_score(y_test,y_rf))\n",
    "print(\"AUC:\\n\",metrics.roc_auc_score(y_test,y_rf_prob))\n",
    "auc=metrics.roc_auc_score(y_test,y_rf_prob)\n",
    "\n",
    "#Plotting the ROC curve\n",
    "fpr,tpr,thresholds=metrics.roc_curve(y_test,y_rf_prob)\n",
    "plt.plot(fpr,tpr,'b', label='AUC = %0.2f'% auc)\n",
    "plt.plot([0,1],[0,1],'r-.')\n",
    "plt.xlim([-0.2,1.2])\n",
    "plt.ylim([-0.2,1.2])\n",
    "plt.title('Receiver Operating Characteristic\\nRandom Forest')\n",
    "plt.legend(loc='lower right')\n",
    "plt.ylabel('True Positive Rate')\n",
    "plt.xlabel('False Positive Rate')\n",
    "plt.show()\n",
    "\n",
    "#Printing the other metrics - precision, recall, F-1 score, support\n",
    "print(classification_report(y_test,y_rf))"
   ]
  },
  {
   "cell_type": "code",
   "execution_count": 73,
   "metadata": {
    "collapsed": false
   },
   "outputs": [
    {
     "name": "stdout",
     "output_type": "stream",
     "text": [
      "Confusion Matrix:\n",
      " [[1458  717]\n",
      " [ 495 1177]]\n",
      "Accuracy:\n",
      " 0.684949311152\n",
      "Precision:\n",
      " 0.621436114044\n",
      "Recall:\n",
      " 0.703947368421\n",
      "AUC:\n",
      " 0.728205879118\n"
     ]
    },
    {
     "data": {
      "image/png": "[encoded data removed]",
      "text/plain": [
       "<matplotlib.figure.Figure at 0x27d39165048>"
      ]
     },
     "metadata": {},
     "output_type": "display_data"
    },
    {
     "name": "stdout",
     "output_type": "stream",
     "text": [
      "             precision    recall  f1-score   support\n",
      "\n",
      "          0       0.75      0.67      0.71      2175\n",
      "          1       0.62      0.70      0.66      1672\n",
      "\n",
      "avg / total       0.69      0.68      0.69      3847\n",
      "\n"
     ]
    }
   ],
   "source": [
    "#Gradient Boosting\n",
    "from sklearn.ensemble import GradientBoostingClassifier\n",
    "\n",
    "#Fitting the gradient boosting model\n",
    "gb=GradientBoostingClassifier(learning_rate=0.04, random_state=3)\n",
    "gb.fit(X_train,y_train)\n",
    "y_gb=gb.predict(X_test)\n",
    "y_gb_prob=gb.predict_proba(X_test)[:,1]\n",
    "\n",
    "#Evaluating performance metrics\n",
    "print(\"Confusion Matrix:\\n\",metrics.confusion_matrix(y_test,y_gb))\n",
    "print(\"Accuracy:\\n\",metrics.accuracy_score(y_test,y_gb))\n",
    "print(\"Precision:\\n\",metrics.precision_score(y_test,y_gb))\n",
    "print(\"Recall:\\n\",metrics.recall_score(y_test,y_gb))\n",
    "print(\"AUC:\\n\",metrics.roc_auc_score(y_test,y_rf_prob))\n",
    "auc=metrics.roc_auc_score(y_test,y_gb_prob)\n",
    "\n",
    "#Plotting the ROC curve\n",
    "fpr,tpr,thresholds=metrics.roc_curve(y_test,y_gb_prob)\n",
    "plt.plot(fpr,tpr,'b', label='AUC = %0.2f'% auc)\n",
    "plt.plot([0,1],[0,1],'r-.')\n",
    "plt.xlim([-0.2,1.2])\n",
    "plt.ylim([-0.2,1.2])\n",
    "plt.title('Receiver Operating Characteristic\\nGradient Boosting')\n",
    "plt.legend(loc='lower right')\n",
    "plt.ylabel('True Positive Rate')\n",
    "plt.xlabel('False Positive Rate')\n",
    "plt.show()\n",
    "\n",
    "#Printing the other metrics - precision, recall, F-1 score, support\n",
    "print(classification_report(y_test,y_gb))"
   ]
  },
  {
   "cell_type": "markdown",
   "metadata": {},
   "source": [
    "Using the training-test split, the Gradient Boosting model performed the best on the validation data with the following metric values:\n",
    "1. Accuracy = 0.685\n",
    "2. Precision = 0.69\n",
    "3. Recall = 0.68\n",
    "4. F1 score = 0.69\n",
    "5. AUC = 0.75"
   ]
  },
  {
   "cell_type": "markdown",
   "metadata": {},
   "source": [
    "Next, I have used GridSearchCV along with 5-fold cross-validation to find the best parameters for each of the models."
   ]
  },
  {
   "cell_type": "code",
   "execution_count": 74,
   "metadata": {
    "collapsed": false
   },
   "outputs": [],
   "source": [
    "#Importing required libraries and functions\n",
    "\n",
    "from sklearn.grid_search import GridSearchCV\n",
    "from sklearn.cross_validation import KFold"
   ]
  },
  {
   "cell_type": "code",
   "execution_count": 75,
   "metadata": {
    "collapsed": false
   },
   "outputs": [],
   "source": [
    "#Defining 5-fold CV\n",
    "fold = KFold(len(y), n_folds=5, shuffle=True, random_state=777)"
   ]
  },
  {
   "cell_type": "code",
   "execution_count": 76,
   "metadata": {
    "collapsed": false
   },
   "outputs": [
    {
     "name": "stdout",
     "output_type": "stream",
     "text": [
      "Best Accuracy: 0.567695807605\n",
      "Best Parameters: {'C': 1e-10, 'penalty': 'l1'}\n",
      "Best Estimator: LogisticRegression(C=1e-10, class_weight=None, dual=False, fit_intercept=True,\n",
      "          intercept_scaling=1, max_iter=10000, multi_class='ovr', n_jobs=1,\n",
      "          penalty='l1', random_state=777, solver='liblinear', tol=10,\n",
      "          verbose=0, warm_start=False)\n"
     ]
    }
   ],
   "source": [
    "#Grid Search CV - Logistic Regression \n",
    "\n",
    "grid = {\n",
    "        'C': np.power(10.0, np.arange(-10, 10)), \n",
    "        'penalty': ['l1', 'l2']\n",
    "       }\n",
    "clf_lr_1 = LogisticRegression(random_state=777, max_iter=10000, tol=10)\n",
    "gs = GridSearchCV(clf_lr_1, grid, scoring='accuracy', cv=fold)\n",
    "gs.fit(X_new, y)\n",
    "\n",
    "print ('Best Accuracy:', gs.best_score_)\n",
    "print('Best Parameters:', gs.best_params_)\n",
    "print('Best Estimator:', gs.best_estimator_)"
   ]
  },
  {
   "cell_type": "code",
   "execution_count": 77,
   "metadata": {
    "collapsed": false
   },
   "outputs": [
    {
     "name": "stdout",
     "output_type": "stream",
     "text": [
      "Best Accuracy: 0.673708157296\n",
      "Best Parameters: {'max_depth': 7, 'criterion': 'entropy', 'n_estimators': 200, 'min_samples_split': 3}\n",
      "Best Estimator: RandomForestClassifier(bootstrap=True, class_weight=None, criterion='entropy',\n",
      "            max_depth=7, max_features='auto', max_leaf_nodes=None,\n",
      "            min_samples_leaf=1, min_samples_split=3,\n",
      "            min_weight_fraction_leaf=0.0, n_estimators=200, n_jobs=1,\n",
      "            oob_score=False, random_state=777, verbose=0, warm_start=False)\n"
     ]
    }
   ],
   "source": [
    "#Grid Search CV - Random Forests \n",
    "\n",
    "grid = {\n",
    "    'max_depth' : [5, 6, 7],\n",
    "    'min_samples_split' :[3, 4],\n",
    "    'n_estimators': [100, 150, 200],\n",
    "    'criterion': ['gini', 'entropy']\n",
    "}\n",
    "\n",
    "clf_rf_1 = RandomForestClassifier(random_state=777)\n",
    "gs = GridSearchCV(clf_rf_1, grid, scoring='accuracy', cv=fold)\n",
    "gs.fit(X_new, y)\n",
    "\n",
    "print ('Best Accuracy:', gs.best_score_)\n",
    "print('Best Parameters:', gs.best_params_)\n",
    "print('Best Estimator:', gs.best_estimator_)"
   ]
  },
  {
   "cell_type": "code",
   "execution_count": 78,
   "metadata": {
    "collapsed": false
   },
   "outputs": [
    {
     "name": "stdout",
     "output_type": "stream",
     "text": [
      "Best Accuracy: 0.676633084173\n",
      "Best Parameters: {'learning_rate': 0.05, 'max_features': 1.0, 'max_depth': 4, 'min_samples_leaf': 50}\n",
      "Best Estimator: GradientBoostingClassifier(init=None, learning_rate=0.05, loss='deviance',\n",
      "              max_depth=4, max_features=1.0, max_leaf_nodes=None,\n",
      "              min_samples_leaf=50, min_samples_split=2,\n",
      "              min_weight_fraction_leaf=0.0, n_estimators=100,\n",
      "              presort='auto', random_state=777, subsample=1.0, verbose=0,\n",
      "              warm_start=False)\n"
     ]
    }
   ],
   "source": [
    "#Grid Search CV - Gradient Boosting \n",
    "\n",
    "grid = {\n",
    "    'learning_rate': [0.1, 0.05, 0.04, 0.01],\n",
    "    'max_depth': [3, 4, 5],\n",
    "    'min_samples_leaf': [20, 50, 100],\n",
    "    'max_features': [1.0, 0.3, 0.1] \n",
    "    }\n",
    "\n",
    "clf_gb_1 = GradientBoostingClassifier(random_state=777)\n",
    "gs = GridSearchCV(clf_gb_1, grid, scoring='accuracy', cv=fold)\n",
    "gs.fit(X_new, y)\n",
    "\n",
    "print ('Best Accuracy:', gs.best_score_)\n",
    "print('Best Parameters:', gs.best_params_)\n",
    "print('Best Estimator:', gs.best_estimator_)"
   ]
  },
  {
   "cell_type": "markdown",
   "metadata": {},
   "source": [
    "Looking at the results of the GridSearchCV on the three models, I will select Gradient Boosting as my final model.\n",
    "It has the best accuracy of 67.66% from the cross-validation approach. But using the train-test split, we got 68.5% accuracy. \n",
    "Since, the cross-validation uses all the data as training and testing, I will go with that one.\n",
    "\n",
    "So, my final model is:\n",
    "\n",
    "GradientBoostingClassifier\n",
    "(init=None, learning_rate=0.05, loss='deviance', max_depth=4, max_features=1.0, \n",
    " max_leaf_nodes=None, min_samples_leaf=50, min_samples_split=2, min_weight_fraction_leaf=0.0, \n",
    " n_estimators=100, presort='auto', random_state=777, subsample=1.0, verbose=0, warm_start=False)\n",
    " \n",
    "I will use this model to predict on the test data."
   ]
  },
  {
   "cell_type": "markdown",
   "metadata": {},
   "source": [
    "# Predicting on Test Data\n",
    "\n",
    "I have performed all the transformation on the test data using the same code and saved that as a CSV file. I will upload the same and make predictions on it."
   ]
  },
  {
   "cell_type": "code",
   "execution_count": 79,
   "metadata": {
    "collapsed": true
   },
   "outputs": [],
   "source": [
    "#Importing the test data\n",
    "df_test=pd.read_csv('C:\\\\Users\\\\User\\\\Documents\\\\test_data.csv')"
   ]
  },
  {
   "cell_type": "code",
   "execution_count": 80,
   "metadata": {
    "collapsed": true
   },
   "outputs": [],
   "source": [
    "#Converting it to a numpy array\n",
    "X_testing=np.array(df_test)"
   ]
  },
  {
   "cell_type": "code",
   "execution_count": 81,
   "metadata": {
    "collapsed": false
   },
   "outputs": [],
   "source": [
    "#Using the final model (Gradient Descent) to make predictions \n",
    "\n",
    "gb_test=GradientBoostingClassifier(init=None, learning_rate=0.05, loss='deviance',\n",
    "                              max_depth=4, max_features=1.0, max_leaf_nodes=None,\n",
    "                              min_samples_leaf=50, min_samples_split=2,\n",
    "                              min_weight_fraction_leaf=0.0, n_estimators=100,\n",
    "                              presort='auto', random_state=777, subsample=1.0, verbose=0,\n",
    "                              warm_start=False)\n",
    "\n",
    "gb_test.fit(X_train, y_train)\n",
    "\n",
    "y_gb_pred=gb.predict(X_testing)"
   ]
  },
  {
   "cell_type": "code",
   "execution_count": 82,
   "metadata": {
    "collapsed": false
   },
   "outputs": [
    {
     "data": {
      "text/plain": [
       "11531"
      ]
     },
     "execution_count": 82,
     "metadata": {},
     "output_type": "execute_result"
    }
   ],
   "source": [
    "#Checking the length of the prediction array\n",
    "len(y_gb_pred)"
   ]
  },
  {
   "cell_type": "code",
   "execution_count": 83,
   "metadata": {
    "collapsed": true
   },
   "outputs": [],
   "source": [
    "#Converting the predictions to CSV\n",
    "\n",
    "test_pred = pd.DataFrame(y_gb_pred)\n",
    "test_pred.to_csv(\"test_pred.csv\")"
   ]
  }
 ],
 "metadata": {
  "anaconda-cloud": {},
  "kernelspec": {
   "display_name": "Python [default]",
   "language": "python",
   "name": "python3"
  },
  "language_info": {
   "codemirror_mode": {
    "name": "ipython",
    "version": 3
   },
   "file_extension": ".py",
   "mimetype": "text/x-python",
   "name": "python",
   "nbconvert_exporter": "python",
   "pygments_lexer": "ipython3",
   "version": "3.5.2"
  }
 },
 "nbformat": 4,
 "nbformat_minor": 2
}
